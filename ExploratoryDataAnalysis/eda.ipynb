{
 "cells": [
  {
   "cell_type": "code",
   "execution_count": 1,
   "metadata": {
    "ExecuteTime": {
     "end_time": "2024-08-26T22:08:31.332739Z",
     "start_time": "2024-08-26T22:08:30.833396Z"
    }
   },
   "outputs": [],
   "source": [
    "from globals import ROOT_DIRECTORY\n",
    "import pandas as pd\n",
    "\n",
    "#df = Utils.read_file( ROOT_DIRECTORY + \"/Data/V2/Raw/Database_Renouvelant_contrat.csv\")\n",
    "#df = pd.read_csv(ROOT_DIRECTORY + f\"/Data/V2/Raw/Database_Renouvelant_contrat.csv\", encoding='latin1')\n",
    "\n",
    "data_directory = \"Data/data.csv\"\n",
    "#df = pd.read_csv(f\"{ROOT_DIRECTORY}Data/V2/Raw/Database_Renouvelant_contrat.csv\", low_memory=False, encoding='ISO-8859-1')\n",
    "df = pd.read_csv(f\"{ROOT_DIRECTORY}{data_directory}\", low_memory=False)\n",
    "#df = pd.read_excel(f\"{ROOT_DIRECTORY}Data/V1/Raw/client data.xlsx\")\n"
   ]
  },
  {
   "cell_type": "code",
   "outputs": [
    {
     "data": {
      "text/plain": "Index(['ID_CONT', 'ID_BAREME_FI', 'CT_ID_LP', 'SCORE_NOTE', 'C_DSA',\n       'CO_Client', 'CODE_POSTAL', 'SITFAM_ID', 'PROFES_ID', 'HABITA_ID',\n       'YEAR_NAISSANCE', 'PARTIC_N_ENFANT', 'PARTIC_MT_REVENU_EURO',\n       'PARTIC_MT_AUTRE_REVENU_EURO', 'PARTIC_MT_CHARGES_EURO',\n       'PARTIC_MT_AUTRES_CREDITS_EURO', 'YEAR_EMPLOI', 'YEAR_HABITAT',\n       'VAL_APPORT_TTC_EURO', 'VAL_PL_TTC_EURO', 'CT_AM_FIN_AMOUNT_EURO',\n       'MT_MENS', 'NB_ECH', 'OA', 'ASSUR', 'ID_MARQ_BIEN', 'VEH_DES_ENGTYPE',\n       'ID_ETAT_BIEN', 'ID_NAT_BIEN', 'SERIE_LIBELLE',\n       'VAL_CATALOGUE_TTC_EURO', 'VAL_OPTION_TTC_EURO', 'VAL_ACC_REM_TTC_EURO',\n       'VAL_ARGUS_BIEN_EURO', 'VAL_VR_TTC_EURO', 'Ancien_renouvelant',\n       'Renouvelant', 'Consent'],\n      dtype='object')"
     },
     "execution_count": 2,
     "metadata": {},
     "output_type": "execute_result"
    }
   ],
   "source": [
    "df.columns"
   ],
   "metadata": {
    "collapsed": false,
    "ExecuteTime": {
     "end_time": "2024-08-26T22:09:19.608395Z",
     "start_time": "2024-08-26T22:09:19.499037Z"
    }
   },
   "execution_count": 2
  },
  {
   "cell_type": "code",
   "outputs": [
    {
     "data": {
      "text/plain": "ID_CONT                           object\nID_BAREME_FI                      object\nCT_ID_LP                           int64\nSCORE_NOTE                       float64\nC_DSA                            float64\nCO_Client                          int64\nCODE_POSTAL                       object\nSITFAM_ID                         object\nPROFES_ID                        float64\nHABITA_ID                         object\nYEAR_NAISSANCE                   float64\nPARTIC_N_ENFANT                  float64\nPARTIC_MT_REVENU_EURO            float64\nPARTIC_MT_AUTRE_REVENU_EURO      float64\nPARTIC_MT_CHARGES_EURO           float64\nPARTIC_MT_AUTRES_CREDITS_EURO    float64\nYEAR_EMPLOI                      float64\nYEAR_HABITAT                     float64\nVAL_APPORT_TTC_EURO              float64\nVAL_PL_TTC_EURO                  float64\nCT_AM_FIN_AMOUNT_EURO            float64\nMT_MENS                          float64\nNB_ECH                           float64\nOA                               float64\nASSUR                            float64\nID_MARQ_BIEN                      object\nVEH_DES_ENGTYPE                   object\nID_ETAT_BIEN                      object\nID_NAT_BIEN                       object\nSERIE_LIBELLE                     object\nVAL_CATALOGUE_TTC_EURO           float64\nVAL_OPTION_TTC_EURO              float64\nVAL_ACC_REM_TTC_EURO             float64\nVAL_ARGUS_BIEN_EURO              float64\nVAL_VR_TTC_EURO                  float64\nAncien_renouvelant                 int64\nRenouvelant                        int64\nConsent                          float64\ndtype: object"
     },
     "execution_count": 6,
     "metadata": {},
     "output_type": "execute_result"
    }
   ],
   "source": [
    "import seaborn as sns\n",
    "\n",
    "sns.boxplot(df[''])\n",
    "\n",
    "df.dtypes"
   ],
   "metadata": {
    "collapsed": false,
    "ExecuteTime": {
     "end_time": "2024-08-25T15:58:13.531500Z",
     "start_time": "2024-08-25T15:58:13.480991Z"
    }
   },
   "execution_count": 6
  },
  {
   "cell_type": "code",
   "outputs": [
    {
     "data": {
      "text/plain": "       YEAR_NAISSANCE  PARTIC_N_ENFANT  PARTIC_MT_REVENU_EURO  \\\ncount   143359.000000    143359.000000          143359.000000   \nmean      1968.409643         0.857512            4053.559907   \nstd         12.610692         1.016166            3571.906754   \nmin       1940.000000         0.000000               0.000000   \n25%       1960.000000         0.000000            2045.065000   \n50%       1968.000000         0.000000            2963.000000   \n75%       1977.000000         2.000000            4665.170000   \nmax       1995.000000        12.000000           22695.000000   \n\n       PARTIC_MT_AUTRE_REVENU_EURO  PARTIC_MT_CHARGES_EURO  \\\ncount                143359.000000           143359.000000   \nmean                    329.914337              479.286387   \nstd                     961.137268              627.166521   \nmin                       0.000000                0.000000   \n25%                       0.000000                0.000000   \n50%                       0.000000              250.000000   \n75%                     100.000000              800.000000   \nmax                    6327.100000             3000.000000   \n\n       PARTIC_MT_AUTRES_CREDITS_EURO  \ncount                  143359.000000  \nmean                       70.067488  \nstd                       218.578678  \nmin                         0.000000  \n25%                         0.000000  \n50%                         0.000000  \n75%                         0.000000  \nmax                      1340.420000  ",
      "text/html": "<div>\n<style scoped>\n    .dataframe tbody tr th:only-of-type {\n        vertical-align: middle;\n    }\n\n    .dataframe tbody tr th {\n        vertical-align: top;\n    }\n\n    .dataframe thead th {\n        text-align: right;\n    }\n</style>\n<table border=\"1\" class=\"dataframe\">\n  <thead>\n    <tr style=\"text-align: right;\">\n      <th></th>\n      <th>YEAR_NAISSANCE</th>\n      <th>PARTIC_N_ENFANT</th>\n      <th>PARTIC_MT_REVENU_EURO</th>\n      <th>PARTIC_MT_AUTRE_REVENU_EURO</th>\n      <th>PARTIC_MT_CHARGES_EURO</th>\n      <th>PARTIC_MT_AUTRES_CREDITS_EURO</th>\n    </tr>\n  </thead>\n  <tbody>\n    <tr>\n      <th>count</th>\n      <td>143359.000000</td>\n      <td>143359.000000</td>\n      <td>143359.000000</td>\n      <td>143359.000000</td>\n      <td>143359.000000</td>\n      <td>143359.000000</td>\n    </tr>\n    <tr>\n      <th>mean</th>\n      <td>1968.409643</td>\n      <td>0.857512</td>\n      <td>4053.559907</td>\n      <td>329.914337</td>\n      <td>479.286387</td>\n      <td>70.067488</td>\n    </tr>\n    <tr>\n      <th>std</th>\n      <td>12.610692</td>\n      <td>1.016166</td>\n      <td>3571.906754</td>\n      <td>961.137268</td>\n      <td>627.166521</td>\n      <td>218.578678</td>\n    </tr>\n    <tr>\n      <th>min</th>\n      <td>1940.000000</td>\n      <td>0.000000</td>\n      <td>0.000000</td>\n      <td>0.000000</td>\n      <td>0.000000</td>\n      <td>0.000000</td>\n    </tr>\n    <tr>\n      <th>25%</th>\n      <td>1960.000000</td>\n      <td>0.000000</td>\n      <td>2045.065000</td>\n      <td>0.000000</td>\n      <td>0.000000</td>\n      <td>0.000000</td>\n    </tr>\n    <tr>\n      <th>50%</th>\n      <td>1968.000000</td>\n      <td>0.000000</td>\n      <td>2963.000000</td>\n      <td>0.000000</td>\n      <td>250.000000</td>\n      <td>0.000000</td>\n    </tr>\n    <tr>\n      <th>75%</th>\n      <td>1977.000000</td>\n      <td>2.000000</td>\n      <td>4665.170000</td>\n      <td>100.000000</td>\n      <td>800.000000</td>\n      <td>0.000000</td>\n    </tr>\n    <tr>\n      <th>max</th>\n      <td>1995.000000</td>\n      <td>12.000000</td>\n      <td>22695.000000</td>\n      <td>6327.100000</td>\n      <td>3000.000000</td>\n      <td>1340.420000</td>\n    </tr>\n  </tbody>\n</table>\n</div>"
     },
     "execution_count": 14,
     "metadata": {},
     "output_type": "execute_result"
    }
   ],
   "source": [
    "df[['YEAR_NAISSANCE', 'PARTIC_N_ENFANT', 'PARTIC_MT_REVENU_EURO', 'PARTIC_MT_AUTRE_REVENU_EURO', 'PARTIC_MT_CHARGES_EURO', 'PARTIC_MT_AUTRES_CREDITS_EURO' ]].describe()"
   ],
   "metadata": {
    "collapsed": false,
    "ExecuteTime": {
     "end_time": "2024-08-19T14:34:25.868479400Z",
     "start_time": "2024-08-19T14:34:24.503046200Z"
    }
   },
   "execution_count": 14
  },
  {
   "cell_type": "code",
   "outputs": [
    {
     "name": "stdout",
     "output_type": "stream",
     "text": [
      "ID_CONT\n",
      "A5145127282    1\n",
      "S6192340016    1\n",
      "S6192340095    1\n",
      "S6192340086    1\n",
      "S6192340081    1\n",
      "              ..\n",
      "S4182315848    1\n",
      "S4182315846    1\n",
      "S4182315844    1\n",
      "S4182315838    1\n",
      "S9163097252    1\n",
      "Name: count, Length: 129024, dtype: int64\n",
      "ID_BAREME_FI\n",
      "LOPEACA01     9246\n",
      "CRVOEAC01E    8620\n",
      "WJSX12360     3675\n",
      "SAVNEA1PLA    2722\n",
      "WJSMI2551     2527\n",
      "              ... \n",
      "SAVOEA2LOA       1\n",
      "SMVNEX0LOA       1\n",
      "SAVNPU0LA        1\n",
      "LOVORES02        1\n",
      "CRVOBM9119       1\n",
      "Name: count, Length: 1796, dtype: int64\n",
      "CT_ID_LP\n",
      "23    69524\n",
      "1     23605\n",
      "4     10983\n",
      "24     9431\n",
      "30     4943\n",
      "31     3654\n",
      "55     3177\n",
      "46      953\n",
      "2       624\n",
      "51      569\n",
      "47      407\n",
      "76      357\n",
      "6       245\n",
      "53      152\n",
      "52      142\n",
      "3       122\n",
      "54       70\n",
      "57       23\n",
      "44       16\n",
      "5        11\n",
      "42        9\n",
      "45        3\n",
      "43        3\n",
      "56        1\n",
      "Name: count, dtype: int64\n",
      "SCORE_NOTE\n",
      "844.0    1347\n",
      "432.0    1332\n",
      "670.0    1038\n",
      "676.0     984\n",
      "650.0     918\n",
      "         ... \n",
      "437.0      26\n",
      "434.0      25\n",
      "440.0      22\n",
      "442.0      21\n",
      "838.0      18\n",
      "Name: count, Length: 413, dtype: int64\n",
      "C_DSA\n",
      " 17284.1864    1298\n",
      "-478.0912      1285\n",
      " 846.6400         5\n",
      " 1056.9700        5\n",
      " 1136.5000        4\n",
      "               ... \n",
      " 3380.4200        1\n",
      " 648.4000         1\n",
      " 2072.9700        1\n",
      " 3909.4800        1\n",
      " 1232.8800        1\n",
      "Name: count, Length: 113420, dtype: int64\n",
      "CO_Client\n",
      "0    88921\n",
      "1    40103\n",
      "Name: count, dtype: int64\n",
      "CODE_POSTAL\n",
      "59.0    5190\n",
      "13.0    4388\n",
      "78.0    4371\n",
      "92.0    4164\n",
      "69.0    3605\n",
      "        ... \n",
      "23         5\n",
      "48         5\n",
      "98         2\n",
      "97.0       1\n",
      "XX         1\n",
      "Name: count, Length: 194, dtype: int64\n",
      "CON_BL_POST_CHOICE\n",
      "0.0    76161\n",
      "1.0    52863\n",
      "Name: count, dtype: int64\n",
      "CON_BL_EMAIL_CHOICE\n",
      "1.0    68243\n",
      "0.0    60781\n",
      "Name: count, dtype: int64\n",
      "CON_BL_PHONE_CHOICE\n",
      "0.0    85054\n",
      "1.0    43970\n",
      "Name: count, dtype: int64\n",
      "CON_BL_SMS_CHOICE\n",
      "0.0    75127\n",
      "1.0    53897\n",
      "Name: count, dtype: int64\n",
      "CON_BL_MM_SCORE_CHOICE\n",
      "0.0    74652\n",
      "1.0    54372\n",
      "Name: count, dtype: int64\n",
      "CON_BL_BMW_DATA_TRF_CHOICE\n",
      "0.0    78026\n",
      "1.0    50998\n",
      "Name: count, dtype: int64\n",
      "CON_BL_DEALER_DATA_TRF_CHOICE\n",
      "0.0    129024\n",
      "Name: count, dtype: int64\n",
      "CON_BL_CRM_SCORE_CHOICE\n",
      "0.0    129024\n",
      "Name: count, dtype: int64\n",
      "SITFAM_ID\n",
      "M    89192\n",
      "C    13523\n",
      "U    12364\n",
      "D    10327\n",
      "V     2870\n",
      "S      748\n",
      "Name: count, dtype: int64\n",
      "PROFES_ID\n",
      "46.0    22186\n",
      "70.0    19119\n",
      "36.0    15410\n",
      "23.0    11629\n",
      "31.0     6533\n",
      "52.0     6169\n",
      "54.0     5710\n",
      "48.0     5381\n",
      "56.0     4747\n",
      "47.0     4528\n",
      "60.0     3990\n",
      "45.0     3889\n",
      "55.0     3777\n",
      "53.0     2361\n",
      "32.0     2007\n",
      "34.0     1746\n",
      "22.0     1530\n",
      "64.0     1479\n",
      "43.0     1382\n",
      "42.0     1231\n",
      "21.0     1114\n",
      "81.0      853\n",
      "82.0      796\n",
      "10.0      423\n",
      "35.0      420\n",
      "37.0      197\n",
      "87.0      148\n",
      "69.0      105\n",
      "38.0       51\n",
      "62.0       29\n",
      "33.0       21\n",
      "65.0       19\n",
      "85.0       13\n",
      "63.0       12\n",
      "86.0        4\n",
      "68.0        3\n",
      "67.0        3\n",
      "77.0        3\n",
      "84.0        2\n",
      "74.0        2\n",
      "12.0        1\n",
      "75.0        1\n",
      "Name: count, dtype: int64\n",
      "HABITA_ID\n",
      "P    105452\n",
      "L     17101\n",
      "F      4477\n",
      "E      1021\n",
      "A       645\n",
      "T       328\n",
      "Name: count, dtype: int64\n",
      "YEAR_NAISSANCE\n",
      "1971.0    4412\n",
      "1972.0    4344\n",
      "1970.0    4268\n",
      "1969.0    4239\n",
      "1973.0    4220\n",
      "1966.0    4194\n",
      "1968.0    4167\n",
      "1965.0    4134\n",
      "1967.0    4064\n",
      "1964.0    3947\n",
      "1963.0    3749\n",
      "1974.0    3619\n",
      "1962.0    3307\n",
      "1961.0    3213\n",
      "1975.0    3213\n",
      "1960.0    2933\n",
      "1976.0    2845\n",
      "1959.0    2829\n",
      "1977.0    2712\n",
      "1978.0    2547\n",
      "1979.0    2487\n",
      "1958.0    2352\n",
      "1957.0    2336\n",
      "1981.0    2306\n",
      "1980.0    2255\n",
      "1982.0    2126\n",
      "1956.0    2117\n",
      "1955.0    1956\n",
      "1954.0    1914\n",
      "1984.0    1898\n",
      "1953.0    1831\n",
      "1995.0    1829\n",
      "1952.0    1800\n",
      "1985.0    1775\n",
      "1983.0    1744\n",
      "1986.0    1721\n",
      "1951.0    1646\n",
      "1949.0    1636\n",
      "1987.0    1635\n",
      "1950.0    1635\n",
      "1988.0    1603\n",
      "1948.0    1510\n",
      "1947.0    1417\n",
      "1940.0    1416\n",
      "1989.0    1371\n",
      "1990.0    1323\n",
      "1946.0    1270\n",
      "1991.0    1197\n",
      "1992.0    1140\n",
      "1993.0     899\n",
      "1945.0     844\n",
      "1994.0     771\n",
      "1944.0     750\n",
      "1943.0     636\n",
      "1942.0     520\n",
      "1941.0     402\n",
      "Name: count, dtype: int64\n",
      "PARTIC_N_ENFANT\n",
      "0.0     65278\n",
      "2.0     28335\n",
      "1.0     26788\n",
      "3.0      7447\n",
      "4.0       992\n",
      "5.0       150\n",
      "6.0        26\n",
      "8.0         2\n",
      "7.0         2\n",
      "9.0         2\n",
      "12.0        1\n",
      "10.0        1\n",
      "Name: count, dtype: int64\n",
      "PARTIC_MT_REVENU_EURO\n",
      "0.00        1615\n",
      "22695.00    1284\n",
      "2000.00      773\n",
      "2500.00      734\n",
      "3000.00      719\n",
      "            ... \n",
      "1405.04        1\n",
      "6838.00        1\n",
      "1658.83        1\n",
      "4273.22        1\n",
      "3258.07        1\n",
      "Name: count, Length: 43140, dtype: int64\n",
      "PARTIC_MT_AUTRE_REVENU_EURO\n",
      "0.00       94051\n",
      "6327.10     1287\n",
      "500.00       197\n",
      "1000.00      169\n",
      "300.00       165\n",
      "           ...  \n",
      "322.83         1\n",
      "1619.91        1\n",
      "3308.00        1\n",
      "1773.67        1\n",
      "3470.00        1\n",
      "Name: count, Length: 12035, dtype: int64\n",
      "PARTIC_MT_CHARGES_EURO\n",
      "0.00       63288\n",
      "1000.00     3557\n",
      "500.00      3359\n",
      "600.00      2989\n",
      "800.00      2804\n",
      "           ...  \n",
      "2098.00        1\n",
      "457.12         1\n",
      "1811.00        1\n",
      "877.18         1\n",
      "835.66         1\n",
      "Name: count, Length: 3465, dtype: int64\n",
      "PARTIC_MT_AUTRES_CREDITS_EURO\n",
      "0.00       110577\n",
      "1340.42      1318\n",
      "300.00        814\n",
      "200.00        730\n",
      "500.00        704\n",
      "            ...  \n",
      "207.60          1\n",
      "1012.33         1\n",
      "717.50          1\n",
      "275.78          1\n",
      "946.66          1\n",
      "Name: count, Length: 2326, dtype: int64\n",
      "YEAR_EMPLOI\n",
      "1978.0    22118\n",
      "2016.0     5573\n",
      "2017.0     5375\n",
      "2015.0     5141\n",
      "2014.0     4684\n",
      "2010.0     4305\n",
      "2013.0     4303\n",
      "2018.0     4243\n",
      "2012.0     4199\n",
      "2011.0     4083\n",
      "2008.0     3856\n",
      "2000.0     3800\n",
      "2007.0     3650\n",
      "2005.0     3317\n",
      "2009.0     3280\n",
      "2006.0     3102\n",
      "2001.0     2883\n",
      "2019.0     2821\n",
      "2004.0     2765\n",
      "2003.0     2650\n",
      "2002.0     2586\n",
      "1999.0     2548\n",
      "1998.0     2318\n",
      "1995.0     2085\n",
      "1990.0     2021\n",
      "1997.0     1992\n",
      "1996.0     1743\n",
      "2020.0     1688\n",
      "1991.0     1627\n",
      "1992.0     1530\n",
      "1994.0     1528\n",
      "1989.0     1510\n",
      "1993.0     1377\n",
      "1988.0     1217\n",
      "1987.0     1124\n",
      "1986.0      924\n",
      "1985.0      906\n",
      "1982.0      841\n",
      "1983.0      821\n",
      "1984.0      782\n",
      "1981.0      662\n",
      "1980.0      650\n",
      "1979.0      396\n",
      "Name: count, dtype: int64\n",
      "YEAR_HABITAT\n",
      "2000.0    7815\n",
      "2010.0    6386\n",
      "2017.0    6306\n",
      "2015.0    5968\n",
      "2016.0    5898\n",
      "2018.0    5479\n",
      "2014.0    4565\n",
      "2005.0    4504\n",
      "2012.0    4317\n",
      "2019.0    4155\n",
      "2013.0    3963\n",
      "2008.0    3840\n",
      "2011.0    3626\n",
      "2007.0    3540\n",
      "2009.0    3447\n",
      "2001.0    3317\n",
      "2006.0    3244\n",
      "1999.0    3199\n",
      "1998.0    3160\n",
      "1995.0    3156\n",
      "2002.0    3142\n",
      "2003.0    3052\n",
      "1990.0    3043\n",
      "2004.0    2909\n",
      "2020.0    2766\n",
      "2021.0    2693\n",
      "1997.0    2365\n",
      "1996.0    2033\n",
      "1994.0    1455\n",
      "1980.0    1445\n",
      "1992.0    1410\n",
      "1974.0    1372\n",
      "1993.0    1237\n",
      "1991.0    1155\n",
      "1989.0    1137\n",
      "1985.0    1120\n",
      "1988.0     968\n",
      "1987.0     908\n",
      "1986.0     743\n",
      "1982.0     602\n",
      "1984.0     596\n",
      "1983.0     563\n",
      "1981.0     529\n",
      "1978.0     460\n",
      "1975.0     391\n",
      "1979.0     389\n",
      "1976.0     360\n",
      "1977.0     296\n",
      "Name: count, dtype: int64\n",
      "VAL_APPORT_TTC_EURO\n",
      "0.00        104377\n",
      "5000.00        702\n",
      "10000.00       643\n",
      "3000.00        571\n",
      "2000.00        480\n",
      "             ...  \n",
      "29937.00         1\n",
      "17079.00         1\n",
      "24802.76         1\n",
      "24969.00         1\n",
      "15501.00         1\n",
      "Name: count, Length: 8757, dtype: int64\n",
      "VAL_PL_TTC_EURO\n",
      "3000.00    1964\n",
      "5000.00    1477\n",
      "115.14     1197\n",
      "2000.00     951\n",
      "5000.01     910\n",
      "           ... \n",
      "630.12        1\n",
      "612.77        1\n",
      "210.82        1\n",
      "1394.96       1\n",
      "277.24        1\n",
      "Name: count, Length: 59020, dtype: int64\n",
      "CT_AM_FIN_AMOUNT_EURO\n",
      "6000.00     4370\n",
      "10000.00    1632\n",
      "5000.00     1538\n",
      "8000.00      977\n",
      "3000.00      774\n",
      "            ... \n",
      "23815.83       1\n",
      "28521.29       1\n",
      "41663.33       1\n",
      "48675.02       1\n",
      "15591.03       1\n",
      "Name: count, Length: 79211, dtype: int64\n",
      "MT_MENS\n",
      "115.13     1203\n",
      "97.39       352\n",
      "114.08      264\n",
      "115.75      228\n",
      "191.89      220\n",
      "           ... \n",
      "801.02        1\n",
      "674.00        1\n",
      "1074.36       1\n",
      "180.67        1\n",
      "931.31        1\n",
      "Name: count, Length: 53073, dtype: int64\n",
      "NB_ECH\n",
      "36.0    96947\n",
      "60.0    15472\n",
      "48.0     9875\n",
      "24.0     3370\n",
      "37.0     1302\n",
      "59.0      433\n",
      "38.0      409\n",
      "47.0      289\n",
      "35.0      192\n",
      "49.0      185\n",
      "40.0       97\n",
      "39.0       85\n",
      "42.0       62\n",
      "25.0       53\n",
      "30.0       43\n",
      "54.0       28\n",
      "50.0       18\n",
      "55.0       16\n",
      "58.0       15\n",
      "43.0       14\n",
      "41.0       13\n",
      "52.0       11\n",
      "45.0       11\n",
      "26.0       11\n",
      "46.0       10\n",
      "44.0        9\n",
      "28.0        9\n",
      "29.0        8\n",
      "57.0        8\n",
      "53.0        8\n",
      "34.0        7\n",
      "51.0        3\n",
      "56.0        3\n",
      "27.0        3\n",
      "33.0        3\n",
      "31.0        2\n",
      "Name: count, dtype: int64\n",
      "OA\n",
      "15000.00    116\n",
      "12000.00    108\n",
      "18000.00    100\n",
      "13000.00     96\n",
      "12500.00     89\n",
      "           ... \n",
      "11382.00      1\n",
      "33604.00      1\n",
      "13316.00      1\n",
      "11791.00      1\n",
      "17990.16      1\n",
      "Name: count, Length: 38754, dtype: int64\n",
      "ASSUR\n",
      "0.0000     51214\n",
      "3.6000      3183\n",
      "50.8184     1299\n",
      "6.0000      1164\n",
      "3.0000       928\n",
      "           ...  \n",
      "40.2900        1\n",
      "49.3100        1\n",
      "47.0300        1\n",
      "49.8000        1\n",
      "44.7100        1\n",
      "Name: count, Length: 4505, dtype: int64\n",
      "ID_MARQ_BIEN\n",
      "BMW    62102\n",
      "MIN    43379\n",
      "BM2    16000\n",
      "BI      2829\n",
      "REN     1122\n",
      "       ...  \n",
      "29         1\n",
      "49         1\n",
      "20         1\n",
      "HM         1\n",
      "LAN        1\n",
      "Name: count, Length: 79, dtype: int64\n",
      "VEH_DES_ENGTYPE\n",
      "Super sans plomb  95            65963\n",
      "Diesel                          52564\n",
      "Electrique                       4972\n",
      "Hyb                              2098\n",
      "hybride : Electrique/essence     1701\n",
      "Essence                          1424\n",
      "Super sans plomb 98               244\n",
      "Hybride : Electrique/diesel        52\n",
      "flexible : Essence/alcool           2\n",
      "flexible : Essence/Gaz              2\n",
      "Alcool                              2\n",
      "Name: count, dtype: int64\n",
      "ID_ETAT_BIEN\n",
      "VN    95460\n",
      "VO    33564\n",
      "Name: count, dtype: int64\n",
      "ID_NAT_BIEN\n",
      "A    112651\n",
      "M     16373\n",
      "Name: count, dtype: int64\n",
      "SERIE_LIBELLE\n",
      "MINI F56             16277\n",
      "SERIE 1              13575\n",
      "Motos                13387\n",
      "X1 F48               12188\n",
      "MINI F55              9217\n",
      "                     ...  \n",
      "S6/RS6 IV                1\n",
      "SPYDER                   1\n",
      "BALENO II                1\n",
      "C5 AIRCROSS              1\n",
      "RANGE ROVER VELAR        1\n",
      "Name: count, Length: 447, dtype: int64\n",
      "VAL_CATALOGUE_TTC_EURO\n",
      "30000.0     1530\n",
      "25800.0     1075\n",
      "37600.0     1066\n",
      "30900.0      984\n",
      "29900.0      979\n",
      "            ... \n",
      "63930.0        1\n",
      "236588.4       1\n",
      "139400.0       1\n",
      "23910.0        1\n",
      "83550.0        1\n",
      "Name: count, Length: 3333, dtype: int64\n",
      "VAL_OPTION_TTC_EURO\n",
      "0.0000        49478\n",
      "12605.0042     1295\n",
      "590.0000       1066\n",
      "650.0000        945\n",
      "420.0000        702\n",
      "              ...  \n",
      "8632.0000         1\n",
      "366.0000          1\n",
      "2097.0000         1\n",
      "1903.7600         1\n",
      "2100.5000         1\n",
      "Name: count, Length: 4486, dtype: int64\n",
      "VAL_ACC_REM_TTC_EURO\n",
      "0.00       65304\n",
      "100.00       230\n",
      "90.00        189\n",
      "60.00        185\n",
      "70.00        180\n",
      "           ...  \n",
      "455.68         1\n",
      "165.98         1\n",
      "733.70         1\n",
      "2269.86        1\n",
      "1399.00        1\n",
      "Name: count, Length: 19610, dtype: int64\n",
      "Series([], Name: count, dtype: int64)\n",
      "VAL_VR_TTC_EURO\n",
      "0.00        24542\n",
      "44539.04     1292\n",
      "15000.00      116\n",
      "12000.00      108\n",
      "18000.00      100\n",
      "            ...  \n",
      "6350.86         1\n",
      "5442.36         1\n",
      "4956.90         1\n",
      "35198.00        1\n",
      "17990.16        1\n",
      "Name: count, Length: 40156, dtype: int64\n",
      "Ancien_renouvelant\n",
      "0     89668\n",
      "1     27035\n",
      "2      7953\n",
      "3      2766\n",
      "4       985\n",
      "5       345\n",
      "6       137\n",
      "7        63\n",
      "8        30\n",
      "9        12\n",
      "10       10\n",
      "11        8\n",
      "12        5\n",
      "13        4\n",
      "14        2\n",
      "15        1\n",
      "Name: count, dtype: int64\n",
      "Renouvelant\n",
      "0    82252\n",
      "1    46772\n",
      "Name: count, dtype: int64\n"
     ]
    }
   ],
   "source": [
    "for value in df.columns:\n",
    "    print(df[value].value_counts())\n"
   ],
   "metadata": {
    "collapsed": false,
    "ExecuteTime": {
     "end_time": "2024-07-14T12:47:37.068492Z",
     "start_time": "2024-07-14T12:47:36.442954500Z"
    }
   },
   "execution_count": 19
  },
  {
   "cell_type": "code",
   "outputs": [],
   "source": [
    "from Code.DataPreparation.VariablePreparation import TypeConversion\n",
    "consent_list = [\n",
    "            'CON_BL_POST_CHOICE',\n",
    "            'CON_BL_EMAIL_CHOICE',\n",
    "            'CON_BL_PHONE_CHOICE',\n",
    "            'CON_BL_SMS_CHOICE',\n",
    "            'CON_BL_MM_SCORE_CHOICE',\n",
    "            'CON_BL_BMW_DATA_TRF_CHOICE',\n",
    "            'CON_BL_DEALER_DATA_TRF_CHOICE',\n",
    "            'CON_BL_CRM_SCORE_CHOICE'\n",
    "        ]\n",
    "\n",
    "df = TypeConversion.sum_columns(df, \"Consent\", consent_list)"
   ],
   "metadata": {
    "collapsed": false,
    "ExecuteTime": {
     "end_time": "2024-05-29T12:56:53.823841500Z",
     "start_time": "2024-05-29T12:56:53.611940900Z"
    }
   },
   "execution_count": 58
  },
  {
   "cell_type": "code",
   "outputs": [
    {
     "data": {
      "text/plain": "Consent\n0.0    48925\n6.0    29422\n4.0    12117\n2.0    11055\n1.0    10326\n3.0     9494\n5.0     7685\nName: count, dtype: int64"
     },
     "execution_count": 61,
     "metadata": {},
     "output_type": "execute_result"
    }
   ],
   "source": [
    "df[\"Consent\"].value_counts()"
   ],
   "metadata": {
    "collapsed": false,
    "ExecuteTime": {
     "end_time": "2024-05-29T12:57:19.823723100Z",
     "start_time": "2024-05-29T12:57:19.680817800Z"
    }
   },
   "execution_count": 61
  },
  {
   "cell_type": "code",
   "outputs": [
    {
     "data": {
      "text/plain": "            ID_CONT ID_BAREME_FI  CT_ID_LP  SCORE_NOTE    C_DSA  CO_Client  \\\n0       A5145127282   A0914PR1CR        51       432.0   516.93          0   \n1       A5145152841    AWWDEROCR        51       432.0  1499.47          1   \n2       A5145293261    AWWDEROLO        52       574.0  2288.34          1   \n3       A5155101667   A0515PR1CR        51       432.0  -109.60          1   \n4       A5155103905   A0515PR1CR        51       432.0  3445.37          0   \n...             ...          ...       ...         ...      ...        ...   \n129019  S9160297264     LOEACO03         2       635.0  2657.80          1   \n129020  S9160299324     LOEAAC01         2       519.0   630.44          1   \n129021  S9160492062   LSGPEL0311         4       602.0  1009.42          0   \n129022  S9160492454     WWLSELAG         4       798.0  4348.22          1   \n129023  S9163097252   LSVOEACA01        30       520.0  1232.88          0   \n\n       CODE_POSTAL SITFAM_ID  PROFES_ID HABITA_ID  ...  ID_NAT_BIEN  \\\n0             53.0         D       70.0         P  ...            A   \n1             61.0         M       43.0         P  ...            A   \n2             59.0         M       23.0         P  ...            A   \n3             95.0         M       52.0         P  ...            A   \n4             59.0         M       36.0         P  ...            A   \n...            ...       ...        ...       ...  ...          ...   \n129019          77         M       36.0         P  ...            A   \n129020          44         M       55.0         P  ...            A   \n129021          44         D       23.0         P  ...            A   \n129022          44         M       45.0         P  ...            A   \n129023          29         M       23.0         P  ...            A   \n\n        SERIE_LIBELLE  VAL_CATALOGUE_TTC_EURO  VAL_OPTION_TTC_EURO  \\\n0                3008                 32900.0                  0.0   \n1                  A6                 43200.0                  0.0   \n2           AVENTADOR                324000.0                  0.0   \n3           TOURAN II                 30220.0                  0.0   \n4             SERIE 5                 54700.0                  0.0   \n...               ...                     ...                  ...   \n129019         X5 F15                 78800.0               7360.0   \n129020       MINI F56                 26850.0                  0.0   \n129021        SERIE 1                 28150.0                  0.0   \n129022         X1 F48                 34600.0                  0.0   \n129023       MINI F56                 20900.0               1080.0   \n\n        VAL_ACC_REM_TTC_EURO  VAL_ARGUS_BIEN_EURO  VAL_VR_TTC_EURO  \\\n0                        0.0                  NaN             0.00   \n1                        0.0                  NaN             0.00   \n2                        0.0                  NaN         44539.04   \n3                        0.0                  NaN             0.00   \n4                        0.0                  NaN             0.00   \n...                      ...                  ...              ...   \n129019                1399.0                  NaN         10256.70   \n129020                   0.0                  NaN          4350.00   \n129021                   0.0                  NaN         12667.50   \n129022                   0.0                  NaN         17990.16   \n129023                1080.0                  NaN          9899.99   \n\n        Ancien_renouvelant  Renouvelant  Consent  \n0                        0            0      0.0  \n1                        0            0      0.0  \n2                        0            1      0.0  \n3                        0            0      0.0  \n4                        0            0      0.0  \n...                    ...          ...      ...  \n129019                   0            0      0.0  \n129020                   0            0      0.0  \n129021                   0            1      0.0  \n129022                   0            0      0.0  \n129023                   0            1      0.0  \n\n[129024 rows x 38 columns]",
      "text/html": "<div>\n<style scoped>\n    .dataframe tbody tr th:only-of-type {\n        vertical-align: middle;\n    }\n\n    .dataframe tbody tr th {\n        vertical-align: top;\n    }\n\n    .dataframe thead th {\n        text-align: right;\n    }\n</style>\n<table border=\"1\" class=\"dataframe\">\n  <thead>\n    <tr style=\"text-align: right;\">\n      <th></th>\n      <th>ID_CONT</th>\n      <th>ID_BAREME_FI</th>\n      <th>CT_ID_LP</th>\n      <th>SCORE_NOTE</th>\n      <th>C_DSA</th>\n      <th>CO_Client</th>\n      <th>CODE_POSTAL</th>\n      <th>SITFAM_ID</th>\n      <th>PROFES_ID</th>\n      <th>HABITA_ID</th>\n      <th>...</th>\n      <th>ID_NAT_BIEN</th>\n      <th>SERIE_LIBELLE</th>\n      <th>VAL_CATALOGUE_TTC_EURO</th>\n      <th>VAL_OPTION_TTC_EURO</th>\n      <th>VAL_ACC_REM_TTC_EURO</th>\n      <th>VAL_ARGUS_BIEN_EURO</th>\n      <th>VAL_VR_TTC_EURO</th>\n      <th>Ancien_renouvelant</th>\n      <th>Renouvelant</th>\n      <th>Consent</th>\n    </tr>\n  </thead>\n  <tbody>\n    <tr>\n      <th>0</th>\n      <td>A5145127282</td>\n      <td>A0914PR1CR</td>\n      <td>51</td>\n      <td>432.0</td>\n      <td>516.93</td>\n      <td>0</td>\n      <td>53.0</td>\n      <td>D</td>\n      <td>70.0</td>\n      <td>P</td>\n      <td>...</td>\n      <td>A</td>\n      <td>3008</td>\n      <td>32900.0</td>\n      <td>0.0</td>\n      <td>0.0</td>\n      <td>NaN</td>\n      <td>0.00</td>\n      <td>0</td>\n      <td>0</td>\n      <td>0.0</td>\n    </tr>\n    <tr>\n      <th>1</th>\n      <td>A5145152841</td>\n      <td>AWWDEROCR</td>\n      <td>51</td>\n      <td>432.0</td>\n      <td>1499.47</td>\n      <td>1</td>\n      <td>61.0</td>\n      <td>M</td>\n      <td>43.0</td>\n      <td>P</td>\n      <td>...</td>\n      <td>A</td>\n      <td>A6</td>\n      <td>43200.0</td>\n      <td>0.0</td>\n      <td>0.0</td>\n      <td>NaN</td>\n      <td>0.00</td>\n      <td>0</td>\n      <td>0</td>\n      <td>0.0</td>\n    </tr>\n    <tr>\n      <th>2</th>\n      <td>A5145293261</td>\n      <td>AWWDEROLO</td>\n      <td>52</td>\n      <td>574.0</td>\n      <td>2288.34</td>\n      <td>1</td>\n      <td>59.0</td>\n      <td>M</td>\n      <td>23.0</td>\n      <td>P</td>\n      <td>...</td>\n      <td>A</td>\n      <td>AVENTADOR</td>\n      <td>324000.0</td>\n      <td>0.0</td>\n      <td>0.0</td>\n      <td>NaN</td>\n      <td>44539.04</td>\n      <td>0</td>\n      <td>1</td>\n      <td>0.0</td>\n    </tr>\n    <tr>\n      <th>3</th>\n      <td>A5155101667</td>\n      <td>A0515PR1CR</td>\n      <td>51</td>\n      <td>432.0</td>\n      <td>-109.60</td>\n      <td>1</td>\n      <td>95.0</td>\n      <td>M</td>\n      <td>52.0</td>\n      <td>P</td>\n      <td>...</td>\n      <td>A</td>\n      <td>TOURAN II</td>\n      <td>30220.0</td>\n      <td>0.0</td>\n      <td>0.0</td>\n      <td>NaN</td>\n      <td>0.00</td>\n      <td>0</td>\n      <td>0</td>\n      <td>0.0</td>\n    </tr>\n    <tr>\n      <th>4</th>\n      <td>A5155103905</td>\n      <td>A0515PR1CR</td>\n      <td>51</td>\n      <td>432.0</td>\n      <td>3445.37</td>\n      <td>0</td>\n      <td>59.0</td>\n      <td>M</td>\n      <td>36.0</td>\n      <td>P</td>\n      <td>...</td>\n      <td>A</td>\n      <td>SERIE 5</td>\n      <td>54700.0</td>\n      <td>0.0</td>\n      <td>0.0</td>\n      <td>NaN</td>\n      <td>0.00</td>\n      <td>0</td>\n      <td>0</td>\n      <td>0.0</td>\n    </tr>\n    <tr>\n      <th>...</th>\n      <td>...</td>\n      <td>...</td>\n      <td>...</td>\n      <td>...</td>\n      <td>...</td>\n      <td>...</td>\n      <td>...</td>\n      <td>...</td>\n      <td>...</td>\n      <td>...</td>\n      <td>...</td>\n      <td>...</td>\n      <td>...</td>\n      <td>...</td>\n      <td>...</td>\n      <td>...</td>\n      <td>...</td>\n      <td>...</td>\n      <td>...</td>\n      <td>...</td>\n      <td>...</td>\n    </tr>\n    <tr>\n      <th>129019</th>\n      <td>S9160297264</td>\n      <td>LOEACO03</td>\n      <td>2</td>\n      <td>635.0</td>\n      <td>2657.80</td>\n      <td>1</td>\n      <td>77</td>\n      <td>M</td>\n      <td>36.0</td>\n      <td>P</td>\n      <td>...</td>\n      <td>A</td>\n      <td>X5 F15</td>\n      <td>78800.0</td>\n      <td>7360.0</td>\n      <td>1399.0</td>\n      <td>NaN</td>\n      <td>10256.70</td>\n      <td>0</td>\n      <td>0</td>\n      <td>0.0</td>\n    </tr>\n    <tr>\n      <th>129020</th>\n      <td>S9160299324</td>\n      <td>LOEAAC01</td>\n      <td>2</td>\n      <td>519.0</td>\n      <td>630.44</td>\n      <td>1</td>\n      <td>44</td>\n      <td>M</td>\n      <td>55.0</td>\n      <td>P</td>\n      <td>...</td>\n      <td>A</td>\n      <td>MINI F56</td>\n      <td>26850.0</td>\n      <td>0.0</td>\n      <td>0.0</td>\n      <td>NaN</td>\n      <td>4350.00</td>\n      <td>0</td>\n      <td>0</td>\n      <td>0.0</td>\n    </tr>\n    <tr>\n      <th>129021</th>\n      <td>S9160492062</td>\n      <td>LSGPEL0311</td>\n      <td>4</td>\n      <td>602.0</td>\n      <td>1009.42</td>\n      <td>0</td>\n      <td>44</td>\n      <td>D</td>\n      <td>23.0</td>\n      <td>P</td>\n      <td>...</td>\n      <td>A</td>\n      <td>SERIE 1</td>\n      <td>28150.0</td>\n      <td>0.0</td>\n      <td>0.0</td>\n      <td>NaN</td>\n      <td>12667.50</td>\n      <td>0</td>\n      <td>1</td>\n      <td>0.0</td>\n    </tr>\n    <tr>\n      <th>129022</th>\n      <td>S9160492454</td>\n      <td>WWLSELAG</td>\n      <td>4</td>\n      <td>798.0</td>\n      <td>4348.22</td>\n      <td>1</td>\n      <td>44</td>\n      <td>M</td>\n      <td>45.0</td>\n      <td>P</td>\n      <td>...</td>\n      <td>A</td>\n      <td>X1 F48</td>\n      <td>34600.0</td>\n      <td>0.0</td>\n      <td>0.0</td>\n      <td>NaN</td>\n      <td>17990.16</td>\n      <td>0</td>\n      <td>0</td>\n      <td>0.0</td>\n    </tr>\n    <tr>\n      <th>129023</th>\n      <td>S9163097252</td>\n      <td>LSVOEACA01</td>\n      <td>30</td>\n      <td>520.0</td>\n      <td>1232.88</td>\n      <td>0</td>\n      <td>29</td>\n      <td>M</td>\n      <td>23.0</td>\n      <td>P</td>\n      <td>...</td>\n      <td>A</td>\n      <td>MINI F56</td>\n      <td>20900.0</td>\n      <td>1080.0</td>\n      <td>1080.0</td>\n      <td>NaN</td>\n      <td>9899.99</td>\n      <td>0</td>\n      <td>1</td>\n      <td>0.0</td>\n    </tr>\n  </tbody>\n</table>\n<p>129024 rows × 38 columns</p>\n</div>"
     },
     "execution_count": 62,
     "metadata": {},
     "output_type": "execute_result"
    }
   ],
   "source": [
    "df = pd.read_csv(data_path)"
   ],
   "metadata": {
    "collapsed": false,
    "ExecuteTime": {
     "end_time": "2024-05-29T13:08:44.038456700Z",
     "start_time": "2024-05-29T13:08:43.858791300Z"
    }
   },
   "execution_count": 62
  },
  {
   "cell_type": "code",
   "outputs": [
    {
     "data": {
      "text/plain": "        CON_BL_POST_CHOICE  CON_BL_EMAIL_CHOICE  CON_BL_PHONE_CHOICE  \\\n0                      0.0                  0.0                  0.0   \n1                      0.0                  0.0                  0.0   \n2                      0.0                  0.0                  0.0   \n3                      0.0                  0.0                  0.0   \n4                      0.0                  0.0                  0.0   \n...                    ...                  ...                  ...   \n129019                 0.0                  0.0                  0.0   \n129020                 0.0                  0.0                  0.0   \n129021                 0.0                  0.0                  0.0   \n129022                 0.0                  0.0                  0.0   \n129023                 0.0                  0.0                  0.0   \n\n        CON_BL_SMS_CHOICE  CON_BL_MM_SCORE_CHOICE  CON_BL_BMW_DATA_TRF_CHOICE  \\\n0                     0.0                     0.0                         0.0   \n1                     0.0                     0.0                         0.0   \n2                     0.0                     0.0                         0.0   \n3                     0.0                     0.0                         0.0   \n4                     0.0                     0.0                         0.0   \n...                   ...                     ...                         ...   \n129019                0.0                     0.0                         0.0   \n129020                0.0                     0.0                         0.0   \n129021                0.0                     0.0                         0.0   \n129022                0.0                     0.0                         0.0   \n129023                0.0                     0.0                         0.0   \n\n        CON_BL_DEALER_DATA_TRF_CHOICE  CON_BL_CRM_SCORE_CHOICE    C_DSA  \\\n0                                 0.0                      0.0   516.93   \n1                                 0.0                      0.0  1499.47   \n2                                 0.0                      0.0  2288.34   \n3                                 0.0                      0.0  -109.60   \n4                                 0.0                      0.0  3445.37   \n...                               ...                      ...      ...   \n129019                            0.0                      0.0  2657.80   \n129020                            0.0                      0.0   630.44   \n129021                            0.0                      0.0  1009.42   \n129022                            0.0                      0.0  4348.22   \n129023                            0.0                      0.0  1232.88   \n\n        PARTIC_MT_REVENU_EURO  ...  PARTIC_MT_AUTRES_CREDITS_EURO  \\\n0                     1657.25  ...                            0.0   \n1                     1948.00  ...                            0.0   \n2                     6207.00  ...                            0.0   \n3                     1384.00  ...                            0.0   \n4                     5658.00  ...                            0.0   \n...                       ...  ...                            ...   \n129019                2416.75  ...                            0.0   \n129020                1376.00  ...                            0.0   \n129021                3625.00  ...                            0.0   \n129022                3258.07  ...                            0.0   \n129023                1612.92  ...                            0.0   \n\n        VAL_APPORT_TTC_EURO  VAL_PL_TTC_EURO  CT_AM_FIN_AMOUNT_EURO  MT_MENS  \\\n0                    3000.0           279.10               12000.00   279.10   \n1                    4631.5           371.96               22645.00   371.96   \n2                       0.0         99999.16              289550.51  3363.42   \n3                       0.0           240.53               12500.00   240.53   \n4                    5000.0           644.62               33500.00   644.62   \n...                     ...              ...                    ...      ...   \n129019                  0.0         13675.60               56981.67   931.31   \n129020                  0.0          4999.90               24166.67   423.98   \n129021                  0.0           452.38               23458.33   452.37   \n129022                  0.0         11940.90               33169.17   358.23   \n129023                  0.0           277.24               15591.03   264.36   \n\n          ASSUR  VAL_CATALOGUE_TTC_EURO  VAL_OPTION_TTC_EURO  \\\n0        0.0000                 32900.0                  0.0   \n1       13.5900                 43200.0                  0.0   \n2       50.8184                324000.0                  0.0   \n3        0.0000                 30220.0                  0.0   \n4        0.0000                 54700.0                  0.0   \n...         ...                     ...                  ...   \n129019  50.8184                 78800.0               7360.0   \n129020  15.3700                 26850.0                  0.0   \n129021  14.9200                 28150.0                  0.0   \n129022  21.1000                 34600.0                  0.0   \n129023   0.0000                 20900.0               1080.0   \n\n        VAL_ACC_REM_TTC_EURO  VAL_VR_TTC_EURO  \n0                        0.0             0.00  \n1                        0.0             0.00  \n2                        0.0         44539.04  \n3                        0.0             0.00  \n4                        0.0             0.00  \n...                      ...              ...  \n129019                1399.0         10256.70  \n129020                   0.0          4350.00  \n129021                   0.0         12667.50  \n129022                   0.0         17990.16  \n129023                1080.0          9899.99  \n\n[129024 rows x 22 columns]",
      "text/html": "<div>\n<style scoped>\n    .dataframe tbody tr th:only-of-type {\n        vertical-align: middle;\n    }\n\n    .dataframe tbody tr th {\n        vertical-align: top;\n    }\n\n    .dataframe thead th {\n        text-align: right;\n    }\n</style>\n<table border=\"1\" class=\"dataframe\">\n  <thead>\n    <tr style=\"text-align: right;\">\n      <th></th>\n      <th>CON_BL_POST_CHOICE</th>\n      <th>CON_BL_EMAIL_CHOICE</th>\n      <th>CON_BL_PHONE_CHOICE</th>\n      <th>CON_BL_SMS_CHOICE</th>\n      <th>CON_BL_MM_SCORE_CHOICE</th>\n      <th>CON_BL_BMW_DATA_TRF_CHOICE</th>\n      <th>CON_BL_DEALER_DATA_TRF_CHOICE</th>\n      <th>CON_BL_CRM_SCORE_CHOICE</th>\n      <th>C_DSA</th>\n      <th>PARTIC_MT_REVENU_EURO</th>\n      <th>...</th>\n      <th>PARTIC_MT_AUTRES_CREDITS_EURO</th>\n      <th>VAL_APPORT_TTC_EURO</th>\n      <th>VAL_PL_TTC_EURO</th>\n      <th>CT_AM_FIN_AMOUNT_EURO</th>\n      <th>MT_MENS</th>\n      <th>ASSUR</th>\n      <th>VAL_CATALOGUE_TTC_EURO</th>\n      <th>VAL_OPTION_TTC_EURO</th>\n      <th>VAL_ACC_REM_TTC_EURO</th>\n      <th>VAL_VR_TTC_EURO</th>\n    </tr>\n  </thead>\n  <tbody>\n    <tr>\n      <th>0</th>\n      <td>0.0</td>\n      <td>0.0</td>\n      <td>0.0</td>\n      <td>0.0</td>\n      <td>0.0</td>\n      <td>0.0</td>\n      <td>0.0</td>\n      <td>0.0</td>\n      <td>516.93</td>\n      <td>1657.25</td>\n      <td>...</td>\n      <td>0.0</td>\n      <td>3000.0</td>\n      <td>279.10</td>\n      <td>12000.00</td>\n      <td>279.10</td>\n      <td>0.0000</td>\n      <td>32900.0</td>\n      <td>0.0</td>\n      <td>0.0</td>\n      <td>0.00</td>\n    </tr>\n    <tr>\n      <th>1</th>\n      <td>0.0</td>\n      <td>0.0</td>\n      <td>0.0</td>\n      <td>0.0</td>\n      <td>0.0</td>\n      <td>0.0</td>\n      <td>0.0</td>\n      <td>0.0</td>\n      <td>1499.47</td>\n      <td>1948.00</td>\n      <td>...</td>\n      <td>0.0</td>\n      <td>4631.5</td>\n      <td>371.96</td>\n      <td>22645.00</td>\n      <td>371.96</td>\n      <td>13.5900</td>\n      <td>43200.0</td>\n      <td>0.0</td>\n      <td>0.0</td>\n      <td>0.00</td>\n    </tr>\n    <tr>\n      <th>2</th>\n      <td>0.0</td>\n      <td>0.0</td>\n      <td>0.0</td>\n      <td>0.0</td>\n      <td>0.0</td>\n      <td>0.0</td>\n      <td>0.0</td>\n      <td>0.0</td>\n      <td>2288.34</td>\n      <td>6207.00</td>\n      <td>...</td>\n      <td>0.0</td>\n      <td>0.0</td>\n      <td>99999.16</td>\n      <td>289550.51</td>\n      <td>3363.42</td>\n      <td>50.8184</td>\n      <td>324000.0</td>\n      <td>0.0</td>\n      <td>0.0</td>\n      <td>44539.04</td>\n    </tr>\n    <tr>\n      <th>3</th>\n      <td>0.0</td>\n      <td>0.0</td>\n      <td>0.0</td>\n      <td>0.0</td>\n      <td>0.0</td>\n      <td>0.0</td>\n      <td>0.0</td>\n      <td>0.0</td>\n      <td>-109.60</td>\n      <td>1384.00</td>\n      <td>...</td>\n      <td>0.0</td>\n      <td>0.0</td>\n      <td>240.53</td>\n      <td>12500.00</td>\n      <td>240.53</td>\n      <td>0.0000</td>\n      <td>30220.0</td>\n      <td>0.0</td>\n      <td>0.0</td>\n      <td>0.00</td>\n    </tr>\n    <tr>\n      <th>4</th>\n      <td>0.0</td>\n      <td>0.0</td>\n      <td>0.0</td>\n      <td>0.0</td>\n      <td>0.0</td>\n      <td>0.0</td>\n      <td>0.0</td>\n      <td>0.0</td>\n      <td>3445.37</td>\n      <td>5658.00</td>\n      <td>...</td>\n      <td>0.0</td>\n      <td>5000.0</td>\n      <td>644.62</td>\n      <td>33500.00</td>\n      <td>644.62</td>\n      <td>0.0000</td>\n      <td>54700.0</td>\n      <td>0.0</td>\n      <td>0.0</td>\n      <td>0.00</td>\n    </tr>\n    <tr>\n      <th>...</th>\n      <td>...</td>\n      <td>...</td>\n      <td>...</td>\n      <td>...</td>\n      <td>...</td>\n      <td>...</td>\n      <td>...</td>\n      <td>...</td>\n      <td>...</td>\n      <td>...</td>\n      <td>...</td>\n      <td>...</td>\n      <td>...</td>\n      <td>...</td>\n      <td>...</td>\n      <td>...</td>\n      <td>...</td>\n      <td>...</td>\n      <td>...</td>\n      <td>...</td>\n      <td>...</td>\n    </tr>\n    <tr>\n      <th>129019</th>\n      <td>0.0</td>\n      <td>0.0</td>\n      <td>0.0</td>\n      <td>0.0</td>\n      <td>0.0</td>\n      <td>0.0</td>\n      <td>0.0</td>\n      <td>0.0</td>\n      <td>2657.80</td>\n      <td>2416.75</td>\n      <td>...</td>\n      <td>0.0</td>\n      <td>0.0</td>\n      <td>13675.60</td>\n      <td>56981.67</td>\n      <td>931.31</td>\n      <td>50.8184</td>\n      <td>78800.0</td>\n      <td>7360.0</td>\n      <td>1399.0</td>\n      <td>10256.70</td>\n    </tr>\n    <tr>\n      <th>129020</th>\n      <td>0.0</td>\n      <td>0.0</td>\n      <td>0.0</td>\n      <td>0.0</td>\n      <td>0.0</td>\n      <td>0.0</td>\n      <td>0.0</td>\n      <td>0.0</td>\n      <td>630.44</td>\n      <td>1376.00</td>\n      <td>...</td>\n      <td>0.0</td>\n      <td>0.0</td>\n      <td>4999.90</td>\n      <td>24166.67</td>\n      <td>423.98</td>\n      <td>15.3700</td>\n      <td>26850.0</td>\n      <td>0.0</td>\n      <td>0.0</td>\n      <td>4350.00</td>\n    </tr>\n    <tr>\n      <th>129021</th>\n      <td>0.0</td>\n      <td>0.0</td>\n      <td>0.0</td>\n      <td>0.0</td>\n      <td>0.0</td>\n      <td>0.0</td>\n      <td>0.0</td>\n      <td>0.0</td>\n      <td>1009.42</td>\n      <td>3625.00</td>\n      <td>...</td>\n      <td>0.0</td>\n      <td>0.0</td>\n      <td>452.38</td>\n      <td>23458.33</td>\n      <td>452.37</td>\n      <td>14.9200</td>\n      <td>28150.0</td>\n      <td>0.0</td>\n      <td>0.0</td>\n      <td>12667.50</td>\n    </tr>\n    <tr>\n      <th>129022</th>\n      <td>0.0</td>\n      <td>0.0</td>\n      <td>0.0</td>\n      <td>0.0</td>\n      <td>0.0</td>\n      <td>0.0</td>\n      <td>0.0</td>\n      <td>0.0</td>\n      <td>4348.22</td>\n      <td>3258.07</td>\n      <td>...</td>\n      <td>0.0</td>\n      <td>0.0</td>\n      <td>11940.90</td>\n      <td>33169.17</td>\n      <td>358.23</td>\n      <td>21.1000</td>\n      <td>34600.0</td>\n      <td>0.0</td>\n      <td>0.0</td>\n      <td>17990.16</td>\n    </tr>\n    <tr>\n      <th>129023</th>\n      <td>0.0</td>\n      <td>0.0</td>\n      <td>0.0</td>\n      <td>0.0</td>\n      <td>0.0</td>\n      <td>0.0</td>\n      <td>0.0</td>\n      <td>0.0</td>\n      <td>1232.88</td>\n      <td>1612.92</td>\n      <td>...</td>\n      <td>0.0</td>\n      <td>0.0</td>\n      <td>277.24</td>\n      <td>15591.03</td>\n      <td>264.36</td>\n      <td>0.0000</td>\n      <td>20900.0</td>\n      <td>1080.0</td>\n      <td>1080.0</td>\n      <td>9899.99</td>\n    </tr>\n  </tbody>\n</table>\n<p>129024 rows × 22 columns</p>\n</div>"
     },
     "execution_count": 21,
     "metadata": {},
     "output_type": "execute_result"
    }
   ],
   "source": [
    "consent_variables = [\n",
    "            'CON_BL_POST_CHOICE',\n",
    "            'CON_BL_EMAIL_CHOICE',\n",
    "            'CON_BL_PHONE_CHOICE',\n",
    "            'CON_BL_SMS_CHOICE',\n",
    "            'CON_BL_MM_SCORE_CHOICE',\n",
    "            'CON_BL_BMW_DATA_TRF_CHOICE',\n",
    "            'CON_BL_DEALER_DATA_TRF_CHOICE',\n",
    "            'CON_BL_CRM_SCORE_CHOICE',\n",
    "        ]\n",
    "\n",
    "financial_variables = [\n",
    "            'C_DSA',\n",
    "            'PARTIC_MT_REVENU_EURO',\n",
    "            'PARTIC_MT_AUTRE_REVENU_EURO',\n",
    "            'PARTIC_MT_CHARGES_EURO',\n",
    "            'PARTIC_MT_AUTRES_CREDITS_EURO',\n",
    "            'VAL_APPORT_TTC_EURO',\n",
    "            'VAL_PL_TTC_EURO',\n",
    "            'CT_AM_FIN_AMOUNT_EURO',\n",
    "            'MT_MENS',\n",
    "            #'OA',\n",
    "            'ASSUR',\n",
    "            'VAL_CATALOGUE_TTC_EURO',\n",
    "            'VAL_OPTION_TTC_EURO',\n",
    "            'VAL_ACC_REM_TTC_EURO',\n",
    "            'VAL_VR_TTC_EURO'\n",
    "        ]\n",
    "\n",
    "df[consent_variables + financial_variables]"
   ],
   "metadata": {
    "collapsed": false,
    "ExecuteTime": {
     "end_time": "2024-05-22T13:54:49.514874600Z",
     "start_time": "2024-05-22T13:54:49.320592300Z"
    }
   },
   "execution_count": 21
  },
  {
   "cell_type": "code",
   "outputs": [
    {
     "name": "stderr",
     "output_type": "stream",
     "text": [
      "C:\\Users\\qte5631\\PycharmProjects\\Projet Emma\\.venv\\Lib\\site-packages\\sklearn\\base.py:486: UserWarning: X has feature names, but KMeans was fitted without feature names\n",
      "  warnings.warn(\n"
     ]
    },
    {
     "data": {
      "text/plain": "       CODE_POSTAL SITFAM_ID PROFES_ID HABITA_ID       VEH_DES_ENGTYPE  \\\n0             53.0         D      70.0         P                Diesel   \n1             61.0         M      43.0         P                Diesel   \n2             59.0         M      23.0         P  Super sans plomb  95   \n3             95.0         M      52.0         P                Diesel   \n4             59.0         M      36.0         P                Diesel   \n...            ...       ...       ...       ...                   ...   \n129019          77         M      36.0         P                Diesel   \n129020          44         M      55.0         P  Super sans plomb  95   \n129021          44         D      23.0         P                Diesel   \n129022          44         M      45.0         P                Diesel   \n129023          29         M      23.0         P                Diesel   \n\n       SERIE_LIBELLE CT_ID_LP CO_Client ID_MARQ_BIEN ID_ETAT_BIEN ID_NAT_BIEN  \\\n0               3008       51         0          PEU           VO           A   \n1                 A6       51         1          AUD           VO           A   \n2          AVENTADOR       52         1          LAM           VN           A   \n3          TOURAN II       51         1          VAG           VO           A   \n4            SERIE 5       51         0          BMW           VO           A   \n...              ...      ...       ...          ...          ...         ...   \n129019        X5 F15        2         1          BMW           VN           A   \n129020      MINI F56        2         1          MIN           VN           A   \n129021       SERIE 1        4         0          BMW           VN           A   \n129022        X1 F48        4         1          BMW           VN           A   \n129023      MINI F56       30         0          MIN           VO           A   \n\n       Ancien_renouvelant  \n0                       0  \n1                       0  \n2                       0  \n3                       0  \n4                       0  \n...                   ...  \n129019                  0  \n129020                  0  \n129021                  0  \n129022                  0  \n129023                  0  \n\n[129024 rows x 12 columns]",
      "text/html": "<div>\n<style scoped>\n    .dataframe tbody tr th:only-of-type {\n        vertical-align: middle;\n    }\n\n    .dataframe tbody tr th {\n        vertical-align: top;\n    }\n\n    .dataframe thead th {\n        text-align: right;\n    }\n</style>\n<table border=\"1\" class=\"dataframe\">\n  <thead>\n    <tr style=\"text-align: right;\">\n      <th></th>\n      <th>CODE_POSTAL</th>\n      <th>SITFAM_ID</th>\n      <th>PROFES_ID</th>\n      <th>HABITA_ID</th>\n      <th>VEH_DES_ENGTYPE</th>\n      <th>SERIE_LIBELLE</th>\n      <th>CT_ID_LP</th>\n      <th>CO_Client</th>\n      <th>ID_MARQ_BIEN</th>\n      <th>ID_ETAT_BIEN</th>\n      <th>ID_NAT_BIEN</th>\n      <th>Ancien_renouvelant</th>\n    </tr>\n  </thead>\n  <tbody>\n    <tr>\n      <th>0</th>\n      <td>53.0</td>\n      <td>D</td>\n      <td>70.0</td>\n      <td>P</td>\n      <td>Diesel</td>\n      <td>3008</td>\n      <td>51</td>\n      <td>0</td>\n      <td>PEU</td>\n      <td>VO</td>\n      <td>A</td>\n      <td>0</td>\n    </tr>\n    <tr>\n      <th>1</th>\n      <td>61.0</td>\n      <td>M</td>\n      <td>43.0</td>\n      <td>P</td>\n      <td>Diesel</td>\n      <td>A6</td>\n      <td>51</td>\n      <td>1</td>\n      <td>AUD</td>\n      <td>VO</td>\n      <td>A</td>\n      <td>0</td>\n    </tr>\n    <tr>\n      <th>2</th>\n      <td>59.0</td>\n      <td>M</td>\n      <td>23.0</td>\n      <td>P</td>\n      <td>Super sans plomb  95</td>\n      <td>AVENTADOR</td>\n      <td>52</td>\n      <td>1</td>\n      <td>LAM</td>\n      <td>VN</td>\n      <td>A</td>\n      <td>0</td>\n    </tr>\n    <tr>\n      <th>3</th>\n      <td>95.0</td>\n      <td>M</td>\n      <td>52.0</td>\n      <td>P</td>\n      <td>Diesel</td>\n      <td>TOURAN II</td>\n      <td>51</td>\n      <td>1</td>\n      <td>VAG</td>\n      <td>VO</td>\n      <td>A</td>\n      <td>0</td>\n    </tr>\n    <tr>\n      <th>4</th>\n      <td>59.0</td>\n      <td>M</td>\n      <td>36.0</td>\n      <td>P</td>\n      <td>Diesel</td>\n      <td>SERIE 5</td>\n      <td>51</td>\n      <td>0</td>\n      <td>BMW</td>\n      <td>VO</td>\n      <td>A</td>\n      <td>0</td>\n    </tr>\n    <tr>\n      <th>...</th>\n      <td>...</td>\n      <td>...</td>\n      <td>...</td>\n      <td>...</td>\n      <td>...</td>\n      <td>...</td>\n      <td>...</td>\n      <td>...</td>\n      <td>...</td>\n      <td>...</td>\n      <td>...</td>\n      <td>...</td>\n    </tr>\n    <tr>\n      <th>129019</th>\n      <td>77</td>\n      <td>M</td>\n      <td>36.0</td>\n      <td>P</td>\n      <td>Diesel</td>\n      <td>X5 F15</td>\n      <td>2</td>\n      <td>1</td>\n      <td>BMW</td>\n      <td>VN</td>\n      <td>A</td>\n      <td>0</td>\n    </tr>\n    <tr>\n      <th>129020</th>\n      <td>44</td>\n      <td>M</td>\n      <td>55.0</td>\n      <td>P</td>\n      <td>Super sans plomb  95</td>\n      <td>MINI F56</td>\n      <td>2</td>\n      <td>1</td>\n      <td>MIN</td>\n      <td>VN</td>\n      <td>A</td>\n      <td>0</td>\n    </tr>\n    <tr>\n      <th>129021</th>\n      <td>44</td>\n      <td>D</td>\n      <td>23.0</td>\n      <td>P</td>\n      <td>Diesel</td>\n      <td>SERIE 1</td>\n      <td>4</td>\n      <td>0</td>\n      <td>BMW</td>\n      <td>VN</td>\n      <td>A</td>\n      <td>0</td>\n    </tr>\n    <tr>\n      <th>129022</th>\n      <td>44</td>\n      <td>M</td>\n      <td>45.0</td>\n      <td>P</td>\n      <td>Diesel</td>\n      <td>X1 F48</td>\n      <td>4</td>\n      <td>1</td>\n      <td>BMW</td>\n      <td>VN</td>\n      <td>A</td>\n      <td>0</td>\n    </tr>\n    <tr>\n      <th>129023</th>\n      <td>29</td>\n      <td>M</td>\n      <td>23.0</td>\n      <td>P</td>\n      <td>Diesel</td>\n      <td>MINI F56</td>\n      <td>30</td>\n      <td>0</td>\n      <td>MIN</td>\n      <td>VO</td>\n      <td>A</td>\n      <td>0</td>\n    </tr>\n  </tbody>\n</table>\n<p>129024 rows × 12 columns</p>\n</div>"
     },
     "execution_count": 44,
     "metadata": {},
     "output_type": "execute_result"
    }
   ],
   "source": [
    "from pandas import CategoricalDtype\n",
    "from sklearn.cluster import KMeans\n",
    "from sklearn.preprocessing import StandardScaler\n",
    "\n",
    "\n",
    "def convert_to_categorical(df: pd.DataFrame, category_variables: list[str], ordered: dict = None) -> pd.DataFrame:\n",
    "    for category_variable in category_variables:\n",
    "        if df[category_variable].dtype != 'object':\n",
    "            df[category_variable] = df[category_variable].astype(str)\n",
    "\n",
    "        if ordered is not None:\n",
    "            if category_variable in ordered.keys():\n",
    "                cat_type = CategoricalDtype(categories=ordered[category_variable], ordered=True)\n",
    "                df[category_variable] = df[category_variable].astype(cat_type)\n",
    "\n",
    "        else:\n",
    "            df[category_variable] = df[category_variable].astype(\"category\")\n",
    "\n",
    "    return df\n",
    "\n",
    "\n",
    "financial_variables_ = [\n",
    "            'C_DSA',\n",
    "            'PARTIC_MT_REVENU_EURO',\n",
    "            'PARTIC_MT_AUTRE_REVENU_EURO',\n",
    "            'PARTIC_MT_CHARGES_EURO',\n",
    "            'PARTIC_MT_AUTRES_CREDITS_EURO',\n",
    "            'VAL_APPORT_TTC_EURO',\n",
    "            'VAL_PL_TTC_EURO',\n",
    "            #'CT_AM_FIN_AMOUNT_EURO',\n",
    "            'MT_MENS',\n",
    "            #'OA',\n",
    "            'ASSUR',\n",
    "            'VAL_CATALOGUE_TTC_EURO',\n",
    "            'VAL_OPTION_TTC_EURO',\n",
    "            'VAL_ACC_REM_TTC_EURO',\n",
    "            'VAL_VR_TTC_EURO'\n",
    "        ]\n",
    "\n",
    "data = df[financial_variables_]\n",
    "\n",
    "scaler = StandardScaler()\n",
    "scaled_features = scaler.fit_transform(data)\n",
    "kmeans = KMeans(n_clusters=7)\n",
    "kmeans.fit(scaled_features)\n",
    "predict = kmeans.predict(df[financial_variables_])\n",
    "df['CLUSTER'] = pd.Series(predict, index=df.index)\n",
    "\n",
    "\n",
    "df = convert_to_categorical(df=df, category_variables=[\n",
    "    'CLUSTER',\n",
    "    'CODE_POSTAL',\n",
    "    'SITFAM_ID',\n",
    "    'PROFES_ID',\n",
    "    'HABITA_ID',\n",
    "    'VEH_DES_ENGTYPE',\n",
    "    'SERIE_LIBELLE',\n",
    "    'CT_ID_LP',\n",
    "    'CO_Client',\n",
    "    'ID_MARQ_BIEN',\n",
    "    'ID_ETAT_BIEN',\n",
    "    'ID_NAT_BIEN',\n",
    "    'Ancien_renouvelant'])\n",
    "\n",
    "df[['CODE_POSTAL',\n",
    "                'SITFAM_ID',\n",
    "                'PROFES_ID',\n",
    "                'HABITA_ID',\n",
    "                'VEH_DES_ENGTYPE',\n",
    "                'SERIE_LIBELLE',\n",
    "                'CT_ID_LP',\n",
    "                'CO_Client',\n",
    "                'ID_MARQ_BIEN',\n",
    "                'ID_ETAT_BIEN',\n",
    "                'ID_NAT_BIEN',\n",
    "                'Ancien_renouvelant']]"
   ],
   "metadata": {
    "collapsed": false,
    "ExecuteTime": {
     "end_time": "2024-05-23T07:55:29.527823Z",
     "start_time": "2024-05-23T07:55:28.646267Z"
    }
   },
   "execution_count": 44
  },
  {
   "cell_type": "code",
   "outputs": [
    {
     "data": {
      "text/plain": "CLUSTER\n6    64775\n3    43600\n2    19822\n1      734\n4       93\nName: count, dtype: int64"
     },
     "execution_count": 46,
     "metadata": {},
     "output_type": "execute_result"
    }
   ],
   "source": [
    "df['CLUSTER'].value_counts()"
   ],
   "metadata": {
    "collapsed": false,
    "ExecuteTime": {
     "end_time": "2024-05-23T07:55:45.221121100Z",
     "start_time": "2024-05-23T07:55:45.090483400Z"
    }
   },
   "execution_count": 46
  },
  {
   "cell_type": "code",
   "outputs": [
    {
     "ename": "NameError",
     "evalue": "name 'df' is not defined",
     "output_type": "error",
     "traceback": [
      "\u001B[1;31m---------------------------------------------------------------------------\u001B[0m",
      "\u001B[1;31mNameError\u001B[0m                                 Traceback (most recent call last)",
      "Cell \u001B[1;32mIn[4], line 4\u001B[0m\n\u001B[0;32m      1\u001B[0m \u001B[38;5;28;01mfrom\u001B[39;00m \u001B[38;5;21;01mcatboost\u001B[39;00m \u001B[38;5;28;01mimport\u001B[39;00m CatBoostClassifier\n\u001B[0;32m      2\u001B[0m \u001B[38;5;28;01mfrom\u001B[39;00m \u001B[38;5;21;01msklearn\u001B[39;00m\u001B[38;5;21;01m.\u001B[39;00m\u001B[38;5;21;01mmodel_selection\u001B[39;00m \u001B[38;5;28;01mimport\u001B[39;00m train_test_split\n\u001B[1;32m----> 4\u001B[0m X \u001B[38;5;241m=\u001B[39m \u001B[43mdf\u001B[49m[[\n\u001B[0;32m      5\u001B[0m     \u001B[38;5;124m'\u001B[39m\u001B[38;5;124mSCORE_NOTE\u001B[39m\u001B[38;5;124m'\u001B[39m,\n\u001B[0;32m      6\u001B[0m     \u001B[38;5;124m'\u001B[39m\u001B[38;5;124mYEAR_NAISSANCE\u001B[39m\u001B[38;5;124m'\u001B[39m,\n\u001B[0;32m      7\u001B[0m     \u001B[38;5;124m'\u001B[39m\u001B[38;5;124mPARTIC_N_ENFANT\u001B[39m\u001B[38;5;124m'\u001B[39m,\n\u001B[0;32m      8\u001B[0m     \u001B[38;5;124m'\u001B[39m\u001B[38;5;124mYEAR_EMPLOI\u001B[39m\u001B[38;5;124m'\u001B[39m,\n\u001B[0;32m      9\u001B[0m     \u001B[38;5;124m'\u001B[39m\u001B[38;5;124mYEAR_HABITAT\u001B[39m\u001B[38;5;124m'\u001B[39m,\n\u001B[0;32m     10\u001B[0m     \u001B[38;5;124m'\u001B[39m\u001B[38;5;124mNB_ECH\u001B[39m\u001B[38;5;124m'\u001B[39m,\n\u001B[0;32m     11\u001B[0m \n\u001B[0;32m     12\u001B[0m     \u001B[38;5;124m'\u001B[39m\u001B[38;5;124mC_DSA\u001B[39m\u001B[38;5;124m'\u001B[39m,\n\u001B[0;32m     13\u001B[0m     \u001B[38;5;124m'\u001B[39m\u001B[38;5;124mPARTIC_MT_REVENU_EURO\u001B[39m\u001B[38;5;124m'\u001B[39m,\n\u001B[0;32m     14\u001B[0m     \u001B[38;5;124m'\u001B[39m\u001B[38;5;124mPARTIC_MT_AUTRE_REVENU_EURO\u001B[39m\u001B[38;5;124m'\u001B[39m,\n\u001B[0;32m     15\u001B[0m     \u001B[38;5;124m'\u001B[39m\u001B[38;5;124mPARTIC_MT_CHARGES_EURO\u001B[39m\u001B[38;5;124m'\u001B[39m,\n\u001B[0;32m     16\u001B[0m     \u001B[38;5;124m'\u001B[39m\u001B[38;5;124mPARTIC_MT_AUTRES_CREDITS_EURO\u001B[39m\u001B[38;5;124m'\u001B[39m,\n\u001B[0;32m     17\u001B[0m     \u001B[38;5;124m'\u001B[39m\u001B[38;5;124mVAL_APPORT_TTC_EURO\u001B[39m\u001B[38;5;124m'\u001B[39m,\n\u001B[0;32m     18\u001B[0m     \u001B[38;5;124m'\u001B[39m\u001B[38;5;124mVAL_PL_TTC_EURO\u001B[39m\u001B[38;5;124m'\u001B[39m,\n\u001B[0;32m     19\u001B[0m     \u001B[38;5;124m'\u001B[39m\u001B[38;5;124mCT_AM_FIN_AMOUNT_EURO\u001B[39m\u001B[38;5;124m'\u001B[39m,\n\u001B[0;32m     20\u001B[0m     \u001B[38;5;124m'\u001B[39m\u001B[38;5;124mMT_MENS\u001B[39m\u001B[38;5;124m'\u001B[39m,\n\u001B[0;32m     21\u001B[0m     \u001B[38;5;124m'\u001B[39m\u001B[38;5;124mASSUR\u001B[39m\u001B[38;5;124m'\u001B[39m,\n\u001B[0;32m     22\u001B[0m     \u001B[38;5;124m'\u001B[39m\u001B[38;5;124mVAL_CATALOGUE_TTC_EURO\u001B[39m\u001B[38;5;124m'\u001B[39m,\n\u001B[0;32m     23\u001B[0m     \u001B[38;5;124m'\u001B[39m\u001B[38;5;124mVAL_OPTION_TTC_EURO\u001B[39m\u001B[38;5;124m'\u001B[39m,\n\u001B[0;32m     24\u001B[0m     \u001B[38;5;124m'\u001B[39m\u001B[38;5;124mVAL_ACC_REM_TTC_EURO\u001B[39m\u001B[38;5;124m'\u001B[39m,\n\u001B[0;32m     25\u001B[0m     \u001B[38;5;124m'\u001B[39m\u001B[38;5;124mVAL_VR_TTC_EURO\u001B[39m\u001B[38;5;124m'\u001B[39m,\n\u001B[0;32m     26\u001B[0m \n\u001B[0;32m     27\u001B[0m     \u001B[38;5;124m'\u001B[39m\u001B[38;5;124mCLUSTER\u001B[39m\u001B[38;5;124m'\u001B[39m,\n\u001B[0;32m     28\u001B[0m     \u001B[38;5;124m'\u001B[39m\u001B[38;5;124mCODE_POSTAL\u001B[39m\u001B[38;5;124m'\u001B[39m,\n\u001B[0;32m     29\u001B[0m     \u001B[38;5;124m'\u001B[39m\u001B[38;5;124mSITFAM_ID\u001B[39m\u001B[38;5;124m'\u001B[39m,\n\u001B[0;32m     30\u001B[0m     \u001B[38;5;124m'\u001B[39m\u001B[38;5;124mPROFES_ID\u001B[39m\u001B[38;5;124m'\u001B[39m,\n\u001B[0;32m     31\u001B[0m     \u001B[38;5;124m'\u001B[39m\u001B[38;5;124mHABITA_ID\u001B[39m\u001B[38;5;124m'\u001B[39m,\n\u001B[0;32m     32\u001B[0m     \u001B[38;5;124m'\u001B[39m\u001B[38;5;124mVEH_DES_ENGTYPE\u001B[39m\u001B[38;5;124m'\u001B[39m,\n\u001B[0;32m     33\u001B[0m     \u001B[38;5;124m'\u001B[39m\u001B[38;5;124mID_ETAT_BIEN\u001B[39m\u001B[38;5;124m'\u001B[39m,\n\u001B[0;32m     34\u001B[0m     \u001B[38;5;124m'\u001B[39m\u001B[38;5;124mID_NAT_BIEN\u001B[39m\u001B[38;5;124m'\u001B[39m,\n\u001B[0;32m     35\u001B[0m     \u001B[38;5;124m'\u001B[39m\u001B[38;5;124mSERIE_LIBELLE\u001B[39m\u001B[38;5;124m'\u001B[39m,\n\u001B[0;32m     36\u001B[0m     \u001B[38;5;124m'\u001B[39m\u001B[38;5;124mCT_ID_LP\u001B[39m\u001B[38;5;124m'\u001B[39m,\n\u001B[0;32m     37\u001B[0m     \u001B[38;5;124m'\u001B[39m\u001B[38;5;124mCO_Client\u001B[39m\u001B[38;5;124m'\u001B[39m,\n\u001B[0;32m     38\u001B[0m     \u001B[38;5;124m'\u001B[39m\u001B[38;5;124mID_MARQ_BIEN\u001B[39m\u001B[38;5;124m'\u001B[39m,\n\u001B[0;32m     39\u001B[0m     \u001B[38;5;124m'\u001B[39m\u001B[38;5;124mAncien_renouvelant\u001B[39m\u001B[38;5;124m'\u001B[39m\n\u001B[0;32m     40\u001B[0m ]]\n\u001B[0;32m     42\u001B[0m y \u001B[38;5;241m=\u001B[39m df[\u001B[38;5;124m\"\u001B[39m\u001B[38;5;124mRenouvelant\u001B[39m\u001B[38;5;124m\"\u001B[39m]\n\u001B[0;32m     44\u001B[0m cat_features \u001B[38;5;241m=\u001B[39m [\n\u001B[0;32m     45\u001B[0m         \u001B[38;5;66;03m# Most relevant variables\u001B[39;00m\n\u001B[0;32m     46\u001B[0m         \u001B[38;5;124m'\u001B[39m\u001B[38;5;124mCLUSTER\u001B[39m\u001B[38;5;124m'\u001B[39m,\n\u001B[1;32m   (...)\u001B[0m\n\u001B[0;32m     61\u001B[0m         \u001B[38;5;66;03m# 'ID_BAREME_FI',\u001B[39;00m\n\u001B[0;32m     62\u001B[0m     ]\n",
      "\u001B[1;31mNameError\u001B[0m: name 'df' is not defined"
     ]
    }
   ],
   "source": [
    "from catboost import CatBoostClassifier\n",
    "from sklearn.model_selection import train_test_split\n",
    "\n",
    "X = df[[\n",
    "    'SCORE_NOTE',\n",
    "    'YEAR_NAISSANCE',\n",
    "    'PARTIC_N_ENFANT',\n",
    "    'YEAR_EMPLOI',\n",
    "    'YEAR_HABITAT',\n",
    "    'NB_ECH',\n",
    "\n",
    "    'C_DSA',\n",
    "    'PARTIC_MT_REVENU_EURO',\n",
    "    'PARTIC_MT_AUTRE_REVENU_EURO',\n",
    "    'PARTIC_MT_CHARGES_EURO',\n",
    "    'PARTIC_MT_AUTRES_CREDITS_EURO',\n",
    "    'VAL_APPORT_TTC_EURO',\n",
    "    'VAL_PL_TTC_EURO',\n",
    "    'CT_AM_FIN_AMOUNT_EURO',\n",
    "    'MT_MENS',\n",
    "    'ASSUR',\n",
    "    'VAL_CATALOGUE_TTC_EURO',\n",
    "    'VAL_OPTION_TTC_EURO',\n",
    "    'VAL_ACC_REM_TTC_EURO',\n",
    "    'VAL_VR_TTC_EURO',\n",
    "\n",
    "    'CLUSTER',\n",
    "    'CODE_POSTAL',\n",
    "    'SITFAM_ID',\n",
    "    'PROFES_ID',\n",
    "    'HABITA_ID',\n",
    "    'VEH_DES_ENGTYPE',\n",
    "    'ID_ETAT_BIEN',\n",
    "    'ID_NAT_BIEN',\n",
    "    'SERIE_LIBELLE',\n",
    "    'CT_ID_LP',\n",
    "    'CO_Client',\n",
    "    'ID_MARQ_BIEN',\n",
    "    'Ancien_renouvelant'\n",
    "]]\n",
    "\n",
    "y = df[\"Renouvelant\"]\n",
    "\n",
    "cat_features = [\n",
    "        # Most relevant variables\n",
    "        'CLUSTER',\n",
    "        'CODE_POSTAL',\n",
    "        'SITFAM_ID',\n",
    "        'PROFES_ID',\n",
    "        'HABITA_ID',\n",
    "        'VEH_DES_ENGTYPE',\n",
    "        'SERIE_LIBELLE',\n",
    "        'CT_ID_LP',\n",
    "        'CO_Client',\n",
    "        'ID_MARQ_BIEN',\n",
    "        'ID_ETAT_BIEN',\n",
    "        'ID_NAT_BIEN',\n",
    "        'Ancien_renouvelant',\n",
    "\n",
    "        # Less relavant variables\n",
    "        # 'ID_BAREME_FI',\n",
    "    ]\n",
    "\n",
    "train_X, test_X, train_y, test_y = train_test_split(X, y, test_size=0.3)\n",
    "\n",
    "test_model = CatBoostClassifier(\n",
    "                iterations=100,\n",
    "                learning_rate=0.01,\n",
    "                depth=4,\n",
    "                bootstrap_type=\"Bayesian\",\n",
    "                bagging_temperature=1,\n",
    "                od_type=\"IncToDec\",\n",
    "                od_wait=10,\n",
    "                verbose=False\n",
    "            )\n",
    "test_model.fit(train_X, train_y, cat_features)\n",
    "y_pred = test_model.predict(test_X)"
   ],
   "metadata": {
    "collapsed": false,
    "ExecuteTime": {
     "end_time": "2024-05-30T07:55:07.977849200Z",
     "start_time": "2024-05-30T07:54:48.756542700Z"
    }
   },
   "execution_count": 4
  },
  {
   "cell_type": "code",
   "outputs": [],
   "source": [
    "from sklearn.metrics import confusion_matrix, accuracy_score, f1_score\n",
    "import seaborn as sns\n",
    "from matplotlib import pyplot as plt"
   ],
   "metadata": {
    "collapsed": false,
    "ExecuteTime": {
     "end_time": "2024-08-26T22:11:14.135175Z",
     "start_time": "2024-08-26T22:11:14.066914Z"
    }
   },
   "execution_count": 4
  },
  {
   "cell_type": "code",
   "outputs": [
    {
     "data": {
      "text/plain": "<Figure size 640x480 with 2 Axes>",
      "image/png": "[encoded data removed]"
     },
     "metadata": {},
     "output_type": "display_data"
    }
   ],
   "source": [
    "from sklearn.metrics import confusion_matrix, accuracy_score, f1_score\n",
    "import seaborn as sns\n",
    "from matplotlib import pyplot as plt\n",
    "\n",
    "plt.figure()\n",
    "cm = confusion_matrix(test_y, y_pred)\n",
    "cm_matrix = pd.DataFrame(data=cm, columns=['Actual Positive:1', 'Actual Negative:0'],\n",
    "                         index=['Predict Positive:1', 'Predict Negative:0'])\n",
    "diagram = sns.heatmap(cm_matrix, annot=True, fmt='d', cmap='YlGnBu')\n",
    "diagram.figure.savefig(\"C:/Users/qte5631/PycharmProjects/Projet Emma/tmp/CatBoost Confusion Matrix.png\")"
   ],
   "metadata": {
    "collapsed": false,
    "ExecuteTime": {
     "end_time": "2024-05-23T07:56:29.932198400Z",
     "start_time": "2024-05-23T07:56:28.959892Z"
    }
   },
   "execution_count": 48
  },
  {
   "cell_type": "code",
   "outputs": [
    {
     "data": {
      "text/plain": "<Figure size 640x480 with 0 Axes>"
     },
     "metadata": {},
     "output_type": "display_data"
    },
    {
     "data": {
      "text/plain": "<Figure size 1200x600 with 1 Axes>",
      "image/png": "[encoded data removed]"
     },
     "metadata": {},
     "output_type": "display_data"
    }
   ],
   "source": [
    "import numpy as np\n",
    "plt.figure()\n",
    "feature_importance = test_model.feature_importances_\n",
    "sorted_idx = np.argsort(feature_importance)\n",
    "fig = plt.figure(figsize=(12, 6))\n",
    "plt.barh(range(len(sorted_idx)), feature_importance[sorted_idx], align='center')\n",
    "plt.yticks(range(len(sorted_idx)), np.array(test_X.columns)[sorted_idx])\n",
    "plt.title('Feature Importance')\n",
    "plt.savefig(\"C:/Users/qte5631/PycharmProjects/Projet Emma/tmp/CatBoost feature importance test.png\")\n",
    "\n",
    "feature_importance = test_model.feature_importances_\n",
    "\n",
    "\n",
    "# plt.figure()\n",
    "# coefficients = model_best.coef_[0]\n",
    "# feature_importance = pd.DataFrame({'Feature': X.columns, 'Importance': np.abs(coefficients)})\n",
    "# feature_importance = feature_importance.sort_values('Importance', ascending=True).nlargest(20, 'Importance')\n",
    "# diagram2 = feature_importance.plot(x='Feature', y='Importance', kind='barh', figsize=(10, 6))\n",
    "# diagram2.figure.savefig(TMP_DIRECTORY + \"/CatBoost feature importance.png\")\n",
    "# mlflow.log_artifact(TMP_DIRECTORY + \"/CatBoost feature importance.png\",\n",
    "#                    artifact_path=\"Feature importance\")"
   ],
   "metadata": {
    "collapsed": false,
    "ExecuteTime": {
     "end_time": "2024-05-23T07:56:54.268967100Z",
     "start_time": "2024-05-23T07:56:53.410746200Z"
    }
   },
   "execution_count": 49
  },
  {
   "cell_type": "code",
   "outputs": [
    {
     "data": {
      "text/plain": "C_DSA                            0\nPARTIC_MT_REVENU_EURO            0\nPARTIC_MT_AUTRE_REVENU_EURO      0\nPARTIC_MT_CHARGES_EURO           0\nPARTIC_MT_AUTRES_CREDITS_EURO    0\nVAL_APPORT_TTC_EURO              0\nVAL_PL_TTC_EURO                  0\nCT_AM_FIN_AMOUNT_EURO            0\nMT_MENS                          0\nASSUR                            0\nVAL_CATALOGUE_TTC_EURO           0\nVAL_OPTION_TTC_EURO              0\nVAL_ACC_REM_TTC_EURO             0\nVAL_VR_TTC_EURO                  0\ndtype: int64"
     },
     "execution_count": 22,
     "metadata": {},
     "output_type": "execute_result"
    }
   ],
   "source": [
    "df[financial_variables].isna().sum()"
   ],
   "metadata": {
    "collapsed": false,
    "ExecuteTime": {
     "end_time": "2024-05-22T13:54:59.373791Z",
     "start_time": "2024-05-22T13:54:59.235859900Z"
    }
   },
   "execution_count": 22
  },
  {
   "cell_type": "code",
   "outputs": [
    {
     "data": {
      "text/plain": "ID_CONT                           object\nID_BAREME_FI                      object\nCT_ID_LP                           int64\nSCORE_NOTE                       float64\nC_DSA                            float64\nCO_Client                          int64\nCODE_POSTAL                       object\nSITFAM_ID                         object\nPROFES_ID                        float64\nHABITA_ID                         object\nYEAR_NAISSANCE                   float64\nPARTIC_N_ENFANT                  float64\nPARTIC_MT_REVENU_EURO            float64\nPARTIC_MT_AUTRE_REVENU_EURO      float64\nPARTIC_MT_CHARGES_EURO           float64\nPARTIC_MT_AUTRES_CREDITS_EURO    float64\nYEAR_EMPLOI                      float64\nYEAR_HABITAT                     float64\nVAL_APPORT_TTC_EURO              float64\nVAL_PL_TTC_EURO                  float64\nCT_AM_FIN_AMOUNT_EURO            float64\nMT_MENS                          float64\nNB_ECH                           float64\nOA                               float64\nASSUR                            float64\nID_MARQ_BIEN                      object\nVEH_DES_ENGTYPE                   object\nID_ETAT_BIEN                      object\nID_NAT_BIEN                       object\nSERIE_LIBELLE                     object\nVAL_CATALOGUE_TTC_EURO           float64\nVAL_OPTION_TTC_EURO              float64\nVAL_ACC_REM_TTC_EURO             float64\nVAL_ARGUS_BIEN_EURO              float64\nVAL_VR_TTC_EURO                  float64\nAncien_renouvelant                 int64\nRenouvelant                        int64\nConsent                          float64\ndtype: object"
     },
     "execution_count": 9,
     "metadata": {},
     "output_type": "execute_result"
    }
   ],
   "source": [
    "df.dtypes"
   ],
   "metadata": {
    "collapsed": false,
    "ExecuteTime": {
     "end_time": "2024-08-25T17:11:11.690624Z",
     "start_time": "2024-08-25T17:11:11.601593Z"
    }
   },
   "execution_count": 9
  },
  {
   "cell_type": "code",
   "outputs": [
    {
     "data": {
      "text/plain": "dtype('int64')"
     },
     "execution_count": 12,
     "metadata": {},
     "output_type": "execute_result"
    }
   ],
   "source": [
    "df['CT_ID_LP'].dtypes"
   ],
   "metadata": {
    "collapsed": false,
    "ExecuteTime": {
     "end_time": "2024-08-27T16:20:05.607063Z",
     "start_time": "2024-08-27T16:20:05.503316Z"
    }
   },
   "execution_count": 12
  },
  {
   "cell_type": "code",
   "outputs": [
    {
     "ename": "ValueError",
     "evalue": "could not convert string to float: 'XX'",
     "output_type": "error",
     "traceback": [
      "\u001B[0;31m---------------------------------------------------------------------------\u001B[0m",
      "\u001B[0;31mValueError\u001B[0m                                Traceback (most recent call last)",
      "\u001B[0;32m/var/folders/19/12p86wds0274f6brx8vv1bdw0000gn/T/ipykernel_7761/4095381422.py\u001B[0m in \u001B[0;36m?\u001B[0;34m()\u001B[0m\n\u001B[1;32m     22\u001B[0m \u001B[0mdata\u001B[0m \u001B[0;34m=\u001B[0m \u001B[0mdf\u001B[0m\u001B[0;34m[\u001B[0m\u001B[0mfinancial_variables_\u001B[0m\u001B[0;34m]\u001B[0m\u001B[0;34m\u001B[0m\u001B[0;34m\u001B[0m\u001B[0m\n\u001B[1;32m     23\u001B[0m \u001B[0minertias\u001B[0m \u001B[0;34m=\u001B[0m \u001B[0;34m[\u001B[0m\u001B[0;34m]\u001B[0m\u001B[0;34m\u001B[0m\u001B[0;34m\u001B[0m\u001B[0m\n\u001B[1;32m     24\u001B[0m \u001B[0;34m\u001B[0m\u001B[0m\n\u001B[1;32m     25\u001B[0m \u001B[0mscaler\u001B[0m \u001B[0;34m=\u001B[0m \u001B[0mStandardScaler\u001B[0m\u001B[0;34m(\u001B[0m\u001B[0;34m)\u001B[0m\u001B[0;34m\u001B[0m\u001B[0;34m\u001B[0m\u001B[0m\n\u001B[0;32m---> 26\u001B[0;31m \u001B[0mscaled_features\u001B[0m \u001B[0;34m=\u001B[0m \u001B[0mscaler\u001B[0m\u001B[0;34m.\u001B[0m\u001B[0mfit_transform\u001B[0m\u001B[0;34m(\u001B[0m\u001B[0mdata\u001B[0m\u001B[0;34m)\u001B[0m\u001B[0;34m\u001B[0m\u001B[0;34m\u001B[0m\u001B[0m\n\u001B[0m\u001B[1;32m     27\u001B[0m \u001B[0;32mfor\u001B[0m \u001B[0mi\u001B[0m \u001B[0;32min\u001B[0m \u001B[0mrange\u001B[0m\u001B[0;34m(\u001B[0m\u001B[0;36m1\u001B[0m\u001B[0;34m,\u001B[0m\u001B[0;36m15\u001B[0m\u001B[0;34m)\u001B[0m\u001B[0;34m:\u001B[0m\u001B[0;34m\u001B[0m\u001B[0;34m\u001B[0m\u001B[0m\n\u001B[1;32m     28\u001B[0m     \u001B[0mkmeans\u001B[0m \u001B[0;34m=\u001B[0m \u001B[0mKMeans\u001B[0m\u001B[0;34m(\u001B[0m\u001B[0mn_clusters\u001B[0m\u001B[0;34m=\u001B[0m\u001B[0mi\u001B[0m\u001B[0;34m)\u001B[0m\u001B[0;34m\u001B[0m\u001B[0;34m\u001B[0m\u001B[0m\n\u001B[1;32m     29\u001B[0m     \u001B[0mkmeans\u001B[0m\u001B[0;34m.\u001B[0m\u001B[0mfit\u001B[0m\u001B[0;34m(\u001B[0m\u001B[0mscaled_features\u001B[0m\u001B[0;34m)\u001B[0m\u001B[0;34m\u001B[0m\u001B[0;34m\u001B[0m\u001B[0m\n",
      "\u001B[0;32m~/anaconda3/lib/python3.11/site-packages/sklearn/utils/_set_output.py\u001B[0m in \u001B[0;36m?\u001B[0;34m(self, X, *args, **kwargs)\u001B[0m\n\u001B[1;32m    138\u001B[0m     \u001B[0;34m@\u001B[0m\u001B[0mwraps\u001B[0m\u001B[0;34m(\u001B[0m\u001B[0mf\u001B[0m\u001B[0;34m)\u001B[0m\u001B[0;34m\u001B[0m\u001B[0;34m\u001B[0m\u001B[0m\n\u001B[1;32m    139\u001B[0m     \u001B[0;32mdef\u001B[0m \u001B[0mwrapped\u001B[0m\u001B[0;34m(\u001B[0m\u001B[0mself\u001B[0m\u001B[0;34m,\u001B[0m \u001B[0mX\u001B[0m\u001B[0;34m,\u001B[0m \u001B[0;34m*\u001B[0m\u001B[0margs\u001B[0m\u001B[0;34m,\u001B[0m \u001B[0;34m**\u001B[0m\u001B[0mkwargs\u001B[0m\u001B[0;34m)\u001B[0m\u001B[0;34m:\u001B[0m\u001B[0;34m\u001B[0m\u001B[0;34m\u001B[0m\u001B[0m\n\u001B[0;32m--> 140\u001B[0;31m         \u001B[0mdata_to_wrap\u001B[0m \u001B[0;34m=\u001B[0m \u001B[0mf\u001B[0m\u001B[0;34m(\u001B[0m\u001B[0mself\u001B[0m\u001B[0;34m,\u001B[0m \u001B[0mX\u001B[0m\u001B[0;34m,\u001B[0m \u001B[0;34m*\u001B[0m\u001B[0margs\u001B[0m\u001B[0;34m,\u001B[0m \u001B[0;34m**\u001B[0m\u001B[0mkwargs\u001B[0m\u001B[0;34m)\u001B[0m\u001B[0;34m\u001B[0m\u001B[0;34m\u001B[0m\u001B[0m\n\u001B[0m\u001B[1;32m    141\u001B[0m         \u001B[0;32mif\u001B[0m \u001B[0misinstance\u001B[0m\u001B[0;34m(\u001B[0m\u001B[0mdata_to_wrap\u001B[0m\u001B[0;34m,\u001B[0m \u001B[0mtuple\u001B[0m\u001B[0;34m)\u001B[0m\u001B[0;34m:\u001B[0m\u001B[0;34m\u001B[0m\u001B[0;34m\u001B[0m\u001B[0m\n\u001B[1;32m    142\u001B[0m             \u001B[0;31m# only wrap the first output for cross decomposition\u001B[0m\u001B[0;34m\u001B[0m\u001B[0;34m\u001B[0m\u001B[0m\n\u001B[1;32m    143\u001B[0m             return_tuple = (\n",
      "\u001B[0;32m~/anaconda3/lib/python3.11/site-packages/sklearn/base.py\u001B[0m in \u001B[0;36m?\u001B[0;34m(self, X, y, **fit_params)\u001B[0m\n\u001B[1;32m    911\u001B[0m         \u001B[0;31m# non-optimized default implementation; override when a better\u001B[0m\u001B[0;34m\u001B[0m\u001B[0;34m\u001B[0m\u001B[0m\n\u001B[1;32m    912\u001B[0m         \u001B[0;31m# method is possible for a given clustering algorithm\u001B[0m\u001B[0;34m\u001B[0m\u001B[0;34m\u001B[0m\u001B[0m\n\u001B[1;32m    913\u001B[0m         \u001B[0;32mif\u001B[0m \u001B[0my\u001B[0m \u001B[0;32mis\u001B[0m \u001B[0;32mNone\u001B[0m\u001B[0;34m:\u001B[0m\u001B[0;34m\u001B[0m\u001B[0;34m\u001B[0m\u001B[0m\n\u001B[1;32m    914\u001B[0m             \u001B[0;31m# fit method of arity 1 (unsupervised transformation)\u001B[0m\u001B[0;34m\u001B[0m\u001B[0;34m\u001B[0m\u001B[0m\n\u001B[0;32m--> 915\u001B[0;31m             \u001B[0;32mreturn\u001B[0m \u001B[0mself\u001B[0m\u001B[0;34m.\u001B[0m\u001B[0mfit\u001B[0m\u001B[0;34m(\u001B[0m\u001B[0mX\u001B[0m\u001B[0;34m,\u001B[0m \u001B[0;34m**\u001B[0m\u001B[0mfit_params\u001B[0m\u001B[0;34m)\u001B[0m\u001B[0;34m.\u001B[0m\u001B[0mtransform\u001B[0m\u001B[0;34m(\u001B[0m\u001B[0mX\u001B[0m\u001B[0;34m)\u001B[0m\u001B[0;34m\u001B[0m\u001B[0;34m\u001B[0m\u001B[0m\n\u001B[0m\u001B[1;32m    916\u001B[0m         \u001B[0;32melse\u001B[0m\u001B[0;34m:\u001B[0m\u001B[0;34m\u001B[0m\u001B[0;34m\u001B[0m\u001B[0m\n\u001B[1;32m    917\u001B[0m             \u001B[0;31m# fit method of arity 2 (supervised transformation)\u001B[0m\u001B[0;34m\u001B[0m\u001B[0;34m\u001B[0m\u001B[0m\n\u001B[1;32m    918\u001B[0m             \u001B[0;32mreturn\u001B[0m \u001B[0mself\u001B[0m\u001B[0;34m.\u001B[0m\u001B[0mfit\u001B[0m\u001B[0;34m(\u001B[0m\u001B[0mX\u001B[0m\u001B[0;34m,\u001B[0m \u001B[0my\u001B[0m\u001B[0;34m,\u001B[0m \u001B[0;34m**\u001B[0m\u001B[0mfit_params\u001B[0m\u001B[0;34m)\u001B[0m\u001B[0;34m.\u001B[0m\u001B[0mtransform\u001B[0m\u001B[0;34m(\u001B[0m\u001B[0mX\u001B[0m\u001B[0;34m)\u001B[0m\u001B[0;34m\u001B[0m\u001B[0;34m\u001B[0m\u001B[0m\n",
      "\u001B[0;32m~/anaconda3/lib/python3.11/site-packages/sklearn/preprocessing/_data.py\u001B[0m in \u001B[0;36m?\u001B[0;34m(self, X, y, sample_weight)\u001B[0m\n\u001B[1;32m    833\u001B[0m             \u001B[0mFitted\u001B[0m \u001B[0mscaler\u001B[0m\u001B[0;34m.\u001B[0m\u001B[0;34m\u001B[0m\u001B[0;34m\u001B[0m\u001B[0m\n\u001B[1;32m    834\u001B[0m         \"\"\"\n\u001B[1;32m    835\u001B[0m         \u001B[0;31m# Reset internal state before fitting\u001B[0m\u001B[0;34m\u001B[0m\u001B[0;34m\u001B[0m\u001B[0m\n\u001B[1;32m    836\u001B[0m         \u001B[0mself\u001B[0m\u001B[0;34m.\u001B[0m\u001B[0m_reset\u001B[0m\u001B[0;34m(\u001B[0m\u001B[0;34m)\u001B[0m\u001B[0;34m\u001B[0m\u001B[0;34m\u001B[0m\u001B[0m\n\u001B[0;32m--> 837\u001B[0;31m         \u001B[0;32mreturn\u001B[0m \u001B[0mself\u001B[0m\u001B[0;34m.\u001B[0m\u001B[0mpartial_fit\u001B[0m\u001B[0;34m(\u001B[0m\u001B[0mX\u001B[0m\u001B[0;34m,\u001B[0m \u001B[0my\u001B[0m\u001B[0;34m,\u001B[0m \u001B[0msample_weight\u001B[0m\u001B[0;34m)\u001B[0m\u001B[0;34m\u001B[0m\u001B[0;34m\u001B[0m\u001B[0m\n\u001B[0m",
      "\u001B[0;32m~/anaconda3/lib/python3.11/site-packages/sklearn/base.py\u001B[0m in \u001B[0;36m?\u001B[0;34m(estimator, *args, **kwargs)\u001B[0m\n\u001B[1;32m   1147\u001B[0m                 skip_parameter_validation=(\n\u001B[1;32m   1148\u001B[0m                     \u001B[0mprefer_skip_nested_validation\u001B[0m \u001B[0;32mor\u001B[0m \u001B[0mglobal_skip_validation\u001B[0m\u001B[0;34m\u001B[0m\u001B[0;34m\u001B[0m\u001B[0m\n\u001B[1;32m   1149\u001B[0m                 )\n\u001B[1;32m   1150\u001B[0m             ):\n\u001B[0;32m-> 1151\u001B[0;31m                 \u001B[0;32mreturn\u001B[0m \u001B[0mfit_method\u001B[0m\u001B[0;34m(\u001B[0m\u001B[0mestimator\u001B[0m\u001B[0;34m,\u001B[0m \u001B[0;34m*\u001B[0m\u001B[0margs\u001B[0m\u001B[0;34m,\u001B[0m \u001B[0;34m**\u001B[0m\u001B[0mkwargs\u001B[0m\u001B[0;34m)\u001B[0m\u001B[0;34m\u001B[0m\u001B[0;34m\u001B[0m\u001B[0m\n\u001B[0m",
      "\u001B[0;32m~/anaconda3/lib/python3.11/site-packages/sklearn/preprocessing/_data.py\u001B[0m in \u001B[0;36m?\u001B[0;34m(self, X, y, sample_weight)\u001B[0m\n\u001B[1;32m    869\u001B[0m         \u001B[0mself\u001B[0m \u001B[0;34m:\u001B[0m \u001B[0mobject\u001B[0m\u001B[0;34m\u001B[0m\u001B[0;34m\u001B[0m\u001B[0m\n\u001B[1;32m    870\u001B[0m             \u001B[0mFitted\u001B[0m \u001B[0mscaler\u001B[0m\u001B[0;34m.\u001B[0m\u001B[0;34m\u001B[0m\u001B[0;34m\u001B[0m\u001B[0m\n\u001B[1;32m    871\u001B[0m         \"\"\"\n\u001B[1;32m    872\u001B[0m         \u001B[0mfirst_call\u001B[0m \u001B[0;34m=\u001B[0m \u001B[0;32mnot\u001B[0m \u001B[0mhasattr\u001B[0m\u001B[0;34m(\u001B[0m\u001B[0mself\u001B[0m\u001B[0;34m,\u001B[0m \u001B[0;34m\"n_samples_seen_\"\u001B[0m\u001B[0;34m)\u001B[0m\u001B[0;34m\u001B[0m\u001B[0;34m\u001B[0m\u001B[0m\n\u001B[0;32m--> 873\u001B[0;31m         X = self._validate_data(\n\u001B[0m\u001B[1;32m    874\u001B[0m             \u001B[0mX\u001B[0m\u001B[0;34m,\u001B[0m\u001B[0;34m\u001B[0m\u001B[0;34m\u001B[0m\u001B[0m\n\u001B[1;32m    875\u001B[0m             \u001B[0maccept_sparse\u001B[0m\u001B[0;34m=\u001B[0m\u001B[0;34m(\u001B[0m\u001B[0;34m\"csr\"\u001B[0m\u001B[0;34m,\u001B[0m \u001B[0;34m\"csc\"\u001B[0m\u001B[0;34m)\u001B[0m\u001B[0;34m,\u001B[0m\u001B[0;34m\u001B[0m\u001B[0;34m\u001B[0m\u001B[0m\n\u001B[1;32m    876\u001B[0m             \u001B[0mdtype\u001B[0m\u001B[0;34m=\u001B[0m\u001B[0mFLOAT_DTYPES\u001B[0m\u001B[0;34m,\u001B[0m\u001B[0;34m\u001B[0m\u001B[0;34m\u001B[0m\u001B[0m\n",
      "\u001B[0;32m~/anaconda3/lib/python3.11/site-packages/sklearn/base.py\u001B[0m in \u001B[0;36m?\u001B[0;34m(self, X, y, reset, validate_separately, cast_to_ndarray, **check_params)\u001B[0m\n\u001B[1;32m    600\u001B[0m                 \u001B[0mout\u001B[0m \u001B[0;34m=\u001B[0m \u001B[0my\u001B[0m\u001B[0;34m\u001B[0m\u001B[0;34m\u001B[0m\u001B[0m\n\u001B[1;32m    601\u001B[0m             \u001B[0;32melse\u001B[0m\u001B[0;34m:\u001B[0m\u001B[0;34m\u001B[0m\u001B[0;34m\u001B[0m\u001B[0m\n\u001B[1;32m    602\u001B[0m                 \u001B[0mout\u001B[0m \u001B[0;34m=\u001B[0m \u001B[0mX\u001B[0m\u001B[0;34m,\u001B[0m \u001B[0my\u001B[0m\u001B[0;34m\u001B[0m\u001B[0;34m\u001B[0m\u001B[0m\n\u001B[1;32m    603\u001B[0m         \u001B[0;32melif\u001B[0m \u001B[0;32mnot\u001B[0m \u001B[0mno_val_X\u001B[0m \u001B[0;32mand\u001B[0m \u001B[0mno_val_y\u001B[0m\u001B[0;34m:\u001B[0m\u001B[0;34m\u001B[0m\u001B[0;34m\u001B[0m\u001B[0m\n\u001B[0;32m--> 604\u001B[0;31m             \u001B[0mout\u001B[0m \u001B[0;34m=\u001B[0m \u001B[0mcheck_array\u001B[0m\u001B[0;34m(\u001B[0m\u001B[0mX\u001B[0m\u001B[0;34m,\u001B[0m \u001B[0minput_name\u001B[0m\u001B[0;34m=\u001B[0m\u001B[0;34m\"X\"\u001B[0m\u001B[0;34m,\u001B[0m \u001B[0;34m**\u001B[0m\u001B[0mcheck_params\u001B[0m\u001B[0;34m)\u001B[0m\u001B[0;34m\u001B[0m\u001B[0;34m\u001B[0m\u001B[0m\n\u001B[0m\u001B[1;32m    605\u001B[0m         \u001B[0;32melif\u001B[0m \u001B[0mno_val_X\u001B[0m \u001B[0;32mand\u001B[0m \u001B[0;32mnot\u001B[0m \u001B[0mno_val_y\u001B[0m\u001B[0;34m:\u001B[0m\u001B[0;34m\u001B[0m\u001B[0;34m\u001B[0m\u001B[0m\n\u001B[1;32m    606\u001B[0m             \u001B[0mout\u001B[0m \u001B[0;34m=\u001B[0m \u001B[0m_check_y\u001B[0m\u001B[0;34m(\u001B[0m\u001B[0my\u001B[0m\u001B[0;34m,\u001B[0m \u001B[0;34m**\u001B[0m\u001B[0mcheck_params\u001B[0m\u001B[0;34m)\u001B[0m\u001B[0;34m\u001B[0m\u001B[0;34m\u001B[0m\u001B[0m\n\u001B[1;32m    607\u001B[0m         \u001B[0;32melse\u001B[0m\u001B[0;34m:\u001B[0m\u001B[0;34m\u001B[0m\u001B[0;34m\u001B[0m\u001B[0m\n",
      "\u001B[0;32m~/anaconda3/lib/python3.11/site-packages/sklearn/utils/validation.py\u001B[0m in \u001B[0;36m?\u001B[0;34m(array, accept_sparse, accept_large_sparse, dtype, order, copy, force_all_finite, ensure_2d, allow_nd, ensure_min_samples, ensure_min_features, estimator, input_name)\u001B[0m\n\u001B[1;32m    914\u001B[0m                         )\n\u001B[1;32m    915\u001B[0m                     \u001B[0marray\u001B[0m \u001B[0;34m=\u001B[0m \u001B[0mxp\u001B[0m\u001B[0;34m.\u001B[0m\u001B[0mastype\u001B[0m\u001B[0;34m(\u001B[0m\u001B[0marray\u001B[0m\u001B[0;34m,\u001B[0m \u001B[0mdtype\u001B[0m\u001B[0;34m,\u001B[0m \u001B[0mcopy\u001B[0m\u001B[0;34m=\u001B[0m\u001B[0;32mFalse\u001B[0m\u001B[0;34m)\u001B[0m\u001B[0;34m\u001B[0m\u001B[0;34m\u001B[0m\u001B[0m\n\u001B[1;32m    916\u001B[0m                 \u001B[0;32melse\u001B[0m\u001B[0;34m:\u001B[0m\u001B[0;34m\u001B[0m\u001B[0;34m\u001B[0m\u001B[0m\n\u001B[1;32m    917\u001B[0m                     \u001B[0marray\u001B[0m \u001B[0;34m=\u001B[0m \u001B[0m_asarray_with_order\u001B[0m\u001B[0;34m(\u001B[0m\u001B[0marray\u001B[0m\u001B[0;34m,\u001B[0m \u001B[0morder\u001B[0m\u001B[0;34m=\u001B[0m\u001B[0morder\u001B[0m\u001B[0;34m,\u001B[0m \u001B[0mdtype\u001B[0m\u001B[0;34m=\u001B[0m\u001B[0mdtype\u001B[0m\u001B[0;34m,\u001B[0m \u001B[0mxp\u001B[0m\u001B[0;34m=\u001B[0m\u001B[0mxp\u001B[0m\u001B[0;34m)\u001B[0m\u001B[0;34m\u001B[0m\u001B[0;34m\u001B[0m\u001B[0m\n\u001B[0;32m--> 918\u001B[0;31m             \u001B[0;32mexcept\u001B[0m \u001B[0mComplexWarning\u001B[0m \u001B[0;32mas\u001B[0m \u001B[0mcomplex_warning\u001B[0m\u001B[0;34m:\u001B[0m\u001B[0;34m\u001B[0m\u001B[0;34m\u001B[0m\u001B[0m\n\u001B[0m\u001B[1;32m    919\u001B[0m                 raise ValueError(\n\u001B[1;32m    920\u001B[0m                     \u001B[0;34m\"Complex data not supported\\n{}\\n\"\u001B[0m\u001B[0;34m.\u001B[0m\u001B[0mformat\u001B[0m\u001B[0;34m(\u001B[0m\u001B[0marray\u001B[0m\u001B[0;34m)\u001B[0m\u001B[0;34m\u001B[0m\u001B[0;34m\u001B[0m\u001B[0m\n\u001B[1;32m    921\u001B[0m                 ) from complex_warning\n",
      "\u001B[0;32m~/anaconda3/lib/python3.11/site-packages/sklearn/utils/_array_api.py\u001B[0m in \u001B[0;36m?\u001B[0;34m(array, dtype, order, copy, xp)\u001B[0m\n\u001B[1;32m    376\u001B[0m         \u001B[0;31m# Use NumPy API to support order\u001B[0m\u001B[0;34m\u001B[0m\u001B[0;34m\u001B[0m\u001B[0m\n\u001B[1;32m    377\u001B[0m         \u001B[0;32mif\u001B[0m \u001B[0mcopy\u001B[0m \u001B[0;32mis\u001B[0m \u001B[0;32mTrue\u001B[0m\u001B[0;34m:\u001B[0m\u001B[0;34m\u001B[0m\u001B[0;34m\u001B[0m\u001B[0m\n\u001B[1;32m    378\u001B[0m             \u001B[0marray\u001B[0m \u001B[0;34m=\u001B[0m \u001B[0mnumpy\u001B[0m\u001B[0;34m.\u001B[0m\u001B[0marray\u001B[0m\u001B[0;34m(\u001B[0m\u001B[0marray\u001B[0m\u001B[0;34m,\u001B[0m \u001B[0morder\u001B[0m\u001B[0;34m=\u001B[0m\u001B[0morder\u001B[0m\u001B[0;34m,\u001B[0m \u001B[0mdtype\u001B[0m\u001B[0;34m=\u001B[0m\u001B[0mdtype\u001B[0m\u001B[0;34m)\u001B[0m\u001B[0;34m\u001B[0m\u001B[0;34m\u001B[0m\u001B[0m\n\u001B[1;32m    379\u001B[0m         \u001B[0;32melse\u001B[0m\u001B[0;34m:\u001B[0m\u001B[0;34m\u001B[0m\u001B[0;34m\u001B[0m\u001B[0m\n\u001B[0;32m--> 380\u001B[0;31m             \u001B[0marray\u001B[0m \u001B[0;34m=\u001B[0m \u001B[0mnumpy\u001B[0m\u001B[0;34m.\u001B[0m\u001B[0masarray\u001B[0m\u001B[0;34m(\u001B[0m\u001B[0marray\u001B[0m\u001B[0;34m,\u001B[0m \u001B[0morder\u001B[0m\u001B[0;34m=\u001B[0m\u001B[0morder\u001B[0m\u001B[0;34m,\u001B[0m \u001B[0mdtype\u001B[0m\u001B[0;34m=\u001B[0m\u001B[0mdtype\u001B[0m\u001B[0;34m)\u001B[0m\u001B[0;34m\u001B[0m\u001B[0;34m\u001B[0m\u001B[0m\n\u001B[0m\u001B[1;32m    381\u001B[0m \u001B[0;34m\u001B[0m\u001B[0m\n\u001B[1;32m    382\u001B[0m         \u001B[0;31m# At this point array is a NumPy ndarray. We convert it to an array\u001B[0m\u001B[0;34m\u001B[0m\u001B[0;34m\u001B[0m\u001B[0m\n\u001B[1;32m    383\u001B[0m         \u001B[0;31m# container that is consistent with the input's namespace.\u001B[0m\u001B[0;34m\u001B[0m\u001B[0;34m\u001B[0m\u001B[0m\n",
      "\u001B[0;32m~/anaconda3/lib/python3.11/site-packages/pandas/core/generic.py\u001B[0m in \u001B[0;36m?\u001B[0;34m(self, dtype)\u001B[0m\n\u001B[1;32m   1996\u001B[0m     \u001B[0;32mdef\u001B[0m \u001B[0m__array__\u001B[0m\u001B[0;34m(\u001B[0m\u001B[0mself\u001B[0m\u001B[0;34m,\u001B[0m \u001B[0mdtype\u001B[0m\u001B[0;34m:\u001B[0m \u001B[0mnpt\u001B[0m\u001B[0;34m.\u001B[0m\u001B[0mDTypeLike\u001B[0m \u001B[0;34m|\u001B[0m \u001B[0;32mNone\u001B[0m \u001B[0;34m=\u001B[0m \u001B[0;32mNone\u001B[0m\u001B[0;34m)\u001B[0m \u001B[0;34m->\u001B[0m \u001B[0mnp\u001B[0m\u001B[0;34m.\u001B[0m\u001B[0mndarray\u001B[0m\u001B[0;34m:\u001B[0m\u001B[0;34m\u001B[0m\u001B[0;34m\u001B[0m\u001B[0m\n\u001B[1;32m   1997\u001B[0m         \u001B[0mvalues\u001B[0m \u001B[0;34m=\u001B[0m \u001B[0mself\u001B[0m\u001B[0;34m.\u001B[0m\u001B[0m_values\u001B[0m\u001B[0;34m\u001B[0m\u001B[0;34m\u001B[0m\u001B[0m\n\u001B[0;32m-> 1998\u001B[0;31m         \u001B[0marr\u001B[0m \u001B[0;34m=\u001B[0m \u001B[0mnp\u001B[0m\u001B[0;34m.\u001B[0m\u001B[0masarray\u001B[0m\u001B[0;34m(\u001B[0m\u001B[0mvalues\u001B[0m\u001B[0;34m,\u001B[0m \u001B[0mdtype\u001B[0m\u001B[0;34m=\u001B[0m\u001B[0mdtype\u001B[0m\u001B[0;34m)\u001B[0m\u001B[0;34m\u001B[0m\u001B[0;34m\u001B[0m\u001B[0m\n\u001B[0m\u001B[1;32m   1999\u001B[0m         if (\n\u001B[1;32m   2000\u001B[0m             \u001B[0mastype_is_view\u001B[0m\u001B[0;34m(\u001B[0m\u001B[0mvalues\u001B[0m\u001B[0;34m.\u001B[0m\u001B[0mdtype\u001B[0m\u001B[0;34m,\u001B[0m \u001B[0marr\u001B[0m\u001B[0;34m.\u001B[0m\u001B[0mdtype\u001B[0m\u001B[0;34m)\u001B[0m\u001B[0;34m\u001B[0m\u001B[0;34m\u001B[0m\u001B[0m\n\u001B[1;32m   2001\u001B[0m             \u001B[0;32mand\u001B[0m \u001B[0musing_copy_on_write\u001B[0m\u001B[0;34m(\u001B[0m\u001B[0;34m)\u001B[0m\u001B[0;34m\u001B[0m\u001B[0;34m\u001B[0m\u001B[0m\n",
      "\u001B[0;31mValueError\u001B[0m: could not convert string to float: 'XX'"
     ]
    }
   ],
   "source": [
    "from sklearn.cluster import KMeans\n",
    "from sklearn.preprocessing import StandardScaler\n",
    "\n",
    "financial_variables_ = [\n",
    "            'CODE_POSTAL',\n",
    "            'SITFAM_ID',\n",
    "            'PROFES_ID',\n",
    "            'HABITA_ID',\n",
    "            'VEH_DES_ENGTYPE',\n",
    "            'SERIE_LIBELLE',\n",
    "            'CT_ID_LP',\n",
    "            'CO_Client',\n",
    "            'ID_MARQ_BIEN',\n",
    "            'ID_ETAT_BIEN',\n",
    "            'ID_NAT_BIEN',\n",
    "            'Ancien_renouvelant',\n",
    "        ]\n",
    "\n",
    "data = df[financial_variables_]\n",
    "inertias = []\n",
    "\n",
    "scaler = StandardScaler()\n",
    "scaled_features = scaler.fit_transform(data)\n",
    "for i in range(1,15):\n",
    "    kmeans = KMeans(n_clusters=i)\n",
    "    kmeans.fit(scaled_features)\n",
    "    inertias.append(kmeans.inertia_)\n",
    "\n",
    "plt.plot(range(1,15), inertias, marker='o')\n",
    "plt.title('Elbow method')\n",
    "plt.xlabel('Number of clusters')\n",
    "plt.ylabel('Inertia')\n",
    "plt.show()"
   ],
   "metadata": {
    "collapsed": false,
    "ExecuteTime": {
     "end_time": "2024-08-27T16:19:09.834340Z",
     "start_time": "2024-08-27T16:19:09.638330Z"
    }
   },
   "execution_count": 7
  },
  {
   "cell_type": "code",
   "outputs": [
    {
     "ename": "NameError",
     "evalue": "name 'x' is not defined",
     "output_type": "error",
     "traceback": [
      "\u001B[1;31m---------------------------------------------------------------------------\u001B[0m",
      "\u001B[1;31mNameError\u001B[0m                                 Traceback (most recent call last)",
      "Cell \u001B[1;32mIn[24], line 4\u001B[0m\n\u001B[0;32m      1\u001B[0m kmeans \u001B[38;5;241m=\u001B[39m KMeans(n_clusters\u001B[38;5;241m=\u001B[39m\u001B[38;5;241m2\u001B[39m)\n\u001B[0;32m      2\u001B[0m kmeans\u001B[38;5;241m.\u001B[39mfit(data)\n\u001B[1;32m----> 4\u001B[0m plt\u001B[38;5;241m.\u001B[39mscatter(\u001B[43mx\u001B[49m, y, c\u001B[38;5;241m=\u001B[39mkmeans\u001B[38;5;241m.\u001B[39mlabels_)\n\u001B[0;32m      5\u001B[0m plt\u001B[38;5;241m.\u001B[39mshow()\n",
      "\u001B[1;31mNameError\u001B[0m: name 'x' is not defined"
     ]
    }
   ],
   "source": [
    "kmeans = KMeans(n_clusters=2)\n",
    "kmeans.fit(data)\n",
    "\n",
    "plt.scatter(x, y, c=kmeans.labels_)\n",
    "plt.show()"
   ],
   "metadata": {
    "collapsed": false,
    "ExecuteTime": {
     "end_time": "2024-05-22T13:56:25.763089300Z",
     "start_time": "2024-05-22T13:56:25.484082400Z"
    }
   },
   "execution_count": 24
  },
  {
   "cell_type": "code",
   "outputs": [
    {
     "data": {
      "text/plain": "Text(0.5, 1.0, 'Permutation Importance')"
     },
     "execution_count": 14,
     "metadata": {},
     "output_type": "execute_result"
    },
    {
     "data": {
      "text/plain": "<Figure size 1200x600 with 1 Axes>",
      "image/png": "[encoded data removed]"
     },
     "metadata": {},
     "output_type": "display_data"
    }
   ],
   "source": [
    "from sklearn.inspection import permutation_importance\n",
    "\n",
    "perm_importance = permutation_importance(test_model, test_X, test_y, n_repeats=10, random_state=1066)\n",
    "sorted_idx = perm_importance.importances_mean.argsort()\n",
    "fig = plt.figure(figsize=(12, 6))\n",
    "plt.barh(range(len(sorted_idx)), perm_importance.importances_mean[sorted_idx], align='center')\n",
    "plt.yticks(range(len(sorted_idx)), np.array(test_X.columns)[sorted_idx])\n",
    "plt.title('Permutation Importance')\n"
   ],
   "metadata": {
    "collapsed": false,
    "ExecuteTime": {
     "end_time": "2024-05-22T12:26:44.342302Z",
     "start_time": "2024-05-22T12:26:14.379989300Z"
    }
   },
   "execution_count": 14
  },
  {
   "cell_type": "code",
   "outputs": [
    {
     "data": {
      "text/plain": "       CODE_POSTAL  SITFAM_ID_C  SITFAM_ID_D  SITFAM_ID_M  SITFAM_ID_S  \\\n0             38.0            0            0            1            0   \n1             53.0            0            1            0            0   \n2             61.0            0            0            1            0   \n3             59.0            0            0            1            0   \n4             61.0            0            0            0            0   \n...            ...          ...          ...          ...          ...   \n143354          77            0            0            1            0   \n143355          44            0            0            1            0   \n143356          44            0            1            0            0   \n143357          44            0            0            1            0   \n143358          29            0            0            1            0   \n\n        SITFAM_ID_U  SITFAM_ID_V  PROFES_ID_10.0  PROFES_ID_12.0  \\\n0                 0            0               0               0   \n1                 0            0               0               0   \n2                 0            0               0               0   \n3                 0            0               0               0   \n4                 0            1               0               0   \n...             ...          ...             ...             ...   \n143354            0            0               0               0   \n143355            0            0               0               0   \n143356            0            0               0               0   \n143357            0            0               0               0   \n143358            0            0               0               0   \n\n        PROFES_ID_21.0  ...  PROFES_ID_70.0  PROFES_ID_74.0  PROFES_ID_75.0  \\\n0                    0  ...               0               0               0   \n1                    0  ...               1               0               0   \n2                    0  ...               0               0               0   \n3                    0  ...               0               0               0   \n4                    0  ...               1               0               0   \n...                ...  ...             ...             ...             ...   \n143354               0  ...               0               0               0   \n143355               0  ...               0               0               0   \n143356               0  ...               0               0               0   \n143357               0  ...               0               0               0   \n143358               0  ...               0               0               0   \n\n        PROFES_ID_77.0  PROFES_ID_81.0  PROFES_ID_82.0  PROFES_ID_84.0  \\\n0                    0               0               0               0   \n1                    0               0               0               0   \n2                    0               0               0               0   \n3                    0               0               0               0   \n4                    0               0               0               0   \n...                ...             ...             ...             ...   \n143354               0               0               0               0   \n143355               0               0               0               0   \n143356               0               0               0               0   \n143357               0               0               0               0   \n143358               0               0               0               0   \n\n        PROFES_ID_85.0  PROFES_ID_86.0  PROFES_ID_87.0  \n0                    0               0               0  \n1                    0               0               0  \n2                    0               0               0  \n3                    0               0               0  \n4                    0               0               0  \n...                ...             ...             ...  \n143354               0               0               0  \n143355               0               0               0  \n143356               0               0               0  \n143357               0               0               0  \n143358               0               0               0  \n\n[143359 rows x 49 columns]",
      "text/html": "<div>\n<style scoped>\n    .dataframe tbody tr th:only-of-type {\n        vertical-align: middle;\n    }\n\n    .dataframe tbody tr th {\n        vertical-align: top;\n    }\n\n    .dataframe thead th {\n        text-align: right;\n    }\n</style>\n<table border=\"1\" class=\"dataframe\">\n  <thead>\n    <tr style=\"text-align: right;\">\n      <th></th>\n      <th>CODE_POSTAL</th>\n      <th>SITFAM_ID_C</th>\n      <th>SITFAM_ID_D</th>\n      <th>SITFAM_ID_M</th>\n      <th>SITFAM_ID_S</th>\n      <th>SITFAM_ID_U</th>\n      <th>SITFAM_ID_V</th>\n      <th>PROFES_ID_10.0</th>\n      <th>PROFES_ID_12.0</th>\n      <th>PROFES_ID_21.0</th>\n      <th>...</th>\n      <th>PROFES_ID_70.0</th>\n      <th>PROFES_ID_74.0</th>\n      <th>PROFES_ID_75.0</th>\n      <th>PROFES_ID_77.0</th>\n      <th>PROFES_ID_81.0</th>\n      <th>PROFES_ID_82.0</th>\n      <th>PROFES_ID_84.0</th>\n      <th>PROFES_ID_85.0</th>\n      <th>PROFES_ID_86.0</th>\n      <th>PROFES_ID_87.0</th>\n    </tr>\n  </thead>\n  <tbody>\n    <tr>\n      <th>0</th>\n      <td>38.0</td>\n      <td>0</td>\n      <td>0</td>\n      <td>1</td>\n      <td>0</td>\n      <td>0</td>\n      <td>0</td>\n      <td>0</td>\n      <td>0</td>\n      <td>0</td>\n      <td>...</td>\n      <td>0</td>\n      <td>0</td>\n      <td>0</td>\n      <td>0</td>\n      <td>0</td>\n      <td>0</td>\n      <td>0</td>\n      <td>0</td>\n      <td>0</td>\n      <td>0</td>\n    </tr>\n    <tr>\n      <th>1</th>\n      <td>53.0</td>\n      <td>0</td>\n      <td>1</td>\n      <td>0</td>\n      <td>0</td>\n      <td>0</td>\n      <td>0</td>\n      <td>0</td>\n      <td>0</td>\n      <td>0</td>\n      <td>...</td>\n      <td>1</td>\n      <td>0</td>\n      <td>0</td>\n      <td>0</td>\n      <td>0</td>\n      <td>0</td>\n      <td>0</td>\n      <td>0</td>\n      <td>0</td>\n      <td>0</td>\n    </tr>\n    <tr>\n      <th>2</th>\n      <td>61.0</td>\n      <td>0</td>\n      <td>0</td>\n      <td>1</td>\n      <td>0</td>\n      <td>0</td>\n      <td>0</td>\n      <td>0</td>\n      <td>0</td>\n      <td>0</td>\n      <td>...</td>\n      <td>0</td>\n      <td>0</td>\n      <td>0</td>\n      <td>0</td>\n      <td>0</td>\n      <td>0</td>\n      <td>0</td>\n      <td>0</td>\n      <td>0</td>\n      <td>0</td>\n    </tr>\n    <tr>\n      <th>3</th>\n      <td>59.0</td>\n      <td>0</td>\n      <td>0</td>\n      <td>1</td>\n      <td>0</td>\n      <td>0</td>\n      <td>0</td>\n      <td>0</td>\n      <td>0</td>\n      <td>0</td>\n      <td>...</td>\n      <td>0</td>\n      <td>0</td>\n      <td>0</td>\n      <td>0</td>\n      <td>0</td>\n      <td>0</td>\n      <td>0</td>\n      <td>0</td>\n      <td>0</td>\n      <td>0</td>\n    </tr>\n    <tr>\n      <th>4</th>\n      <td>61.0</td>\n      <td>0</td>\n      <td>0</td>\n      <td>0</td>\n      <td>0</td>\n      <td>0</td>\n      <td>1</td>\n      <td>0</td>\n      <td>0</td>\n      <td>0</td>\n      <td>...</td>\n      <td>1</td>\n      <td>0</td>\n      <td>0</td>\n      <td>0</td>\n      <td>0</td>\n      <td>0</td>\n      <td>0</td>\n      <td>0</td>\n      <td>0</td>\n      <td>0</td>\n    </tr>\n    <tr>\n      <th>...</th>\n      <td>...</td>\n      <td>...</td>\n      <td>...</td>\n      <td>...</td>\n      <td>...</td>\n      <td>...</td>\n      <td>...</td>\n      <td>...</td>\n      <td>...</td>\n      <td>...</td>\n      <td>...</td>\n      <td>...</td>\n      <td>...</td>\n      <td>...</td>\n      <td>...</td>\n      <td>...</td>\n      <td>...</td>\n      <td>...</td>\n      <td>...</td>\n      <td>...</td>\n      <td>...</td>\n    </tr>\n    <tr>\n      <th>143354</th>\n      <td>77</td>\n      <td>0</td>\n      <td>0</td>\n      <td>1</td>\n      <td>0</td>\n      <td>0</td>\n      <td>0</td>\n      <td>0</td>\n      <td>0</td>\n      <td>0</td>\n      <td>...</td>\n      <td>0</td>\n      <td>0</td>\n      <td>0</td>\n      <td>0</td>\n      <td>0</td>\n      <td>0</td>\n      <td>0</td>\n      <td>0</td>\n      <td>0</td>\n      <td>0</td>\n    </tr>\n    <tr>\n      <th>143355</th>\n      <td>44</td>\n      <td>0</td>\n      <td>0</td>\n      <td>1</td>\n      <td>0</td>\n      <td>0</td>\n      <td>0</td>\n      <td>0</td>\n      <td>0</td>\n      <td>0</td>\n      <td>...</td>\n      <td>0</td>\n      <td>0</td>\n      <td>0</td>\n      <td>0</td>\n      <td>0</td>\n      <td>0</td>\n      <td>0</td>\n      <td>0</td>\n      <td>0</td>\n      <td>0</td>\n    </tr>\n    <tr>\n      <th>143356</th>\n      <td>44</td>\n      <td>0</td>\n      <td>1</td>\n      <td>0</td>\n      <td>0</td>\n      <td>0</td>\n      <td>0</td>\n      <td>0</td>\n      <td>0</td>\n      <td>0</td>\n      <td>...</td>\n      <td>0</td>\n      <td>0</td>\n      <td>0</td>\n      <td>0</td>\n      <td>0</td>\n      <td>0</td>\n      <td>0</td>\n      <td>0</td>\n      <td>0</td>\n      <td>0</td>\n    </tr>\n    <tr>\n      <th>143357</th>\n      <td>44</td>\n      <td>0</td>\n      <td>0</td>\n      <td>1</td>\n      <td>0</td>\n      <td>0</td>\n      <td>0</td>\n      <td>0</td>\n      <td>0</td>\n      <td>0</td>\n      <td>...</td>\n      <td>0</td>\n      <td>0</td>\n      <td>0</td>\n      <td>0</td>\n      <td>0</td>\n      <td>0</td>\n      <td>0</td>\n      <td>0</td>\n      <td>0</td>\n      <td>0</td>\n    </tr>\n    <tr>\n      <th>143358</th>\n      <td>29</td>\n      <td>0</td>\n      <td>0</td>\n      <td>1</td>\n      <td>0</td>\n      <td>0</td>\n      <td>0</td>\n      <td>0</td>\n      <td>0</td>\n      <td>0</td>\n      <td>...</td>\n      <td>0</td>\n      <td>0</td>\n      <td>0</td>\n      <td>0</td>\n      <td>0</td>\n      <td>0</td>\n      <td>0</td>\n      <td>0</td>\n      <td>0</td>\n      <td>0</td>\n    </tr>\n  </tbody>\n</table>\n<p>143359 rows × 49 columns</p>\n</div>"
     },
     "execution_count": 57,
     "metadata": {},
     "output_type": "execute_result"
    }
   ],
   "source": [
    "test.head()\n",
    "def one_hot_encode_columns(df, columns):\n",
    "   # Create a new DataFrame with the specified columns encoded using one-hot encoding\n",
    "   encoded_df = pd.get_dummies(df, columns=columns, dtype=int)\n",
    "   \n",
    "   return encoded_df\n",
    "\n",
    "test = one_hot_encode_columns(df[['CODE_POSTAL','SITFAM_ID','PROFES_ID',]], ['SITFAM_ID','PROFES_ID'])\n",
    "test"
   ],
   "metadata": {
    "collapsed": false,
    "ExecuteTime": {
     "end_time": "2024-05-06T13:37:59.306622Z",
     "start_time": "2024-05-06T13:37:59.162392800Z"
    }
   },
   "execution_count": 57
  },
  {
   "cell_type": "code",
   "outputs": [
    {
     "data": {
      "text/plain": "ID_CONT                           object\nID_BAREME_FI                      object\nCT_ID_LP                           int64\nSCORE_NOTE                       float64\nC_DSA                            float64\nCO_Client                          int64\nCODE_POSTAL                       object\nSITFAM_ID                         object\nPROFES_ID                        float64\nHABITA_ID                         object\nYEAR_NAISSANCE                   float64\nPARTIC_N_ENFANT                  float64\nPARTIC_MT_REVENU_EURO            float64\nPARTIC_MT_AUTRE_REVENU_EURO      float64\nPARTIC_MT_CHARGES_EURO           float64\nPARTIC_MT_AUTRES_CREDITS_EURO    float64\nYEAR_EMPLOI                      float64\nYEAR_HABITAT                     float64\nVAL_APPORT_TTC_EURO              float64\nVAL_PL_TTC_EURO                  float64\nCT_AM_FIN_AMOUNT_EURO            float64\nMT_MENS                          float64\nNB_ECH                           float64\nOA                               float64\nASSUR                            float64\nID_MARQ_BIEN                      object\nVEH_DES_ENGTYPE                   object\nID_ETAT_BIEN                      object\nID_NAT_BIEN                       object\nSERIE_LIBELLE                     object\nVAL_CATALOGUE_TTC_EURO           float64\nVAL_OPTION_TTC_EURO              float64\nVAL_ACC_REM_TTC_EURO             float64\nVAL_ARGUS_BIEN_EURO              float64\nVAL_VR_TTC_EURO                  float64\nAncien_renouvelant                 int64\nRenouvelant                        int64\nConsent                          float64\ndtype: object"
     },
     "execution_count": 7,
     "metadata": {},
     "output_type": "execute_result"
    }
   ],
   "source": [
    "df.dtypes"
   ],
   "metadata": {
    "collapsed": false,
    "ExecuteTime": {
     "end_time": "2024-08-25T16:03:58.325247Z",
     "start_time": "2024-08-25T16:03:58.239046Z"
    }
   },
   "execution_count": 7
  },
  {
   "cell_type": "markdown",
   "source": [
    "| *Colonne* | *Description*                                                                                                     |\n",
    "| ---------------------------------|-------------------------------------------------------------------------------------------------------------------|\n",
    "| ID_CONT                          | ID du contrat                                                                                                     |\n",
    "| ID_BAREME_FI                     | Campagne marketing qui inclus peut-être des réductions                                                            |\n",
    "| CT_ID_LP                         | Type de produit(Leasing, crédit, etc...)                                                                          |\n",
    "| SCORE_NOTE                       | Score risk (Plus elle est haurte, mieux c'est)                                                                    |\n",
    "| C_DSA                            | Montant rest a vivre                                                                                              |\n",
    "| CO_Client                        | Le client étant co-signataire du contrat                                                                          |\n",
    "| CODE_POSTAL                      | le code postal du client                                                                                          |\n",
    "| CON_BL_POST_CHOICE               | Consentement communication couriel                                                                                |\n",
    "| CON_BL_EMAIL_CHOICE              | Consentement communication e-mail                                                                                 |\n",
    "| CON_BL_PHONE_CHOICE              | Consentement communication téléphone                                                                              |\n",
    "| CON_BL_SMS_CHOICE                | Consentement communication sms                                                                                    |\n",
    "| CON_BL_MM_SCORE_CHOICE           | Consentement scoring MM                                                                                           |\n",
    "| CON_BL_BMW_DATA_TRF_CHOICE       | Consentement utilisation de données personnel par BMW                                                             |\n",
    "| CON_BL_DEALER_DATA_TRF_CHOICE    | Consentement utilisation de données personnel par concession                                                      |\n",
    "| CON_BL_CRM_SCORE_CHOICE          | Consentement scoring CRM                                                                                          |\n",
    "| SITFAM_ID                        | Situation familiale                                                                                               |\n",
    "| PROFES_ID                        | Libelle profession                                                                                                |\n",
    "| HABITA_ID                        | Type d'habitation (Locataire, propriétaire, etc...)                                                               |\n",
    "| YEAR_NAISSANCE                   | Année de naissance                                                                                                |\n",
    "| PARTIC_N_ENFANT                  | Nombre d'enfants                                                                                                  |\n",
    "| PARTIC_MT_REVENU_EURO            | Revenus mensuels                                                                                                  |\n",
    "| PARTIC_MT_AUTRE_REVENU_EURO      | Autres revenus mensuel                                                                                            |\n",
    "| PARTIC_MT_CHARGES_EURO           | Charges mensuel                                                                                                   |\n",
    "| PARTIC_MT_AUTRES_CREDITS_EURO    | Autres crédits en cours pour le client                                                                            |\n",
    "| YEAR_EMPLOI                      | année de début de l'emploi le plus récent ? (Besoin de précision)                                                 |\n",
    "| YEAR_HABITAT                     | année d'habitation (Besoin de précision: Année d'obtention d'un bien ou année d'entrée dans le logement actuel ?) |\n",
    "| VAL_APPORT_TTC_EURO              | Montant apport pour financement du bien                                                                           |\n",
    "| VAL_PL_TTC_EURO                  | Montant premier Loyer                                                                                             |\n",
    "| CT_AM_FIN_AMOUNT_EURO            | Total montant financé                                                                                             |\n",
    "| MT_MENS                          | Montant mensuel du loyer                                                                                          |\n",
    "| NB_ECH                           | Nombre d'échéances du financement                                                                                 |\n",
    "| OA                               | Prix de l'option d'achat, si le client veut racheter son véhicule                                                 |\n",
    "| ASSUR                            | Prix des assurances par mois                                                                                      |\n",
    "| ID_MARQ_BIEN                     | Manque du bien                                                                                                    |\n",
    "| VEH_DES_ENGTYPE                  | Type de moteur du bien                                                                                            |\n",
    "| ID_ETAT_BIEN                     | État du bien (VN, VO)                                                                                             |\n",
    "| ID_NAT_BIEN                      | Nature du bien (auto-moto)                                                                                        |\n",
    "| SERIE_LIBELLE                    | nom de série du bien                                                                                              |\n",
    "| VAL_CATALOGUE_TTC_EURO           | Prix du véhicule sur le catalogue                                                                                 |\n",
    "| VAL_OPTION_TTC_EURO              | Total montant des option ajouté au bien                                                                           |\n",
    "| VAL_ACC_REM_TTC_EURO             | Remise concession sur le prix du véhicule                                                                         |\n",
    "| VAL_ARGUS_BIEN_EURO              | Estimation du prix du véhicule un peu comme la valeur résiduelle                                                  |\n",
    "| VAL_VR_TTC_EURO                  | Valeur résiduel du bien a la fin du contrat                                                                       |\n",
    "| Ancien_renouvelant               | Client est un ancien renouvelant                                                                                  |\n",
    "| Renouvelant                      | Variable cible                                                                                                    |\n",
    "\n",
    "\n"
   ],
   "metadata": {
    "collapsed": false
   }
  },
  {
   "cell_type": "code",
   "outputs": [],
   "source": [
    "features = [\n",
    "    'ID_BAREME_FI',\n",
    "    'CT_ID_LP',\n",
    "    'SCORE_NOTE',\n",
    "    'C_DSA',\n",
    "    'CO_Client',\n",
    "    'CODE_POSTAL',\n",
    "    'CON_BL_POST_CHOICE',\n",
    "    'CON_BL_EMAIL_CHOICE',\n",
    "    'CON_BL_PHONE_CHOICE',\n",
    "    'CON_BL_SMS_CHOICE',\n",
    "    'CON_BL_MM_SCORE_CHOICE',\n",
    "    'CON_BL_BMW_DATA_TRF_CHOICE',\n",
    "    'SITFAM_ID',\n",
    "    'PROFES_ID',\n",
    "    'HABITA_ID',\n",
    "    'YEAR_NAISSANCE',\n",
    "    'PARTIC_N_ENFANT',\n",
    "    'PARTIC_MT_REVENU_EURO',\n",
    "    'PARTIC_MT_AUTRE_REVENU_EURO',\n",
    "    'PARTIC_MT_CHARGES_EURO',\n",
    "    'PARTIC_MT_AUTRES_CREDITS_EURO',\n",
    "    'YEAR_HABITAT',\n",
    "    'VAL_APPORT_TTC_EURO',\n",
    "    'VAL_PL_TTC_EURO',\n",
    "    'CT_AM_FIN_AMOUNT_EURO',\n",
    "    'MT_MENS',\n",
    "    'NB_ECH',\n",
    "    'OA',\n",
    "    'ASSUR',\n",
    "    'ID_MARQ_BIEN',\n",
    "    'VEH_DES_ENGTYPE',\n",
    "    'ID_ETAT_BIEN',\n",
    "    'ID_NAT_BIEN',\n",
    "    'SERIE_LIBELLE',\n",
    "    'VAL_CATALOGUE_TTC_EURO',\n",
    "    'VAL_OPTION_TTC_EURO',\n",
    "    'VAL_ACC_REM_TTC_EURO',\n",
    "    'VAL_VR_TTC_EURO',\n",
    "    'Ancien_renouvelant'\n",
    "]\n",
    "\n",
    "for_model = [\n",
    "    'CODE_POSTAL',\n",
    "    'SITFAM_ID',\n",
    "    'HABITA_ID',\n",
    "    'ID_MARQ_BIEN',\n",
    "    'VEH_DES_ENGTYPE',\n",
    "    'ID_ETAT_BIEN',\n",
    "    'ID_NAT_BIEN',\n",
    "    'SERIE_LIBELLE',\n",
    "    '',\n",
    "    '',\n",
    "    '',\n",
    "    '',\n",
    "    '',\n",
    "    '',\n",
    "    '',\n",
    "    '',\n",
    "    '',\n",
    "    '',\n",
    "    '',\n",
    "    '',\n",
    "    '',\n",
    "    '',\n",
    "    '',\n",
    "    '',\n",
    "    '',\n",
    "]"
   ],
   "metadata": {
    "collapsed": false,
    "ExecuteTime": {
     "end_time": "2024-05-03T13:23:17.131928Z",
     "start_time": "2024-05-03T13:23:17.108871200Z"
    }
   },
   "execution_count": 8
  },
  {
   "cell_type": "code",
   "outputs": [
    {
     "name": "stdout",
     "output_type": "stream",
     "text": [
      "ID_CONT  contains  143359  labels\n",
      "ID_BAREME_FI  contains  1843  labels\n",
      "CODE_POSTAL  contains  194  labels\n",
      "SITFAM_ID  contains  6  labels\n",
      "HABITA_ID  contains  6  labels\n",
      "ID_MARQ_BIEN  contains  79  labels\n",
      "VEH_DES_ENGTYPE  contains  11  labels\n",
      "ID_ETAT_BIEN  contains  2  labels\n",
      "ID_NAT_BIEN  contains  2  labels\n",
      "SERIE_LIBELLE  contains  461  labels\n"
     ]
    }
   ],
   "source": [
    "categorical = [var for var in df.columns if df[var].dtype == 'O']\n",
    "\n",
    "for var in categorical:\n",
    "    print(var, ' contains ', len(df[var].unique()), ' labels')"
   ],
   "metadata": {
    "collapsed": false,
    "ExecuteTime": {
     "end_time": "2024-05-06T08:57:54.561583600Z",
     "start_time": "2024-05-06T08:57:54.387907100Z"
    }
   },
   "execution_count": 36
  },
  {
   "cell_type": "code",
   "outputs": [
    {
     "data": {
      "text/plain": "146049"
     },
     "execution_count": 12,
     "metadata": {},
     "output_type": "execute_result"
    }
   ],
   "source": [
    "df[\"PARTIC_MT_REVENU_EURO\"].count()\n",
    "\n",
    "upper_quantile = df[column].quantile(upper_bound)\n",
    "                lower_quantile = df[column].quantile(lower_bound)\n",
    "                upper_quantile_count = df[df[column] > upper_quantile].count()\n",
    "                lower_quantile_count = df[df[column] < lower_quantile].count()"
   ],
   "metadata": {
    "collapsed": false,
    "ExecuteTime": {
     "end_time": "2024-04-25T08:38:24.960623100Z",
     "start_time": "2024-04-25T08:38:24.403293400Z"
    }
   },
   "execution_count": 12
  },
  {
   "cell_type": "code",
   "outputs": [
    {
     "ename": "TypeError",
     "evalue": "cannot convert the series to <class 'float'>",
     "output_type": "error",
     "traceback": [
      "\u001B[1;31m---------------------------------------------------------------------------\u001B[0m",
      "\u001B[1;31mTypeError\u001B[0m                                 Traceback (most recent call last)",
      "Cell \u001B[1;32mIn[19], line 3\u001B[0m\n\u001B[0;32m      1\u001B[0m column \u001B[38;5;241m=\u001B[39m \u001B[38;5;124m\"\u001B[39m\u001B[38;5;124mC_DSA\u001B[39m\u001B[38;5;124m\"\u001B[39m\n\u001B[0;32m      2\u001B[0m upper_quantile \u001B[38;5;241m=\u001B[39m df[column]\u001B[38;5;241m.\u001B[39mquantile(\u001B[38;5;241m0.99\u001B[39m)\n\u001B[1;32m----> 3\u001B[0m upper_quantile_count \u001B[38;5;241m=\u001B[39m \u001B[38;5;28;43mfloat\u001B[39;49m\u001B[43m(\u001B[49m\u001B[43mdf\u001B[49m\u001B[43m[\u001B[49m\u001B[43mdf\u001B[49m\u001B[43m[\u001B[49m\u001B[43mcolumn\u001B[49m\u001B[43m]\u001B[49m\u001B[43m \u001B[49m\u001B[38;5;241;43m>\u001B[39;49m\u001B[43m \u001B[49m\u001B[43mupper_quantile\u001B[49m\u001B[43m]\u001B[49m\u001B[38;5;241;43m.\u001B[39;49m\u001B[43mcount\u001B[49m\u001B[43m(\u001B[49m\u001B[43m)\u001B[49m\u001B[43m)\u001B[49m\n\u001B[0;32m      4\u001B[0m \u001B[38;5;28mprint\u001B[39m(\u001B[38;5;28mfloat\u001B[39m(upper_quantile))\n\u001B[0;32m      5\u001B[0m \u001B[38;5;28mprint\u001B[39m(\u001B[38;5;28mtype\u001B[39m(\u001B[38;5;28mfloat\u001B[39m(upper_quantile)))\n",
      "File \u001B[1;32m\\\\europe.bmw.corp\\winfs\\NFSC-Europe\\France\\SF-Org\\SF1-FR-R\\500 Data Gouvernance\\900 équipe\\Simon KAM\\Projet Emma\\venv\\Lib\\site-packages\\pandas\\core\\series.py:248\u001B[0m, in \u001B[0;36m_coerce_method.<locals>.wrapper\u001B[1;34m(self)\u001B[0m\n\u001B[0;32m    240\u001B[0m     warnings\u001B[38;5;241m.\u001B[39mwarn(\n\u001B[0;32m    241\u001B[0m         \u001B[38;5;124mf\u001B[39m\u001B[38;5;124m\"\u001B[39m\u001B[38;5;124mCalling \u001B[39m\u001B[38;5;132;01m{\u001B[39;00mconverter\u001B[38;5;241m.\u001B[39m\u001B[38;5;18m__name__\u001B[39m\u001B[38;5;132;01m}\u001B[39;00m\u001B[38;5;124m on a single element Series is \u001B[39m\u001B[38;5;124m\"\u001B[39m\n\u001B[0;32m    242\u001B[0m         \u001B[38;5;124m\"\u001B[39m\u001B[38;5;124mdeprecated and will raise a TypeError in the future. \u001B[39m\u001B[38;5;124m\"\u001B[39m\n\u001B[1;32m   (...)\u001B[0m\n\u001B[0;32m    245\u001B[0m         stacklevel\u001B[38;5;241m=\u001B[39mfind_stack_level(),\n\u001B[0;32m    246\u001B[0m     )\n\u001B[0;32m    247\u001B[0m     \u001B[38;5;28;01mreturn\u001B[39;00m converter(\u001B[38;5;28mself\u001B[39m\u001B[38;5;241m.\u001B[39miloc[\u001B[38;5;241m0\u001B[39m])\n\u001B[1;32m--> 248\u001B[0m \u001B[38;5;28;01mraise\u001B[39;00m \u001B[38;5;167;01mTypeError\u001B[39;00m(\u001B[38;5;124mf\u001B[39m\u001B[38;5;124m\"\u001B[39m\u001B[38;5;124mcannot convert the series to \u001B[39m\u001B[38;5;132;01m{\u001B[39;00mconverter\u001B[38;5;132;01m}\u001B[39;00m\u001B[38;5;124m\"\u001B[39m)\n",
      "\u001B[1;31mTypeError\u001B[0m: cannot convert the series to <class 'float'>"
     ]
    }
   ],
   "source": [
    "column = \"C_DSA\"\n",
    "upper_quantile = df[column].quantile(0.99)\n",
    "upper_quantile_count = float(df[df[column] > upper_quantile].count())\n",
    "print(float(upper_quantile))\n",
    "print(type(float(upper_quantile)))"
   ],
   "metadata": {
    "collapsed": false,
    "ExecuteTime": {
     "end_time": "2024-04-25T08:59:31.874330500Z",
     "start_time": "2024-04-25T08:59:31.208409Z"
    }
   },
   "execution_count": 19
  },
  {
   "cell_type": "code",
   "outputs": [],
   "source": [
    "import seaborn as sns"
   ],
   "metadata": {
    "collapsed": false,
    "ExecuteTime": {
     "end_time": "2024-04-25T09:07:39.087336800Z",
     "start_time": "2024-04-25T09:07:38.515335800Z"
    }
   },
   "execution_count": 21
  },
  {
   "cell_type": "code",
   "outputs": [
    {
     "data": {
      "text/plain": "<Figure size 640x480 with 1 Axes>",
      "image/png": "[encoded data removed]"
     },
     "metadata": {},
     "output_type": "display_data"
    }
   ],
   "source": [
    "column = \"PARTIC_MT_AUTRES_CREDITS_EURO\"\n",
    "plt = sns.boxplot(x=df[column])\n",
    "plt.figure\n",
    "plt.figure.savefig(f\"O:/SF1-FR-R/500 Data Gouvernance/900 équipe/Simon KAM/Projet Emma/tmp/test.png\")\n",
    "\n",
    "plt = sns.distplot(x=df[column])\n",
    "plt.figure\n",
    "plt.figure.savefig(f\"O:/SF1-FR-R/500 Data Gouvernance/900 équipe/Simon KAM/Projet Emma/tmp/test 2.png\")"
   ],
   "metadata": {
    "collapsed": false,
    "ExecuteTime": {
     "end_time": "2024-04-25T09:12:49.218199800Z",
     "start_time": "2024-04-25T09:12:46.759120600Z"
    }
   },
   "execution_count": 30
  },
  {
   "cell_type": "code",
   "outputs": [
    {
     "ename": "NameError",
     "evalue": "name 'plt2' is not defined",
     "output_type": "error",
     "traceback": [
      "\u001B[1;31m---------------------------------------------------------------------------\u001B[0m",
      "\u001B[1;31mNameError\u001B[0m                                 Traceback (most recent call last)",
      "Cell \u001B[1;32mIn[23], line 1\u001B[0m\n\u001B[1;32m----> 1\u001B[0m \u001B[43mplt2\u001B[49m\u001B[38;5;241m.\u001B[39mfigure\n",
      "\u001B[1;31mNameError\u001B[0m: name 'plt2' is not defined"
     ]
    }
   ],
   "source": [
    "plt2.figure"
   ],
   "metadata": {
    "collapsed": false,
    "ExecuteTime": {
     "end_time": "2024-04-25T09:08:10.803463700Z",
     "start_time": "2024-04-25T09:08:10.173432800Z"
    }
   },
   "execution_count": 23
  },
  {
   "cell_type": "code",
   "execution_count": 100,
   "metadata": {
    "ExecuteTime": {
     "end_time": "2024-04-24T14:56:23.489443800Z",
     "start_time": "2024-04-24T14:55:59.976047200Z"
    }
   },
   "outputs": [
    {
     "name": "stdout",
     "output_type": "stream",
     "text": [
      "From column ID_CONT, 0 rows were removed\n",
      "From column ID_BAREME_FI, 0 rows were removed\n",
      "From column CT_ID_LP, 0 rows were removed\n",
      "From column SCORE_NOTE, 0 rows were removed\n",
      "From column C_DSA, 0 rows were removed\n",
      "From column CO_Client, 0 rows were removed\n",
      "From column CODE_POSTAL, 0 rows were removed\n",
      "From column SITFAM_ID, 0 rows were removed\n",
      "From column PROFES_ID, 0 rows were removed\n",
      "From column HABITA_ID, 0 rows were removed\n",
      "From column YEAR_NAISSANCE, 0 rows were removed\n",
      "From column PARTIC_N_ENFANT, 0 rows were removed\n",
      "From column PARTIC_MT_REVENU_EURO, 0 rows were removed\n",
      "From column PARTIC_MT_AUTRE_REVENU_EURO, 0 rows were removed\n",
      "From column PARTIC_MT_CHARGES_EURO, 0 rows were removed\n",
      "From column PARTIC_MT_AUTRES_CREDITS_EURO, 0 rows were removed\n",
      "From column YEAR_HABITAT, 0 rows were removed\n",
      "From column VAL_APPORT_TTC_EURO, 0 rows were removed\n",
      "From column VAL_PL_TTC_EURO, 0 rows were removed\n",
      "From column CT_AM_FIN_AMOUNT_EURO, 0 rows were removed\n",
      "From column MT_MENS, 0 rows were removed\n",
      "From column NB_ECH, 0 rows were removed\n",
      "From column ASSUR, 0 rows were removed\n",
      "From column ID_MARQ_BIEN, 0 rows were removed\n",
      "From column VEH_DES_ENGTYPE, 0 rows were removed\n",
      "From column ID_ETAT_BIEN, 0 rows were removed\n",
      "From column ID_NAT_BIEN, 0 rows were removed\n",
      "From column SERIE_LIBELLE, 0 rows were removed\n",
      "From column VAL_CATALOGUE_TTC_EURO, 0 rows were removed\n",
      "From column VAL_OPTION_TTC_EURO, 0 rows were removed\n",
      "From column VAL_ACC_REM_TTC_EURO, 0 rows were removed\n",
      "From column VAL_VR_TTC_EURO, 0 rows were removed\n",
      "From column Ancien_renouvelant, 0 rows were removed\n",
      "From column Renouvelant, 0 rows were removed\n",
      "-- Total number of rows removed = 0 on 143320\n",
      "-- Thus 0.0%\n",
      "\n",
      "\n",
      "From column CON_BL_POST_CHOICE, 0 data cells were updated\n",
      "From column CON_BL_EMAIL_CHOICE, 0 data cells were updated\n",
      "From column CON_BL_PHONE_CHOICE, 0 data cells were updated\n",
      "From column CON_BL_SMS_CHOICE, 0 data cells were updated\n",
      "From column CON_BL_MM_SCORE_CHOICE, 0 data cells were updated\n",
      "From column CON_BL_BMW_DATA_TRF_CHOICE, 0 data cells were updated\n",
      "From column CON_BL_DEALER_DATA_TRF_CHOICE, 0 data cells were updated\n",
      "From column CON_BL_CRM_SCORE_CHOICE, 0 data cells were updated\n",
      "-- Total number of cells updated = 0 on 6449400 cells\n",
      "-- Thus 0.0% of the df was changed to default values\n"
     ]
    },
    {
     "data": {
      "text/plain": "<Figure size 640x480 with 1 Axes>",
      "image/png": "[encoded data removed]"
     },
     "metadata": {},
     "output_type": "display_data"
    }
   ],
   "source": [
    "from Code.DataPreparation.MissingValues import MissingValues\n",
    "\n",
    "exclude_list = [\n",
    "            'CON_BL_POST_CHOICE',\n",
    "            'CON_BL_EMAIL_CHOICE',\n",
    "            'CON_BL_PHONE_CHOICE',\n",
    "            'CON_BL_SMS_CHOICE',\n",
    "            'CON_BL_MM_SCORE_CHOICE',\n",
    "            'CON_BL_BMW_DATA_TRF_CHOICE',\n",
    "            'CON_BL_DEALER_DATA_TRF_CHOICE',\n",
    "            'CON_BL_CRM_SCORE_CHOICE',\n",
    "            'YEAR_EMPLOI',\n",
    "            'OA',\n",
    "            'VAL_ARGUS_BIEN_EURO'\n",
    "        ]\n",
    "\n",
    "df = MissingValues.trim_all(df, [elem for elem in df.columns.to_list() if elem not in exclude_list], log_metric=False)\n",
    "#MissingValues.trim_by_percentage(df, 1)\n",
    "df = MissingValues.set_default(df, columns=[\n",
    "    'CON_BL_POST_CHOICE',\n",
    "    'CON_BL_EMAIL_CHOICE',\n",
    "    'CON_BL_PHONE_CHOICE',\n",
    "    'CON_BL_SMS_CHOICE',\n",
    "    'CON_BL_MM_SCORE_CHOICE',\n",
    "    'CON_BL_BMW_DATA_TRF_CHOICE',\n",
    "    'CON_BL_DEALER_DATA_TRF_CHOICE',\n",
    "    'CON_BL_CRM_SCORE_CHOICE',], default_values=[0.0, 0.0, 0.0, 0.0, 0.0, 0.0, 0.0, 0.0], log_metric=False)\n",
    "\n",
    "def visualise_outliers(df: pd.DataFrame, columns: list[str], log_artefacts: bool = True,\n",
    "                      temp_path: str = \"O:/SF1-FR-R/500 Data Gouvernance/900 équipe/Simon KAM/Projet Emma/tmp\"):\n",
    "    \"\"\"\n",
    "    Creates visualisations of the missing values in the dataframe provided as a parameter\n",
    "    \"\"\"\n",
    "    # Box plot\n",
    "    if columns is None:\n",
    "        columns = df.columns\n",
    "\n",
    "\n",
    "    for column in columns:\n",
    "        plt = sns.boxplot(x=df[column])\n",
    "        plt.figure.savefig(temp_path + f\"/outlier box ({column}).png\")\n",
    "\n",
    "        plt = sns.distplot(x=df[column])\n",
    "        plt.figure.savefig(temp_path + f\"/outlier dist ({column}).png\")\n",
    "        \n",
    "visualise_outliers(\n",
    "    df=df,\n",
    "    columns=[\n",
    "        'PARTIC_MT_REVENU_EURO',\n",
    "        'PARTIC_MT_AUTRE_REVENU_EURO',\n",
    "        'PARTIC_MT_CHARGES_EURO',\n",
    "        'PARTIC_MT_AUTRES_CREDITS_EURO',\n",
    "        'SCORE_NOTE',\n",
    "        'C_DSA',\n",
    "        'NB_ECH',\n",
    "        'ASSUR',\n",
    "        'VAL_OPTION_TTC_EURO',\n",
    "        'VAL_VR_TTC_EURO'])"
   ]
  },
  {
   "cell_type": "code",
   "outputs": [
    {
     "data": {
      "text/plain": "<Figure size 640x480 with 1 Axes>",
      "image/png": "[encoded data removed]"
     },
     "metadata": {},
     "output_type": "display_data"
    }
   ],
   "source": [
    "figure = sns.boxplot(x=df[\"VAL_VR_TTC_EURO\"])\n",
    "figure.figure.savefig(\"O:/SF1-FR-R/500 Data Gouvernance/900 équipe/Simon KAM/Projet Emma/tmp/outlier dist.png\")"
   ],
   "metadata": {
    "collapsed": false,
    "ExecuteTime": {
     "end_time": "2024-04-24T14:36:50.500537900Z",
     "start_time": "2024-04-24T14:36:49.902345200Z"
    }
   },
   "execution_count": 83
  },
  {
   "cell_type": "code",
   "execution_count": 20,
   "metadata": {
    "ExecuteTime": {
     "end_time": "2024-04-24T12:09:17.399310Z",
     "start_time": "2024-04-24T12:09:16.787782600Z"
    }
   },
   "outputs": [
    {
     "data": {
      "text/plain": "3                        SCORE_NOTE\n4                             C_DSA\n6                       CODE_POSTAL\n7                CON_BL_POST_CHOICE\n8               CON_BL_EMAIL_CHOICE\n9               CON_BL_PHONE_CHOICE\n10                CON_BL_SMS_CHOICE\n11           CON_BL_MM_SCORE_CHOICE\n12       CON_BL_BMW_DATA_TRF_CHOICE\n13    CON_BL_DEALER_DATA_TRF_CHOICE\n14          CON_BL_CRM_SCORE_CHOICE\n15                        SITFAM_ID\n16                        PROFES_ID\n17                        HABITA_ID\n18                   YEAR_NAISSANCE\n19                  PARTIC_N_ENFANT\n20            PARTIC_MT_REVENU_EURO\n21      PARTIC_MT_AUTRE_REVENU_EURO\n22           PARTIC_MT_CHARGES_EURO\n23    PARTIC_MT_AUTRES_CREDITS_EURO\n24                      YEAR_EMPLOI\n25                     YEAR_HABITAT\n28            CT_AM_FIN_AMOUNT_EURO\n29                          MT_MENS\n30                           NB_ECH\n31                               OA\n32                            ASSUR\n34                  VEH_DES_ENGTYPE\n41              VAL_ARGUS_BIEN_EURO\nName: column_names, dtype: object"
     },
     "execution_count": 20,
     "metadata": {},
     "output_type": "execute_result"
    }
   ],
   "source": [
    "mv_df = df.isna().sum().rename_axis('column_names').reset_index(name='No missing')\n",
    "mv_df[mv_df[\"No missing\"] != 0][\"column_names\"]"
   ]
  },
  {
   "cell_type": "code",
   "outputs": [
    {
     "ename": "NameError",
     "evalue": "name 'df' is not defined",
     "output_type": "error",
     "traceback": [
      "\u001B[1;31m---------------------------------------------------------------------------\u001B[0m",
      "\u001B[1;31mNameError\u001B[0m                                 Traceback (most recent call last)",
      "Cell \u001B[1;32mIn[1], line 1\u001B[0m\n\u001B[1;32m----> 1\u001B[0m \u001B[43mdf\u001B[49m\n",
      "\u001B[1;31mNameError\u001B[0m: name 'df' is not defined"
     ]
    }
   ],
   "source": [
    "df"
   ],
   "metadata": {
    "collapsed": false,
    "ExecuteTime": {
     "end_time": "2024-04-25T07:36:33.527567900Z",
     "start_time": "2024-04-25T07:36:22.178208600Z"
    }
   },
   "execution_count": 1
  },
  {
   "cell_type": "code",
   "outputs": [
    {
     "name": "stdout",
     "output_type": "stream",
     "text": [
      "0\n",
      "1782\n",
      "0.012169138736376301\n"
     ]
    }
   ],
   "source": [
    "lower = df[df[\"PARTIC_MT_REVENU_EURO\"] < df[\"PARTIC_MT_REVENU_EURO\"].quantile(0.0132)][\"PARTIC_MT_REVENU_EURO\"].count()\n",
    "print(lower)\n",
    "\n",
    "upper = df[df[\"PARTIC_MT_REVENU_EURO\"] > df[\"PARTIC_MT_REVENU_EURO\"].quantile(0.9878)][\"PARTIC_MT_REVENU_EURO\"].count()\n",
    "print(upper)\n",
    "print((lower+upper)/df.shape[0])"
   ],
   "metadata": {
    "collapsed": false,
    "ExecuteTime": {
     "end_time": "2024-04-24T12:36:12.621316200Z",
     "start_time": "2024-04-24T12:36:11.921070100Z"
    }
   },
   "execution_count": 61
  },
  {
   "cell_type": "code",
   "outputs": [
    {
     "name": "stdout",
     "output_type": "stream",
     "text": [
      "From column ID_CONT, 0 rows were removed\n",
      "From column ID_BAREME_FI, 0 rows were removed\n",
      "From column CT_ID_LP, 0 rows were removed\n",
      "From column SCORE_NOTE, 1008 rows were removed\n",
      "From column C_DSA, 0 rows were removed\n",
      "From column CO_Client, 0 rows were removed\n",
      "From column CODE_POSTAL, 1 rows were removed\n",
      "From column SITFAM_ID, 72 rows were removed\n",
      "From column PROFES_ID, 297 rows were removed\n",
      "From column HABITA_ID, 0 rows were removed\n",
      "From column YEAR_NAISSANCE, 3 rows were removed\n",
      "From column PARTIC_N_ENFANT, 92 rows were removed\n",
      "From column PARTIC_MT_REVENU_EURO, 14 rows were removed\n",
      "From column PARTIC_MT_AUTRE_REVENU_EURO, 218 rows were removed\n",
      "From column PARTIC_MT_CHARGES_EURO, 552 rows were removed\n",
      "From column PARTIC_MT_AUTRES_CREDITS_EURO, 109 rows were removed\n",
      "From column YEAR_HABITAT, 39 rows were removed\n",
      "From column VAL_APPORT_TTC_EURO, 0 rows were removed\n",
      "From column VAL_PL_TTC_EURO, 0 rows were removed\n",
      "From column CT_AM_FIN_AMOUNT_EURO, 711 rows were removed\n",
      "From column MT_MENS, 0 rows were removed\n",
      "From column NB_ECH, 0 rows were removed\n",
      "From column ASSUR, 0 rows were removed\n",
      "From column ID_MARQ_BIEN, 0 rows were removed\n",
      "From column VEH_DES_ENGTYPE, 0 rows were removed\n",
      "From column ID_ETAT_BIEN, 0 rows were removed\n",
      "From column ID_NAT_BIEN, 0 rows were removed\n",
      "From column SERIE_LIBELLE, 0 rows were removed\n",
      "From column VAL_CATALOGUE_TTC_EURO, 0 rows were removed\n",
      "From column VAL_OPTION_TTC_EURO, 0 rows were removed\n",
      "From column VAL_ACC_REM_TTC_EURO, 0 rows were removed\n",
      "From column VAL_VR_TTC_EURO, 0 rows were removed\n",
      "From column Ancien_renouvelant, 0 rows were removed\n",
      "From column Renouvelant, 0 rows were removed\n",
      "-- Total number of rows removed = 3116 on 146436\n",
      "-- Thus 2.127892048403398%\n",
      "\n",
      "\n",
      "From column CON_BL_POST_CHOICE, 31895 data cells were updated\n",
      "From column CON_BL_EMAIL_CHOICE, 31895 data cells were updated\n",
      "From column CON_BL_PHONE_CHOICE, 31895 data cells were updated\n",
      "From column CON_BL_SMS_CHOICE, 31895 data cells were updated\n",
      "From column CON_BL_MM_SCORE_CHOICE, 31895 data cells were updated\n",
      "From column CON_BL_BMW_DATA_TRF_CHOICE, 34399 data cells were updated\n",
      "From column CON_BL_DEALER_DATA_TRF_CHOICE, 143320 data cells were updated\n",
      "From column CON_BL_CRM_SCORE_CHOICE, 143320 data cells were updated\n",
      "-- Total number of cells updated = 480514 on 6449400 cells\n",
      "-- Thus 7.450522529227525% of the df was changed to default values\n"
     ]
    }
   ],
   "source": [
    "from Code.DataPreparation.MissingValues import MissingValues\n",
    "exclude_list = [\n",
    "            'CON_BL_POST_CHOICE',\n",
    "            'CON_BL_EMAIL_CHOICE',\n",
    "            'CON_BL_PHONE_CHOICE',\n",
    "            'CON_BL_SMS_CHOICE',\n",
    "            'CON_BL_MM_SCORE_CHOICE',\n",
    "            'CON_BL_BMW_DATA_TRF_CHOICE',\n",
    "            'CON_BL_DEALER_DATA_TRF_CHOICE',\n",
    "            'CON_BL_CRM_SCORE_CHOICE',\n",
    "            'YEAR_EMPLOI',\n",
    "            'OA',\n",
    "            'VAL_ARGUS_BIEN_EURO'\n",
    "        ]\n",
    "\n",
    "df = MissingValues.trim_all(df, [elem for elem in df.columns.to_list() if elem not in exclude_list])\n",
    "#MissingValues.trim_by_percentage(df, 1)\n",
    "df = MissingValues.set_default(df, columns=[\n",
    "    'CON_BL_POST_CHOICE',\n",
    "    'CON_BL_EMAIL_CHOICE',\n",
    "    'CON_BL_PHONE_CHOICE',\n",
    "    'CON_BL_SMS_CHOICE',\n",
    "    'CON_BL_MM_SCORE_CHOICE',\n",
    "    'CON_BL_BMW_DATA_TRF_CHOICE',\n",
    "    'CON_BL_DEALER_DATA_TRF_CHOICE',\n",
    "    'CON_BL_CRM_SCORE_CHOICE',], default_values=[0.0, 0.0, 0.0, 0.0, 0.0, 0.0, 0.0, 0.0])"
   ],
   "metadata": {
    "collapsed": false,
    "ExecuteTime": {
     "end_time": "2024-04-24T12:28:48.922982200Z",
     "start_time": "2024-04-24T12:28:46.617407400Z"
    }
   },
   "execution_count": 45
  },
  {
   "cell_type": "code",
   "outputs": [
    {
     "data": {
      "text/plain": "<seaborn.axisgrid.FacetGrid at 0x256ed65a810>"
     },
     "execution_count": 46,
     "metadata": {},
     "output_type": "execute_result"
    },
    {
     "data": {
      "text/plain": "<Figure size 500x500 with 1 Axes>",
      "image/png": "[encoded data removed]"
     },
     "metadata": {},
     "output_type": "display_data"
    }
   ],
   "source": [
    "import seaborn as sns\n",
    "sns.displot(df[\"PARTIC_MT_REVENU_EURO\"])"
   ],
   "metadata": {
    "collapsed": false,
    "ExecuteTime": {
     "end_time": "2024-04-24T12:29:03.476123400Z",
     "start_time": "2024-04-24T12:28:53.957833Z"
    }
   },
   "execution_count": 46
  },
  {
   "cell_type": "code",
   "outputs": [],
   "source": [
    "import numpy as np\n",
    "\n",
    "percentiles = df[\"PARTIC_MT_REVENU_EURO\"].quantile([0.01, 0.99]).values\n",
    "df[\"PARTIC_MT_REVENU_EURO\"] = np.clip(df[\"PARTIC_MT_REVENU_EURO\"], percentiles[0], percentiles[1])"
   ],
   "metadata": {
    "collapsed": false,
    "ExecuteTime": {
     "end_time": "2024-04-24T12:29:16.172494900Z",
     "start_time": "2024-04-24T12:29:16.145073400Z"
    }
   },
   "execution_count": 47
  },
  {
   "cell_type": "code",
   "outputs": [
    {
     "data": {
      "text/plain": "<seaborn.axisgrid.FacetGrid at 0x25688017c20>"
     },
     "execution_count": 48,
     "metadata": {},
     "output_type": "execute_result"
    },
    {
     "data": {
      "text/plain": "<Figure size 500x500 with 1 Axes>",
      "image/png": "[encoded data removed]"
     },
     "metadata": {},
     "output_type": "display_data"
    }
   ],
   "source": [
    "sns.displot(df[\"PARTIC_MT_REVENU_EURO\"])"
   ],
   "metadata": {
    "collapsed": false,
    "ExecuteTime": {
     "end_time": "2024-04-24T12:29:19.598978300Z",
     "start_time": "2024-04-24T12:29:18.684138100Z"
    }
   },
   "execution_count": 48
  },
  {
   "cell_type": "code",
   "outputs": [
    {
     "data": {
      "text/plain": "<Axes: xlabel='CON_BL_PHONE_CHOICE'>"
     },
     "execution_count": 44,
     "metadata": {},
     "output_type": "execute_result"
    },
    {
     "data": {
      "text/plain": "<Figure size 640x480 with 1 Axes>",
      "image/png": "[encoded data removed]"
     },
     "metadata": {},
     "output_type": "display_data"
    }
   ],
   "source": [
    "#df[df['Renouvelant']==1]['CT_ID_LP'].value_counts().plot(kind='bar')\n",
    "grouped_df = df.groupby(['CON_BL_PHONE_CHOICE','Renouvelant']).size().unstack()\n",
    "grouped_df.plot(kind='bar', stacked=False)"
   ],
   "metadata": {
    "collapsed": false,
    "ExecuteTime": {
     "end_time": "2024-04-18T14:54:47.898525900Z",
     "start_time": "2024-04-18T14:54:47.231497300Z"
    }
   },
   "execution_count": 44
  },
  {
   "cell_type": "code",
   "outputs": [
    {
     "data": {
      "text/plain": "<Axes: xlabel='CT_ID_LP'>"
     },
     "execution_count": 3,
     "metadata": {},
     "output_type": "execute_result"
    },
    {
     "data": {
      "text/plain": "<Figure size 640x480 with 1 Axes>",
      "image/png": "[encoded data removed]"
     },
     "metadata": {},
     "output_type": "display_data"
    }
   ],
   "source": [
    "df.groupby(['CT_ID_LP','Renouvelant']).size().unstack().plot(kind='bar', stacked=False)"
   ],
   "metadata": {
    "collapsed": false,
    "ExecuteTime": {
     "end_time": "2024-04-23T10:18:08.335982100Z",
     "start_time": "2024-04-23T10:18:07.581722500Z"
    }
   },
   "execution_count": 3
  },
  {
   "cell_type": "code",
   "execution_count": 10,
   "metadata": {
    "ExecuteTime": {
     "end_time": "2024-04-23T11:57:11.549012500Z",
     "start_time": "2024-04-23T11:57:10.649440400Z"
    }
   },
   "outputs": [],
   "source": [
    "from Code.DataPreparation.MissingValues import MissingValues"
   ]
  },
  {
   "cell_type": "code",
   "execution_count": 2,
   "metadata": {
    "ExecuteTime": {
     "end_time": "2024-04-23T10:17:08.349724200Z",
     "start_time": "2024-04-23T10:17:06.298687400Z"
    }
   },
   "outputs": [
    {
     "data": {
      "text/plain": "<Axes: >"
     },
     "execution_count": 2,
     "metadata": {},
     "output_type": "execute_result"
    },
    {
     "data": {
      "text/plain": "<Figure size 640x480 with 1 Axes>",
      "image/png": "[encoded data removed]"
     },
     "metadata": {},
     "output_type": "display_data"
    }
   ],
   "source": [
    "\n",
    "df['PARTIC_MT_REVENU_EURO'].plot.line()"
   ]
  },
  {
   "cell_type": "code",
   "execution_count": 38,
   "metadata": {},
   "outputs": [],
   "source": [
    "df['RENOUVELANT'] = df['RENOUVELANT'].apply(lambda x: 0 if x else 1)"
   ]
  },
  {
   "cell_type": "code",
   "execution_count": 43,
   "metadata": {},
   "outputs": [
    {
     "data": {
      "text/html": [
       "<div>\n",
       "<style scoped>\n",
       "    .dataframe tbody tr th:only-of-type {\n",
       "        vertical-align: middle;\n",
       "    }\n",
       "\n",
       "    .dataframe tbody tr th {\n",
       "        vertical-align: top;\n",
       "    }\n",
       "\n",
       "    .dataframe thead th {\n",
       "        text-align: right;\n",
       "    }\n",
       "</style>\n",
       "<table border=\"1\" class=\"dataframe\">\n",
       "  <thead>\n",
       "    <tr style=\"text-align: right;\">\n",
       "      <th></th>\n",
       "      <th>DES_BIEN</th>\n",
       "      <th>RENOUVELANT</th>\n",
       "    </tr>\n",
       "  </thead>\n",
       "  <tbody>\n",
       "    <tr>\n",
       "      <th>0</th>\n",
       "      <td>NaN</td>\n",
       "      <td>0</td>\n",
       "    </tr>\n",
       "    <tr>\n",
       "      <th>1</th>\n",
       "      <td>NaN</td>\n",
       "      <td>0</td>\n",
       "    </tr>\n",
       "    <tr>\n",
       "      <th>2</th>\n",
       "      <td>NaN</td>\n",
       "      <td>0</td>\n",
       "    </tr>\n",
       "    <tr>\n",
       "      <th>3</th>\n",
       "      <td>NaN</td>\n",
       "      <td>0</td>\n",
       "    </tr>\n",
       "    <tr>\n",
       "      <th>4</th>\n",
       "      <td>NaN</td>\n",
       "      <td>0</td>\n",
       "    </tr>\n",
       "    <tr>\n",
       "      <th>...</th>\n",
       "      <td>...</td>\n",
       "      <td>...</td>\n",
       "    </tr>\n",
       "    <tr>\n",
       "      <th>66653</th>\n",
       "      <td>BMW 128ti 265 ch 128ti A</td>\n",
       "      <td>1</td>\n",
       "    </tr>\n",
       "    <tr>\n",
       "      <th>66654</th>\n",
       "      <td>MINI F56 Mini Cooper SE 184 ch Finition Yours 3p</td>\n",
       "      <td>1</td>\n",
       "    </tr>\n",
       "    <tr>\n",
       "      <th>66655</th>\n",
       "      <td>BMW X1 sDrive18i 136ch Finition xLine A</td>\n",
       "      <td>1</td>\n",
       "    </tr>\n",
       "    <tr>\n",
       "      <th>66656</th>\n",
       "      <td>BMW X1 sDrive18i 136ch BMW X1 A</td>\n",
       "      <td>1</td>\n",
       "    </tr>\n",
       "    <tr>\n",
       "      <th>66657</th>\n",
       "      <td>BMW 218i 136ch Active Tourer Finition Luxury A</td>\n",
       "      <td>1</td>\n",
       "    </tr>\n",
       "  </tbody>\n",
       "</table>\n",
       "<p>66658 rows × 2 columns</p>\n",
       "</div>"
      ],
      "text/plain": [
       "                                               DES_BIEN  RENOUVELANT\n",
       "0                                                   NaN            0\n",
       "1                                                   NaN            0\n",
       "2                                                   NaN            0\n",
       "3                                                   NaN            0\n",
       "4                                                   NaN            0\n",
       "...                                                 ...          ...\n",
       "66653                          BMW 128ti 265 ch 128ti A            1\n",
       "66654  MINI F56 Mini Cooper SE 184 ch Finition Yours 3p            1\n",
       "66655           BMW X1 sDrive18i 136ch Finition xLine A            1\n",
       "66656                   BMW X1 sDrive18i 136ch BMW X1 A            1\n",
       "66657    BMW 218i 136ch Active Tourer Finition Luxury A            1\n",
       "\n",
       "[66658 rows x 2 columns]"
      ]
     },
     "execution_count": 43,
     "metadata": {},
     "output_type": "execute_result"
    }
   ],
   "source": [
    "df[['DES_BIEN', 'RENOUVELANT']]"
   ]
  },
  {
   "cell_type": "code",
   "execution_count": 34,
   "metadata": {},
   "outputs": [],
   "source": [
    "df[\"DES_ENFANTS\"] = df['PARTIC_N_ENFANT'].apply(lambda x: 1 if x>0 else 0)"
   ]
  },
  {
   "cell_type": "code",
   "execution_count": 35,
   "metadata": {},
   "outputs": [
    {
     "data": {
      "text/html": [
       "<div>\n",
       "<style scoped>\n",
       "    .dataframe tbody tr th:only-of-type {\n",
       "        vertical-align: middle;\n",
       "    }\n",
       "\n",
       "    .dataframe tbody tr th {\n",
       "        vertical-align: top;\n",
       "    }\n",
       "\n",
       "    .dataframe thead th {\n",
       "        text-align: right;\n",
       "    }\n",
       "</style>\n",
       "<table border=\"1\" class=\"dataframe\">\n",
       "  <thead>\n",
       "    <tr style=\"text-align: right;\">\n",
       "      <th></th>\n",
       "      <th>DES_ENFANTS</th>\n",
       "      <th>PARTIC_N_ENFANT</th>\n",
       "    </tr>\n",
       "  </thead>\n",
       "  <tbody>\n",
       "    <tr>\n",
       "      <th>0</th>\n",
       "      <td>1</td>\n",
       "      <td>2.0</td>\n",
       "    </tr>\n",
       "    <tr>\n",
       "      <th>1</th>\n",
       "      <td>0</td>\n",
       "      <td>0.0</td>\n",
       "    </tr>\n",
       "    <tr>\n",
       "      <th>2</th>\n",
       "      <td>0</td>\n",
       "      <td>0.0</td>\n",
       "    </tr>\n",
       "    <tr>\n",
       "      <th>3</th>\n",
       "      <td>0</td>\n",
       "      <td>0.0</td>\n",
       "    </tr>\n",
       "    <tr>\n",
       "      <th>4</th>\n",
       "      <td>1</td>\n",
       "      <td>2.0</td>\n",
       "    </tr>\n",
       "    <tr>\n",
       "      <th>...</th>\n",
       "      <td>...</td>\n",
       "      <td>...</td>\n",
       "    </tr>\n",
       "    <tr>\n",
       "      <th>66653</th>\n",
       "      <td>0</td>\n",
       "      <td>0.0</td>\n",
       "    </tr>\n",
       "    <tr>\n",
       "      <th>66654</th>\n",
       "      <td>0</td>\n",
       "      <td>0.0</td>\n",
       "    </tr>\n",
       "    <tr>\n",
       "      <th>66655</th>\n",
       "      <td>1</td>\n",
       "      <td>1.0</td>\n",
       "    </tr>\n",
       "    <tr>\n",
       "      <th>66656</th>\n",
       "      <td>0</td>\n",
       "      <td>0.0</td>\n",
       "    </tr>\n",
       "    <tr>\n",
       "      <th>66657</th>\n",
       "      <td>1</td>\n",
       "      <td>1.0</td>\n",
       "    </tr>\n",
       "  </tbody>\n",
       "</table>\n",
       "<p>66658 rows × 2 columns</p>\n",
       "</div>"
      ],
      "text/plain": [
       "       DES_ENFANTS  PARTIC_N_ENFANT\n",
       "0                1              2.0\n",
       "1                0              0.0\n",
       "2                0              0.0\n",
       "3                0              0.0\n",
       "4                1              2.0\n",
       "...            ...              ...\n",
       "66653            0              0.0\n",
       "66654            0              0.0\n",
       "66655            1              1.0\n",
       "66656            0              0.0\n",
       "66657            1              1.0\n",
       "\n",
       "[66658 rows x 2 columns]"
      ]
     },
     "execution_count": 35,
     "metadata": {},
     "output_type": "execute_result"
    }
   ],
   "source": [
    "df[['DES_ENFANTS','PARTIC_N_ENFANT']]"
   ]
  },
  {
   "cell_type": "code",
   "execution_count": 49,
   "metadata": {},
   "outputs": [
    {
     "name": "stdout",
     "output_type": "stream",
     "text": [
      "Point-biserial correlation coefficient: -0.01614909178364366\n"
     ]
    }
   ],
   "source": [
    "import scipy.stats as stats\n",
    "\n",
    "# Assuming your boolean columns are stored in variables x and y\n",
    "correlation, p_value = stats.pointbiserialr(df['DES_ENFANTS'], df['RENOUVELANT'])\n",
    "\n",
    "# Print the correlation coefficient\n",
    "print(\"Point-biserial correlation coefficient:\", correlation)"
   ]
  },
  {
   "cell_type": "code",
   "execution_count": 64,
   "metadata": {},
   "outputs": [
    {
     "name": "stdout",
     "output_type": "stream",
     "text": [
      "Point-biserial correlation coefficient: -0.014053434756496674\n"
     ]
    }
   ],
   "source": [
    "import scipy.stats as stats\n",
    "\n",
    "# Assuming your boolean columns are stored in variables x and y\n",
    "correlation, p_value = stats.pointbiserialr(df[df['PARTIC_N_ENFANT'].notna()]['RENOUVELANT'], df[df['PARTIC_N_ENFANT'].notna()]['PARTIC_N_ENFANT'])\n",
    "\n",
    "# Print the correlation coefficient\n",
    "print(\"Point-biserial correlation coefficient:\", correlation)"
   ]
  },
  {
   "cell_type": "code",
   "execution_count": 50,
   "metadata": {},
   "outputs": [
    {
     "data": {
      "text/plain": [
       "Index(['Unnamed: 0', 'PARTIC_N_ENFANT', 'SITFAM_ID', 'PROFES_LIBELLE',\n",
       "       'PARTIC_MT_REVENU_EURO', 'PARTIC_MT_AUTRE_REVENU_EURO', 'YEAR_EMPLOI',\n",
       "       'YEAR_HABITAT', 'PARTIC_MT_CHARGES_EURO', 'YEAR_DATE_NAISSANCE',\n",
       "       'POST_CODE', 'DES_BIEN', 'ID_BIEN', 'ID_MODELE_BIEN', 'VEHICLE',\n",
       "       'ID_MODELE_BIEN.1', 'ID_MODELE_AG', 'SERIE', 'RECOM', 'RENOUVELANT',\n",
       "       'DES_ENFANTS'],\n",
       "      dtype='object')"
      ]
     },
     "execution_count": 50,
     "metadata": {},
     "output_type": "execute_result"
    }
   ],
   "source": [
    "df.columns"
   ]
  },
  {
   "cell_type": "code",
   "execution_count": 53,
   "metadata": {},
   "outputs": [
    {
     "name": "stdout",
     "output_type": "stream",
     "text": [
      "Cramér's V: RENOUVELANT\n",
      "0    0.087362\n",
      "1    0.124275\n",
      "dtype: float64\n"
     ]
    },
    {
     "name": "stderr",
     "output_type": "stream",
     "text": [
      "o:\\SF1-FR-R\\500 Data Gouvernance\\900 équipe\\Simon KAM\\Projet Emma\\Lib\\site-packages\\numpy\\core\\fromnumeric.py:86: FutureWarning: The behavior of DataFrame.sum with axis=None is deprecated, in a future version this will reduce over both axes and return a scalar. To retain the old behavior, pass axis=0 (or do not pass axis)\n",
      "  return reduction(axis=axis, out=out, **passkwargs)\n"
     ]
    }
   ],
   "source": [
    "import numpy as np\n",
    "import pandas as pd\n",
    "import scipy.stats as stats\n",
    "\n",
    "# Assuming your multimodal categorical variable is stored in variable x and binary variable in variable y\n",
    "contingency_table = pd.crosstab( df['SITFAM_ID'],  df['RENOUVELANT'])\n",
    "\n",
    "chi2, p_value, dof, _ = stats.chi2_contingency(contingency_table)\n",
    "\n",
    "n = np.sum(contingency_table)\n",
    "v = np.sqrt(chi2 / (n * min(contingency_table.shape) - 1))\n",
    "\n",
    "# Print the Cramér's V value\n",
    "print(\"Cramér's V:\", v)"
   ]
  },
  {
   "cell_type": "code",
   "execution_count": 54,
   "metadata": {},
   "outputs": [
    {
     "name": "stdout",
     "output_type": "stream",
     "text": [
      "0.211637\n"
     ]
    }
   ],
   "source": [
    "print(0.087362+0.124275)"
   ]
  },
  {
   "cell_type": "code",
   "execution_count": 58,
   "metadata": {},
   "outputs": [
    {
     "name": "stdout",
     "output_type": "stream",
     "text": [
      "Point-biserial correlation coefficient:  0.01966824328074948\n"
     ]
    }
   ],
   "source": [
    "import numpy as np\n",
    "from scipy.stats import pointbiserialr\n",
    "\n",
    "point_biseral_corr, _ = pointbiserialr(df[df['PARTIC_MT_REVENU_EURO'].notna()]['RENOUVELANT'], df[df['PARTIC_MT_REVENU_EURO'].notna()]['PARTIC_MT_REVENU_EURO'])\n",
    "print(\"Point-biserial correlation coefficient: \", point_biseral_corr)\n",
    "\n",
    "#phi_corr = phi_k(df['RENOUVELANT'], df['SITFAM_ID'])\n",
    "#print(\"Phi coefficient: \", phi_corr)"
   ]
  },
  {
   "cell_type": "code",
   "execution_count": null,
   "metadata": {},
   "outputs": [],
   "source": []
  },
  {
   "cell_type": "code",
   "outputs": [],
   "source": [],
   "metadata": {
    "collapsed": false
   }
  },
  {
   "cell_type": "code",
   "outputs": [],
   "source": [],
   "metadata": {
    "collapsed": false,
    "ExecuteTime": {
     "end_time": "2024-05-03T13:55:52.190879700Z",
     "start_time": "2024-05-03T13:55:52.112744300Z"
    }
   },
   "execution_count": 11
  },
  {
   "cell_type": "code",
   "outputs": [],
   "source": [],
   "metadata": {
    "collapsed": false,
    "ExecuteTime": {
     "end_time": "2024-05-03T13:55:53.152006700Z",
     "start_time": "2024-05-03T13:55:53.109476700Z"
    }
   },
   "execution_count": 11
  },
  {
   "cell_type": "code",
   "outputs": [],
   "source": [
    "import mlflow.data.dataset\n",
    "import mlflow\n",
    "import mlflow.data\n",
    "from mlflow.data.pandas_dataset import PandasDataset\n",
    "import pandas as pd\n",
    "import seaborn as sns\n",
    "import matplotlib.pyplot as plt\n",
    "from sklearn.linear_model import LogisticRegression\n",
    "from sklearn.metrics import classification_report, confusion_matrix, accuracy_score, classification_report\n",
    "from sklearn.model_selection import train_test_split\n",
    "\n",
    "from Code.utils import Utils, MlFlowUtils\n",
    "from Code.globals import ROOT_DIRECTORY, EXPERIMENTER, TMP_DIRECTORY\n",
    "\n",
    "\n",
    "# Create an experiment if it doesn't exist\n",
    "class LogisticClassification:\n",
    "    @staticmethod\n",
    "    def run_experiment():\n",
    "        experiment_tags = {\n",
    "            \"experimenter\": EXPERIMENTER,\n",
    "            \"experiment version\": 1.0,\n",
    "            \"data version\": 2.1}\n",
    "        experiment = MlFlowUtils.create_or_get_experiment(experiment_name=\"Logistic Regression\")\n",
    "\n",
    "        # Get experiment's Data\n",
    "        df = pd.read_csv(\"C:/Users/qte5631/PycharmProjects/Projet Emma/Data/V2/Processed/data.csv\")\n",
    "        X = df.loc[:, df.columns != \"Renouvelant\"]\n",
    "        y = df[\"Renouvelant\"]\n",
    "\n",
    "        dataset: PandasDataset = mlflow.data.from_pandas(df, source=\"numpy random array\")\n",
    "\n",
    "        # Train model\n",
    "        with mlflow.start_run(experiment_id=experiment.experiment_id, tags=experiment_tags):\n",
    "            # Set experiment tags\n",
    "            mlflow.set_experiment_tags(experiment_tags)\n",
    "\n",
    "            # Log experiment's dataset\n",
    "            data_tags = {\"version\": \"1.0.0\"}\n",
    "            mlflow.log_input(dataset, context=\"testing\", tags=data_tags)\n",
    "\n",
    "            X_train, X_test, y_train, y_test = train_test_split(X, y, test_size=0.2, random_state=0)\n",
    "\n",
    "            # Set and Log experiment's params\n",
    "            params = {\n",
    "                \"penalty\": \"l2\",\n",
    "                \"max_iter\": 200,\n",
    "                \"solver\": 'liblinear',\n",
    "                \"random_state\": 0\n",
    "            }\n",
    "            mlflow.log_params(params)\n",
    "\n",
    "            model = LogisticRegression(\n",
    "                penalty=params[\"penalty\"],\n",
    "                max_iter=params[\"max_iter\"],\n",
    "                solver=params[\"solver\"],\n",
    "                randmon_state=params[\"random_state\"]\n",
    "            )\n",
    "\n",
    "            # Train the model\n",
    "            model.fit(X_train, y_train)\n",
    "            y_pred_test = model.predict(X_test)\n",
    "\n",
    "            #mlflow.log_metric(key=\"Accuracy\", value=accuracy_score(y_test, y_pred_test))\n",
    "\n",
    "            cm = confusion_matrix(y_test, y_pred_test)\n",
    "            print('Confusion matrix\\n\\n', cm)\n",
    "            print('\\nTrue Positives(TP) = ', cm[0, 0])\n",
    "            print('\\nTrue Negatives(TN) = ', cm[1, 1])\n",
    "            print('\\nFalse Positives(FP) = ', cm[0, 1])\n",
    "            print('\\nFalse Negatives(FN) = ', cm[1, 0])\n",
    "\n",
    "            plt.figure()\n",
    "\n",
    "            cm_matrix = pd.DataFrame(data=cm, columns=['Actual Positive:1', 'Actual Negative:0'],\n",
    "                                     index=['Predict Positive:1', 'Predict Negative:0'])\n",
    "\n",
    "            diagram = sns.heatmap(cm_matrix, annot=True, fmt='d', cmap='YlGnBu')\n",
    "            diagram.figure.savefig(TMP_DIRECTORY + f\"/Logistic regression Confusion Matrix.png\")\n",
    "            # if log_artefacts:\n",
    "            #mlflow.log_artifact(TMP_DIRECTORY + f\"/Logistic regression Confusion Matrix.png\",\n",
    "                                #artifact_path=f\"Logistic classification confusion matrix\")\n",
    "\n",
    "            #mlflow.log_metrics(classification_report(y_test, y_pred_test))\n",
    "        print(\"First execution successful\")\n"
   ],
   "metadata": {
    "collapsed": false,
    "ExecuteTime": {
     "end_time": "2024-05-03T14:06:24.215674400Z",
     "start_time": "2024-05-03T14:06:24.146334900Z"
    }
   },
   "execution_count": 35
  },
  {
   "cell_type": "code",
   "outputs": [
    {
     "name": "stderr",
     "output_type": "stream",
     "text": [
      "C:\\Users\\qte5631\\AppData\\Local\\Temp\\ipykernel_2168\\3551854061.py:27: DtypeWarning: Columns (6) have mixed types. Specify dtype option on import or set low_memory=False.\n",
      "  df = pd.read_csv(\"C:/Users/qte5631/PycharmProjects/Projet Emma/Data/V2/Processed/data.csv\")\n",
      "C:\\Users\\qte5631\\PycharmProjects\\Projet Emma\\.venv\\Lib\\site-packages\\mlflow\\data\\dataset_source_registry.py:150: UserWarning: The specified dataset source can be interpreted in multiple ways: LocalArtifactDatasetSource, LocalArtifactDatasetSource. MLflow will assume that this is a LocalArtifactDatasetSource source.\n",
      "  return _dataset_source_registry.resolve(\n",
      "C:\\Users\\qte5631\\PycharmProjects\\Projet Emma\\.venv\\Lib\\site-packages\\mlflow\\data\\digest_utils.py:26: FutureWarning: DataFrame.applymap has been deprecated. Use DataFrame.map instead.\n",
      "  string_columns = trimmed_df.columns[(df.applymap(type) == str).all(0)]\n"
     ]
    },
    {
     "ename": "KeyboardInterrupt",
     "evalue": "",
     "output_type": "error",
     "traceback": [
      "\u001B[1;31m---------------------------------------------------------------------------\u001B[0m",
      "\u001B[1;31mKeyboardInterrupt\u001B[0m                         Traceback (most recent call last)",
      "Cell \u001B[1;32mIn[36], line 1\u001B[0m\n\u001B[1;32m----> 1\u001B[0m \u001B[43mLogisticClassification\u001B[49m\u001B[38;5;241;43m.\u001B[39;49m\u001B[43mrun_experiment\u001B[49m\u001B[43m(\u001B[49m\u001B[43m)\u001B[49m\n",
      "Cell \u001B[1;32mIn[35], line 40\u001B[0m, in \u001B[0;36mLogisticClassification.run_experiment\u001B[1;34m()\u001B[0m\n\u001B[0;32m     38\u001B[0m \u001B[38;5;66;03m# Log experiment's dataset\u001B[39;00m\n\u001B[0;32m     39\u001B[0m data_tags \u001B[38;5;241m=\u001B[39m {\u001B[38;5;124m\"\u001B[39m\u001B[38;5;124mversion\u001B[39m\u001B[38;5;124m\"\u001B[39m: \u001B[38;5;124m\"\u001B[39m\u001B[38;5;124m1.0.0\u001B[39m\u001B[38;5;124m\"\u001B[39m}\n\u001B[1;32m---> 40\u001B[0m \u001B[43mmlflow\u001B[49m\u001B[38;5;241;43m.\u001B[39;49m\u001B[43mlog_input\u001B[49m\u001B[43m(\u001B[49m\u001B[43mdataset\u001B[49m\u001B[43m,\u001B[49m\u001B[43m \u001B[49m\u001B[43mcontext\u001B[49m\u001B[38;5;241;43m=\u001B[39;49m\u001B[38;5;124;43m\"\u001B[39;49m\u001B[38;5;124;43mtesting\u001B[39;49m\u001B[38;5;124;43m\"\u001B[39;49m\u001B[43m,\u001B[49m\u001B[43m \u001B[49m\u001B[43mtags\u001B[49m\u001B[38;5;241;43m=\u001B[39;49m\u001B[43mdata_tags\u001B[49m\u001B[43m)\u001B[49m\n\u001B[0;32m     42\u001B[0m X_train, X_test, y_train, y_test \u001B[38;5;241m=\u001B[39m train_test_split(X, y, test_size\u001B[38;5;241m=\u001B[39m\u001B[38;5;241m0.2\u001B[39m, random_state\u001B[38;5;241m=\u001B[39m\u001B[38;5;241m0\u001B[39m)\n\u001B[0;32m     44\u001B[0m \u001B[38;5;66;03m# Set and Log experiment's params\u001B[39;00m\n",
      "File \u001B[1;32m~\\PycharmProjects\\Projet Emma\\.venv\\Lib\\site-packages\\mlflow\\tracking\\fluent.py:948\u001B[0m, in \u001B[0;36mlog_input\u001B[1;34m(dataset, context, tags)\u001B[0m\n\u001B[0;32m    945\u001B[0m \u001B[38;5;28;01mif\u001B[39;00m context:\n\u001B[0;32m    946\u001B[0m     tags_to_log\u001B[38;5;241m.\u001B[39mappend(InputTag(key\u001B[38;5;241m=\u001B[39mMLFLOW_DATASET_CONTEXT, value\u001B[38;5;241m=\u001B[39mcontext))\n\u001B[1;32m--> 948\u001B[0m dataset_input \u001B[38;5;241m=\u001B[39m DatasetInput(dataset\u001B[38;5;241m=\u001B[39m\u001B[43mdataset\u001B[49m\u001B[38;5;241;43m.\u001B[39;49m\u001B[43m_to_mlflow_entity\u001B[49m\u001B[43m(\u001B[49m\u001B[43m)\u001B[49m, tags\u001B[38;5;241m=\u001B[39mtags_to_log)\n\u001B[0;32m    950\u001B[0m MlflowClient()\u001B[38;5;241m.\u001B[39mlog_inputs(run_id\u001B[38;5;241m=\u001B[39mrun_id, datasets\u001B[38;5;241m=\u001B[39m[dataset_input])\n",
      "File \u001B[1;32m~\\PycharmProjects\\Projet Emma\\.venv\\Lib\\site-packages\\mlflow\\data\\dataset.py:116\u001B[0m, in \u001B[0;36mDataset._to_mlflow_entity\u001B[1;34m(self)\u001B[0m\n\u001B[0;32m    111\u001B[0m \u001B[38;5;28;01mdef\u001B[39;00m \u001B[38;5;21m_to_mlflow_entity\u001B[39m(\u001B[38;5;28mself\u001B[39m) \u001B[38;5;241m-\u001B[39m\u001B[38;5;241m>\u001B[39m DatasetEntity:\n\u001B[0;32m    112\u001B[0m \u001B[38;5;250m    \u001B[39m\u001B[38;5;124;03m\"\"\"\u001B[39;00m\n\u001B[0;32m    113\u001B[0m \u001B[38;5;124;03m    Returns:\u001B[39;00m\n\u001B[0;32m    114\u001B[0m \u001B[38;5;124;03m        A `mlflow.entities.Dataset` instance representing the dataset.\u001B[39;00m\n\u001B[0;32m    115\u001B[0m \u001B[38;5;124;03m    \"\"\"\u001B[39;00m\n\u001B[1;32m--> 116\u001B[0m     dataset_json \u001B[38;5;241m=\u001B[39m json\u001B[38;5;241m.\u001B[39mloads(\u001B[38;5;28;43mself\u001B[39;49m\u001B[38;5;241;43m.\u001B[39;49m\u001B[43mto_json\u001B[49m\u001B[43m(\u001B[49m\u001B[43m)\u001B[49m)\n\u001B[0;32m    117\u001B[0m     \u001B[38;5;28;01mreturn\u001B[39;00m DatasetEntity(\n\u001B[0;32m    118\u001B[0m         name\u001B[38;5;241m=\u001B[39mdataset_json[\u001B[38;5;124m\"\u001B[39m\u001B[38;5;124mname\u001B[39m\u001B[38;5;124m\"\u001B[39m],\n\u001B[0;32m    119\u001B[0m         digest\u001B[38;5;241m=\u001B[39mdataset_json[\u001B[38;5;124m\"\u001B[39m\u001B[38;5;124mdigest\u001B[39m\u001B[38;5;124m\"\u001B[39m],\n\u001B[1;32m   (...)\u001B[0m\n\u001B[0;32m    123\u001B[0m         profile\u001B[38;5;241m=\u001B[39mdataset_json\u001B[38;5;241m.\u001B[39mget(\u001B[38;5;124m\"\u001B[39m\u001B[38;5;124mprofile\u001B[39m\u001B[38;5;124m\"\u001B[39m),\n\u001B[0;32m    124\u001B[0m     )\n",
      "File \u001B[1;32m~\\PycharmProjects\\Projet Emma\\.venv\\Lib\\site-packages\\mlflow\\data\\dataset.py:66\u001B[0m, in \u001B[0;36mDataset.to_json\u001B[1;34m(self)\u001B[0m\n\u001B[0;32m     57\u001B[0m \u001B[38;5;28;01mdef\u001B[39;00m \u001B[38;5;21mto_json\u001B[39m(\u001B[38;5;28mself\u001B[39m) \u001B[38;5;241m-\u001B[39m\u001B[38;5;241m>\u001B[39m \u001B[38;5;28mstr\u001B[39m:\n\u001B[0;32m     58\u001B[0m \u001B[38;5;250m    \u001B[39m\u001B[38;5;124;03m\"\"\"\u001B[39;00m\n\u001B[0;32m     59\u001B[0m \u001B[38;5;124;03m    Obtains a JSON string representation of the :py:class:`Dataset\u001B[39;00m\n\u001B[0;32m     60\u001B[0m \u001B[38;5;124;03m    <mlflow.data.dataset.Dataset>`.\u001B[39;00m\n\u001B[1;32m   (...)\u001B[0m\n\u001B[0;32m     63\u001B[0m \u001B[38;5;124;03m        A JSON string representation of the :py:class:`Dataset <mlflow.data.dataset.Dataset>`.\u001B[39;00m\n\u001B[0;32m     64\u001B[0m \u001B[38;5;124;03m    \"\"\"\u001B[39;00m\n\u001B[1;32m---> 66\u001B[0m     \u001B[38;5;28;01mreturn\u001B[39;00m json\u001B[38;5;241m.\u001B[39mdumps(\u001B[38;5;28;43mself\u001B[39;49m\u001B[38;5;241;43m.\u001B[39;49m\u001B[43mto_dict\u001B[49m\u001B[43m(\u001B[49m\u001B[43m)\u001B[49m)\n",
      "File \u001B[1;32m~\\PycharmProjects\\Projet Emma\\.venv\\Lib\\site-packages\\mlflow\\data\\pandas_dataset.py:78\u001B[0m, in \u001B[0;36mPandasDataset.to_dict\u001B[1;34m(self)\u001B[0m\n\u001B[0;32m     72\u001B[0m \u001B[38;5;28;01mdef\u001B[39;00m \u001B[38;5;21mto_dict\u001B[39m(\u001B[38;5;28mself\u001B[39m) \u001B[38;5;241m-\u001B[39m\u001B[38;5;241m>\u001B[39m Dict[\u001B[38;5;28mstr\u001B[39m, \u001B[38;5;28mstr\u001B[39m]:\n\u001B[0;32m     73\u001B[0m \u001B[38;5;250m    \u001B[39m\u001B[38;5;124;03m\"\"\"Create config dictionary for the dataset.\u001B[39;00m\n\u001B[0;32m     74\u001B[0m \n\u001B[0;32m     75\u001B[0m \u001B[38;5;124;03m    Returns a string dictionary containing the following fields: name, digest, source, source\u001B[39;00m\n\u001B[0;32m     76\u001B[0m \u001B[38;5;124;03m    type, schema, and profile.\u001B[39;00m\n\u001B[0;32m     77\u001B[0m \u001B[38;5;124;03m    \"\"\"\u001B[39;00m\n\u001B[1;32m---> 78\u001B[0m     schema \u001B[38;5;241m=\u001B[39m json\u001B[38;5;241m.\u001B[39mdumps({\u001B[38;5;124m\"\u001B[39m\u001B[38;5;124mmlflow_colspec\u001B[39m\u001B[38;5;124m\"\u001B[39m: \u001B[38;5;28mself\u001B[39m\u001B[38;5;241m.\u001B[39mschema\u001B[38;5;241m.\u001B[39mto_dict()}) \u001B[38;5;28;01mif\u001B[39;00m \u001B[38;5;28;43mself\u001B[39;49m\u001B[38;5;241;43m.\u001B[39;49m\u001B[43mschema\u001B[49m \u001B[38;5;28;01melse\u001B[39;00m \u001B[38;5;28;01mNone\u001B[39;00m\n\u001B[0;32m     79\u001B[0m     config \u001B[38;5;241m=\u001B[39m \u001B[38;5;28msuper\u001B[39m()\u001B[38;5;241m.\u001B[39mto_dict()\n\u001B[0;32m     80\u001B[0m     config\u001B[38;5;241m.\u001B[39mupdate(\n\u001B[0;32m     81\u001B[0m         {\n\u001B[0;32m     82\u001B[0m             \u001B[38;5;124m\"\u001B[39m\u001B[38;5;124mschema\u001B[39m\u001B[38;5;124m\"\u001B[39m: schema,\n\u001B[0;32m     83\u001B[0m             \u001B[38;5;124m\"\u001B[39m\u001B[38;5;124mprofile\u001B[39m\u001B[38;5;124m\"\u001B[39m: json\u001B[38;5;241m.\u001B[39mdumps(\u001B[38;5;28mself\u001B[39m\u001B[38;5;241m.\u001B[39mprofile),\n\u001B[0;32m     84\u001B[0m         }\n\u001B[0;32m     85\u001B[0m     )\n",
      "File \u001B[1;32m~\\AppData\\Local\\Programs\\Python\\Python312\\Lib\\functools.py:995\u001B[0m, in \u001B[0;36mcached_property.__get__\u001B[1;34m(self, instance, owner)\u001B[0m\n\u001B[0;32m    993\u001B[0m val \u001B[38;5;241m=\u001B[39m cache\u001B[38;5;241m.\u001B[39mget(\u001B[38;5;28mself\u001B[39m\u001B[38;5;241m.\u001B[39mattrname, _NOT_FOUND)\n\u001B[0;32m    994\u001B[0m \u001B[38;5;28;01mif\u001B[39;00m val \u001B[38;5;129;01mis\u001B[39;00m _NOT_FOUND:\n\u001B[1;32m--> 995\u001B[0m     val \u001B[38;5;241m=\u001B[39m \u001B[38;5;28;43mself\u001B[39;49m\u001B[38;5;241;43m.\u001B[39;49m\u001B[43mfunc\u001B[49m\u001B[43m(\u001B[49m\u001B[43minstance\u001B[49m\u001B[43m)\u001B[49m\n\u001B[0;32m    996\u001B[0m     \u001B[38;5;28;01mtry\u001B[39;00m:\n\u001B[0;32m    997\u001B[0m         cache[\u001B[38;5;28mself\u001B[39m\u001B[38;5;241m.\u001B[39mattrname] \u001B[38;5;241m=\u001B[39m val\n",
      "File \u001B[1;32m~\\PycharmProjects\\Projet Emma\\.venv\\Lib\\site-packages\\mlflow\\data\\pandas_dataset.py:133\u001B[0m, in \u001B[0;36mPandasDataset.schema\u001B[1;34m(self)\u001B[0m\n\u001B[0;32m    128\u001B[0m \u001B[38;5;250m\u001B[39m\u001B[38;5;124;03m\"\"\"\u001B[39;00m\n\u001B[0;32m    129\u001B[0m \u001B[38;5;124;03mAn instance of :py:class:`mlflow.types.Schema` representing the tabular dataset. May be\u001B[39;00m\n\u001B[0;32m    130\u001B[0m \u001B[38;5;124;03m``None`` if the schema cannot be inferred from the dataset.\u001B[39;00m\n\u001B[0;32m    131\u001B[0m \u001B[38;5;124;03m\"\"\"\u001B[39;00m\n\u001B[0;32m    132\u001B[0m \u001B[38;5;28;01mtry\u001B[39;00m:\n\u001B[1;32m--> 133\u001B[0m     \u001B[38;5;28;01mreturn\u001B[39;00m \u001B[43m_infer_schema\u001B[49m\u001B[43m(\u001B[49m\u001B[38;5;28;43mself\u001B[39;49m\u001B[38;5;241;43m.\u001B[39;49m\u001B[43m_df\u001B[49m\u001B[43m)\u001B[49m\n\u001B[0;32m    134\u001B[0m \u001B[38;5;28;01mexcept\u001B[39;00m \u001B[38;5;167;01mException\u001B[39;00m \u001B[38;5;28;01mas\u001B[39;00m e:\n\u001B[0;32m    135\u001B[0m     _logger\u001B[38;5;241m.\u001B[39mwarning(\u001B[38;5;124m\"\u001B[39m\u001B[38;5;124mFailed to infer schema for Pandas dataset. Exception: \u001B[39m\u001B[38;5;132;01m%s\u001B[39;00m\u001B[38;5;124m\"\u001B[39m, e)\n",
      "File \u001B[1;32m~\\PycharmProjects\\Projet Emma\\.venv\\Lib\\site-packages\\mlflow\\types\\utils.py:329\u001B[0m, in \u001B[0;36m_infer_schema\u001B[1;34m(data)\u001B[0m\n\u001B[0;32m    324\u001B[0m \u001B[38;5;66;03m# pandas.DataFrame\u001B[39;00m\n\u001B[0;32m    325\u001B[0m \u001B[38;5;28;01melif\u001B[39;00m \u001B[38;5;28misinstance\u001B[39m(data, pd\u001B[38;5;241m.\u001B[39mDataFrame):\n\u001B[0;32m    326\u001B[0m     schema \u001B[38;5;241m=\u001B[39m Schema(\n\u001B[0;32m    327\u001B[0m         [\n\u001B[0;32m    328\u001B[0m             ColSpec(\n\u001B[1;32m--> 329\u001B[0m                 \u001B[38;5;28mtype\u001B[39m\u001B[38;5;241m=\u001B[39m\u001B[43m_infer_pandas_column\u001B[49m\u001B[43m(\u001B[49m\u001B[43mdata\u001B[49m\u001B[43m[\u001B[49m\u001B[43mcol\u001B[49m\u001B[43m]\u001B[49m\u001B[43m)\u001B[49m,\n\u001B[0;32m    330\u001B[0m                 name\u001B[38;5;241m=\u001B[39mcol,\n\u001B[0;32m    331\u001B[0m                 required\u001B[38;5;241m=\u001B[39m_infer_required(data[col]),\n\u001B[0;32m    332\u001B[0m             )\n\u001B[0;32m    333\u001B[0m             \u001B[38;5;28;01mfor\u001B[39;00m col \u001B[38;5;129;01min\u001B[39;00m data\u001B[38;5;241m.\u001B[39mcolumns\n\u001B[0;32m    334\u001B[0m         ]\n\u001B[0;32m    335\u001B[0m     )\n\u001B[0;32m    336\u001B[0m \u001B[38;5;66;03m# numpy.ndarray\u001B[39;00m\n\u001B[0;32m    337\u001B[0m \u001B[38;5;28;01melif\u001B[39;00m \u001B[38;5;28misinstance\u001B[39m(data, np\u001B[38;5;241m.\u001B[39mndarray):\n",
      "File \u001B[1;32m~\\PycharmProjects\\Projet Emma\\.venv\\Lib\\site-packages\\mlflow\\types\\utils.py:472\u001B[0m, in \u001B[0;36m_infer_pandas_column\u001B[1;34m(col)\u001B[0m\n\u001B[0;32m    468\u001B[0m \u001B[38;5;28;01mif\u001B[39;00m col\u001B[38;5;241m.\u001B[39mdtype\u001B[38;5;241m.\u001B[39mkind \u001B[38;5;241m==\u001B[39m \u001B[38;5;124m\"\u001B[39m\u001B[38;5;124mO\u001B[39m\u001B[38;5;124m\"\u001B[39m:\n\u001B[0;32m    469\u001B[0m     \u001B[38;5;28;01mtry\u001B[39;00m:\n\u001B[0;32m    470\u001B[0m         \u001B[38;5;66;03m# We convert pandas Series into list and infer the schema.\u001B[39;00m\n\u001B[0;32m    471\u001B[0m         \u001B[38;5;66;03m# The real schema for internal field should be the Array's dtype\u001B[39;00m\n\u001B[1;32m--> 472\u001B[0m         arr_type \u001B[38;5;241m=\u001B[39m \u001B[43m_infer_colspec_type\u001B[49m\u001B[43m(\u001B[49m\u001B[43mcol\u001B[49m\u001B[38;5;241;43m.\u001B[39;49m\u001B[43mto_list\u001B[49m\u001B[43m(\u001B[49m\u001B[43m)\u001B[49m\u001B[43m)\u001B[49m\n\u001B[0;32m    473\u001B[0m         \u001B[38;5;28;01mreturn\u001B[39;00m arr_type\u001B[38;5;241m.\u001B[39mdtype\n\u001B[0;32m    474\u001B[0m     \u001B[38;5;28;01mexcept\u001B[39;00m \u001B[38;5;167;01mException\u001B[39;00m \u001B[38;5;28;01mas\u001B[39;00m e:\n\u001B[0;32m    475\u001B[0m         \u001B[38;5;66;03m# For backwards compatibility, we fall back to string\u001B[39;00m\n\u001B[0;32m    476\u001B[0m         \u001B[38;5;66;03m# if the provided array is of string type\u001B[39;00m\n\u001B[0;32m    477\u001B[0m         \u001B[38;5;66;03m# This is for diviner test where df field is ('key2', 'key1', 'key0')\u001B[39;00m\n",
      "File \u001B[1;32m~\\PycharmProjects\\Projet Emma\\.venv\\Lib\\site-packages\\mlflow\\types\\utils.py:97\u001B[0m, in \u001B[0;36m_infer_colspec_type\u001B[1;34m(data)\u001B[0m\n\u001B[0;32m     87\u001B[0m \u001B[38;5;28;01mdef\u001B[39;00m \u001B[38;5;21m_infer_colspec_type\u001B[39m(data: Any) \u001B[38;5;241m-\u001B[39m\u001B[38;5;241m>\u001B[39m Union[DataType, Array, Object]:\n\u001B[0;32m     88\u001B[0m \u001B[38;5;250m    \u001B[39m\u001B[38;5;124;03m\"\"\"\u001B[39;00m\n\u001B[0;32m     89\u001B[0m \u001B[38;5;124;03m    Infer an MLflow Colspec type from the dataset.\u001B[39;00m\n\u001B[0;32m     90\u001B[0m \n\u001B[1;32m   (...)\u001B[0m\n\u001B[0;32m     95\u001B[0m \u001B[38;5;124;03m        Object\u001B[39;00m\n\u001B[0;32m     96\u001B[0m \u001B[38;5;124;03m    \"\"\"\u001B[39;00m\n\u001B[1;32m---> 97\u001B[0m     dtype \u001B[38;5;241m=\u001B[39m \u001B[43m_infer_datatype\u001B[49m\u001B[43m(\u001B[49m\u001B[43mdata\u001B[49m\u001B[43m)\u001B[49m\n\u001B[0;32m     99\u001B[0m     \u001B[38;5;66;03m# Currently only input that gives None is nested list whose items are all empty e.g. [[], []],\u001B[39;00m\n\u001B[0;32m    100\u001B[0m     \u001B[38;5;66;03m# because flat empty list [] has special handlign logic in _infer_schema\u001B[39;00m\n\u001B[0;32m    101\u001B[0m     \u001B[38;5;28;01mif\u001B[39;00m dtype \u001B[38;5;129;01mis\u001B[39;00m \u001B[38;5;28;01mNone\u001B[39;00m:\n",
      "File \u001B[1;32m~\\PycharmProjects\\Projet Emma\\.venv\\Lib\\site-packages\\mlflow\\types\\utils.py:120\u001B[0m, in \u001B[0;36m_infer_datatype\u001B[1;34m(data)\u001B[0m\n\u001B[0;32m    117\u001B[0m     \u001B[38;5;28;01mreturn\u001B[39;00m Object(properties\u001B[38;5;241m=\u001B[39mproperties)\n\u001B[0;32m    119\u001B[0m \u001B[38;5;28;01mif\u001B[39;00m \u001B[38;5;28misinstance\u001B[39m(data, (\u001B[38;5;28mlist\u001B[39m, np\u001B[38;5;241m.\u001B[39mndarray)):\n\u001B[1;32m--> 120\u001B[0m     \u001B[38;5;28;01mreturn\u001B[39;00m \u001B[43m_infer_array_datatype\u001B[49m\u001B[43m(\u001B[49m\u001B[43mdata\u001B[49m\u001B[43m)\u001B[49m\n\u001B[0;32m    122\u001B[0m \u001B[38;5;28;01mreturn\u001B[39;00m _infer_scalar_datatype(data)\n",
      "File \u001B[1;32m~\\PycharmProjects\\Projet Emma\\.venv\\Lib\\site-packages\\mlflow\\types\\utils.py:149\u001B[0m, in \u001B[0;36m_infer_array_datatype\u001B[1;34m(data)\u001B[0m\n\u001B[0;32m    146\u001B[0m \u001B[38;5;28;01mif\u001B[39;00m _is_none_or_nan(item):\n\u001B[0;32m    147\u001B[0m     \u001B[38;5;28;01mcontinue\u001B[39;00m\n\u001B[1;32m--> 149\u001B[0m dtype \u001B[38;5;241m=\u001B[39m \u001B[43m_infer_datatype\u001B[49m\u001B[43m(\u001B[49m\u001B[43mitem\u001B[49m\u001B[43m)\u001B[49m\n\u001B[0;32m    151\u001B[0m \u001B[38;5;66;03m# Skip item with undetermined type\u001B[39;00m\n\u001B[0;32m    152\u001B[0m \u001B[38;5;28;01mif\u001B[39;00m dtype \u001B[38;5;129;01mis\u001B[39;00m \u001B[38;5;28;01mNone\u001B[39;00m:\n",
      "File \u001B[1;32m~\\PycharmProjects\\Projet Emma\\.venv\\Lib\\site-packages\\mlflow\\types\\utils.py:122\u001B[0m, in \u001B[0;36m_infer_datatype\u001B[1;34m(data)\u001B[0m\n\u001B[0;32m    119\u001B[0m \u001B[38;5;28;01mif\u001B[39;00m \u001B[38;5;28misinstance\u001B[39m(data, (\u001B[38;5;28mlist\u001B[39m, np\u001B[38;5;241m.\u001B[39mndarray)):\n\u001B[0;32m    120\u001B[0m     \u001B[38;5;28;01mreturn\u001B[39;00m _infer_array_datatype(data)\n\u001B[1;32m--> 122\u001B[0m \u001B[38;5;28;01mreturn\u001B[39;00m \u001B[43m_infer_scalar_datatype\u001B[49m\u001B[43m(\u001B[49m\u001B[43mdata\u001B[49m\u001B[43m)\u001B[49m\n",
      "File \u001B[1;32m~\\PycharmProjects\\Projet Emma\\.venv\\Lib\\site-packages\\mlflow\\types\\utils.py:191\u001B[0m, in \u001B[0;36m_infer_scalar_datatype\u001B[1;34m(data)\u001B[0m\n\u001B[0;32m    189\u001B[0m \u001B[38;5;28;01mif\u001B[39;00m DataType\u001B[38;5;241m.\u001B[39mis_float(data):\n\u001B[0;32m    190\u001B[0m     \u001B[38;5;28;01mreturn\u001B[39;00m DataType\u001B[38;5;241m.\u001B[39mfloat\n\u001B[1;32m--> 191\u001B[0m \u001B[38;5;28;01mif\u001B[39;00m \u001B[43mDataType\u001B[49m\u001B[38;5;241;43m.\u001B[39;49m\u001B[43mis_string\u001B[49m\u001B[43m(\u001B[49m\u001B[43mdata\u001B[49m\u001B[43m)\u001B[49m:\n\u001B[0;32m    192\u001B[0m     \u001B[38;5;28;01mreturn\u001B[39;00m DataType\u001B[38;5;241m.\u001B[39mstring\n\u001B[0;32m    193\u001B[0m \u001B[38;5;28;01mif\u001B[39;00m DataType\u001B[38;5;241m.\u001B[39mis_binary(data):\n",
      "File \u001B[1;32m~\\PycharmProjects\\Projet Emma\\.venv\\Lib\\site-packages\\mlflow\\types\\schema.py:103\u001B[0m, in \u001B[0;36mDataType.is_string\u001B[1;34m(cls, value)\u001B[0m\n\u001B[0;32m    101\u001B[0m \u001B[38;5;129m@classmethod\u001B[39m\n\u001B[0;32m    102\u001B[0m \u001B[38;5;28;01mdef\u001B[39;00m \u001B[38;5;21mis_string\u001B[39m(\u001B[38;5;28mcls\u001B[39m, value):\n\u001B[1;32m--> 103\u001B[0m     \u001B[38;5;28;01mreturn\u001B[39;00m \u001B[38;5;28mtype\u001B[39m(value) \u001B[38;5;129;01min\u001B[39;00m \u001B[43mDataType\u001B[49m\u001B[38;5;241;43m.\u001B[39;49m\u001B[43mstring\u001B[49m\u001B[38;5;241;43m.\u001B[39;49m\u001B[43mget_all_types\u001B[49m\u001B[43m(\u001B[49m\u001B[43m)\u001B[49m\n",
      "File \u001B[1;32m~\\PycharmProjects\\Projet Emma\\.venv\\Lib\\site-packages\\mlflow\\types\\schema.py:115\u001B[0m, in \u001B[0;36mDataType.get_all_types\u001B[1;34m(self)\u001B[0m\n\u001B[0;32m    113\u001B[0m \u001B[38;5;28;01mdef\u001B[39;00m \u001B[38;5;21mget_all_types\u001B[39m(\u001B[38;5;28mself\u001B[39m):\n\u001B[0;32m    114\u001B[0m     types \u001B[38;5;241m=\u001B[39m [\u001B[38;5;28mself\u001B[39m\u001B[38;5;241m.\u001B[39mto_numpy(), \u001B[38;5;28mself\u001B[39m\u001B[38;5;241m.\u001B[39mto_pandas(), \u001B[38;5;28mself\u001B[39m\u001B[38;5;241m.\u001B[39mto_python()]\n\u001B[1;32m--> 115\u001B[0m     \u001B[38;5;28;01mif\u001B[39;00m \u001B[43mimportlib\u001B[49m\u001B[38;5;241;43m.\u001B[39;49m\u001B[43mutil\u001B[49m\u001B[38;5;241;43m.\u001B[39;49m\u001B[43mfind_spec\u001B[49m\u001B[43m(\u001B[49m\u001B[38;5;124;43m\"\u001B[39;49m\u001B[38;5;124;43mpyspark\u001B[39;49m\u001B[38;5;124;43m\"\u001B[39;49m\u001B[43m)\u001B[49m \u001B[38;5;129;01mis\u001B[39;00m \u001B[38;5;129;01mnot\u001B[39;00m \u001B[38;5;28;01mNone\u001B[39;00m:\n\u001B[0;32m    116\u001B[0m         types\u001B[38;5;241m.\u001B[39mappend(\u001B[38;5;28mself\u001B[39m\u001B[38;5;241m.\u001B[39mto_spark())\n\u001B[0;32m    117\u001B[0m     \u001B[38;5;28;01mif\u001B[39;00m \u001B[38;5;28mself\u001B[39m\u001B[38;5;241m.\u001B[39mname \u001B[38;5;241m==\u001B[39m \u001B[38;5;124m\"\u001B[39m\u001B[38;5;124mdatetime\u001B[39m\u001B[38;5;124m\"\u001B[39m:\n",
      "File \u001B[1;32m<frozen importlib.util>:101\u001B[0m, in \u001B[0;36mfind_spec\u001B[1;34m(name, package)\u001B[0m\n",
      "File \u001B[1;32m<frozen importlib._bootstrap>:1262\u001B[0m, in \u001B[0;36m_find_spec\u001B[1;34m(name, path, target)\u001B[0m\n",
      "File \u001B[1;32m<frozen importlib._bootstrap_external>:1528\u001B[0m, in \u001B[0;36mfind_spec\u001B[1;34m(cls, fullname, path, target)\u001B[0m\n",
      "File \u001B[1;32m<frozen importlib._bootstrap_external>:1502\u001B[0m, in \u001B[0;36m_get_spec\u001B[1;34m(cls, fullname, path, target)\u001B[0m\n",
      "File \u001B[1;32m<frozen importlib._bootstrap_external>:1601\u001B[0m, in \u001B[0;36mfind_spec\u001B[1;34m(self, fullname, target)\u001B[0m\n",
      "File \u001B[1;32m<frozen importlib._bootstrap_external>:147\u001B[0m, in \u001B[0;36m_path_stat\u001B[1;34m(path)\u001B[0m\n",
      "\u001B[1;31mKeyboardInterrupt\u001B[0m: "
     ]
    }
   ],
   "source": [
    "LogisticClassification.run_experiment()"
   ],
   "metadata": {
    "collapsed": false,
    "ExecuteTime": {
     "start_time": "2024-05-03T14:06:24.855432700Z"
    }
   },
   "execution_count": 36
  },
  {
   "cell_type": "code",
   "outputs": [],
   "source": [
    "import os"
   ],
   "metadata": {
    "collapsed": false,
    "ExecuteTime": {
     "end_time": "2024-05-28T09:04:13.579894700Z",
     "start_time": "2024-05-28T09:04:13.526846400Z"
    }
   },
   "execution_count": 50
  },
  {
   "cell_type": "code",
   "outputs": [
    {
     "data": {
      "text/plain": "'13'"
     },
     "execution_count": 55,
     "metadata": {},
     "output_type": "execute_result"
    }
   ],
   "source": [
    "\"%B%13\".split(\"%\")[-1]"
   ],
   "metadata": {
    "collapsed": false,
    "ExecuteTime": {
     "end_time": "2024-05-28T10:07:50.613689500Z",
     "start_time": "2024-05-28T10:07:50.522176600Z"
    }
   },
   "execution_count": 55
  },
  {
   "cell_type": "code",
   "outputs": [],
   "source": [
    "df = pd.read_csv(f\"{ROOT_DIRECTORY}Data/V3/Processed/data_train.csv\")\n",
    "\n"
   ],
   "metadata": {
    "collapsed": false,
    "ExecuteTime": {
     "end_time": "2024-05-29T15:35:54.850364700Z",
     "start_time": "2024-05-29T15:35:54.800366100Z"
    }
   },
   "execution_count": null
  },
  {
   "cell_type": "code",
   "outputs": [],
   "source": [
    "import mlflow.data.dataset\n",
    "import mlflow\n",
    "import mlflow.data\n",
    "from mlflow.data.pandas_dataset import PandasDataset\n",
    "import pandas as pd\n",
    "import seaborn as sns\n",
    "import matplotlib.pyplot as plt\n",
    "from sklearn.linear_model import LogisticRegression\n",
    "from sklearn.metrics import classification_report, confusion_matrix, accuracy_score, classification_report\n",
    "from sklearn.model_selection import train_test_split\n",
    "\n",
    "from Code.utils import Utils, MlFlowUtils\n",
    "from Code.globals import ROOT_DIRECTORY, EXPERIMENTER, TMP_DIRECTORY\n",
    "\n",
    "\n",
    "\n",
    "money_columns = [\n",
    "    'C_DSA',\n",
    "    'PARTIC_MT_REVENU_EURO',\n",
    "    'PARTIC_MT_AUTRE_REVENU_EURO',\n",
    "    'PARTIC_MT_CHARGES_EURO',\n",
    "    'PARTIC_MT_AUTRES_CREDITS_EURO',\n",
    "    'VAL_APPORT_TTC_EURO',\n",
    "    'VAL_PL_TTC_EURO',\n",
    "    'CT_AM_FIN_AMOUNT_EURO',\n",
    "    'MT_MENS',\n",
    "    'ASSUR',\n",
    "    'VAL_CATALOGUE_TTC_EURO',\n",
    "    'VAL_OPTION_TTC_EURO',\n",
    "    'VAL_ACC_REM_TTC_EURO',\n",
    "    'VAL_VR_TTC_EURO'\n",
    "]\n",
    "\n",
    "X = df[money_columns]\n",
    "y = df[\"Renouvelant\"]"
   ],
   "metadata": {
    "collapsed": false,
    "ExecuteTime": {
     "end_time": "2024-05-29T15:35:56.602366200Z",
     "start_time": "2024-05-29T15:35:56.498365600Z"
    }
   }
  },
  {
   "cell_type": "code",
   "outputs": [
    {
     "name": "stdout",
     "output_type": "stream",
     "text": [
      "Confusion matrix\n",
      "\n",
      " [[16263    99]\n",
      " [ 9352    91]]\n",
      "\n",
      "True Positives(TP) =  16263\n",
      "\n",
      "True Negatives(TN) =  91\n",
      "\n",
      "False Positives(FP) =  99\n",
      "\n",
      "False Negatives(FN) =  9352\n",
      "First execution successful\n"
     ]
    },
    {
     "data": {
      "text/plain": "<Figure size 640x480 with 2 Axes>",
      "image/png": "[encoded data removed]"
     },
     "metadata": {},
     "output_type": "display_data"
    }
   ],
   "source": [
    "import mlflow.data.dataset\n",
    "import mlflow\n",
    "import mlflow.data\n",
    "from mlflow.data.pandas_dataset import PandasDataset\n",
    "import pandas as pd\n",
    "import seaborn as sns\n",
    "import matplotlib.pyplot as plt\n",
    "from sklearn.linear_model import LogisticRegression\n",
    "from sklearn.metrics import classification_report, confusion_matrix, accuracy_score, f1_score\n",
    "from sklearn.model_selection import train_test_split\n",
    "\n",
    "from Code.utils import Utils, MlFlowUtils\n",
    "from Code.globals import ROOT_DIRECTORY, EXPERIMENTER, TMP_DIRECTORY\n",
    "\n",
    "\n",
    "\n",
    "\n",
    "\n",
    "class LogisticClassification:\n",
    "    @staticmethod\n",
    "    def run_experiment():\n",
    "        experiment_tags = {\n",
    "            \"experimenter\": \"Ulrich KAM\",\n",
    "            \"experiment version\": 1.0,\n",
    "            \"data version\": 2.1}\n",
    "        experiment = MlFlowUtils.create_or_get_experiment(experiment_name=\"Logistic Regression\")\n",
    "\n",
    "        # Get experiment's Data\n",
    "        money_columns = [\n",
    "            'C_DSA',\n",
    "            'PARTIC_MT_REVENU_EURO',\n",
    "            'PARTIC_MT_AUTRE_REVENU_EURO',\n",
    "            'PARTIC_MT_CHARGES_EURO',\n",
    "            'PARTIC_MT_AUTRES_CREDITS_EURO',\n",
    "            'VAL_APPORT_TTC_EURO',\n",
    "            'VAL_PL_TTC_EURO',\n",
    "            'CT_AM_FIN_AMOUNT_EURO',\n",
    "            'MT_MENS',\n",
    "            'ASSUR',\n",
    "            'VAL_CATALOGUE_TTC_EURO',\n",
    "            'VAL_OPTION_TTC_EURO',\n",
    "            'VAL_ACC_REM_TTC_EURO',\n",
    "            'VAL_VR_TTC_EURO'\n",
    "        ]\n",
    "        \n",
    "        df = pd.read_csv(f\"{ROOT_DIRECTORY}Data/V3/Processed/data_train.csv\", low_memory=False)\n",
    "        X = df[money_columns]\n",
    "        y = df[\"Renouvelant\"]\n",
    "\n",
    "\n",
    "        # Train model\n",
    "        with mlflow.start_run(experiment_id=experiment.experiment_id, tags=experiment_tags):\n",
    "            # Set experiment tags\n",
    "            mlflow.set_experiment_tags(experiment_tags)\n",
    "\n",
    "            # Log experiment's dataset\n",
    "            data_tags = {\"version\": \"1.0.0\"}\n",
    "\n",
    "            X_train, X_test, y_train, y_test = train_test_split(X, y, test_size=0.2, random_state=0)\n",
    "\n",
    "            # Set and Log experiment's params\n",
    "            params = {\n",
    "                \"penalty\": \"l2\",\n",
    "                \"max_iter\": 200,\n",
    "                \"solver\": 'liblinear',\n",
    "            }\n",
    "            mlflow.log_params(params)\n",
    "\n",
    "            model = LogisticRegression(\n",
    "                penalty=params[\"penalty\"],\n",
    "                max_iter=params[\"max_iter\"],\n",
    "                solver=params[\"solver\"],\n",
    "            )\n",
    "\n",
    "            # Train the model\n",
    "            model.fit(X_train, y_train)\n",
    "            y_pred_test = model.predict(X_test)\n",
    "\n",
    "            mlflow.log_metric(key=\"Accuracy\", value=accuracy_score(y_test, y_pred_test))\n",
    "            mlflow.log_metric(key=\"Accuracy\", value=f1_score(y_test, y_pred_test))\n",
    "            \n",
    "\n",
    "            cm = confusion_matrix(y_test, y_pred_test)\n",
    "            print('Confusion matrix\\n\\n', cm)\n",
    "            print('\\nTrue Positives(TP) = ', cm[0, 0])\n",
    "            print('\\nTrue Negatives(TN) = ', cm[1, 1])\n",
    "            print('\\nFalse Positives(FP) = ', cm[0, 1])\n",
    "            print('\\nFalse Negatives(FN) = ', cm[1, 0])\n",
    "\n",
    "            plt.figure()\n",
    "\n",
    "            cm_matrix = pd.DataFrame(data=cm, columns=['Actual Positive:1', 'Actual Negative:0'],\n",
    "                                     index=['Predict Positive:1', 'Predict Negative:0'])\n",
    "\n",
    "            diagram = sns.heatmap(cm_matrix, annot=True, fmt='d', cmap='YlGnBu')\n",
    "            diagram.figure.savefig(TMP_DIRECTORY + f\"/Logistic regression Confusion Matrix.png\")\n",
    "            # if log_artefacts:\n",
    "            #mlflow.log_artifact(TMP_DIRECTORY + f\"/Logistic regression Confusion Matrix.png\",\n",
    "                                #artifact_path=f\"Logistic classification confusion matrix\")\n",
    "\n",
    "            #mlflow.log_metrics(classification_report(y_test, y_pred_test))\n",
    "        print(\"First execution successful\")\n",
    "        \n",
    "LogisticClassification.run_experiment()"
   ],
   "metadata": {
    "collapsed": false,
    "ExecuteTime": {
     "end_time": "2024-05-30T08:08:01.335136800Z",
     "start_time": "2024-05-30T08:07:58.137916800Z"
    }
   },
   "execution_count": 6
  },
  {
   "cell_type": "code",
   "outputs": [
    {
     "name": "stdout",
     "output_type": "stream",
     "text": [
      "test\n"
     ]
    }
   ],
   "source": [],
   "metadata": {
    "collapsed": false,
    "ExecuteTime": {
     "end_time": "2024-05-30T07:37:38.160055200Z",
     "start_time": "2024-05-30T07:37:37.927731800Z"
    }
   },
   "execution_count": 1
  }
 ],
 "metadata": {
  "kernelspec": {
   "display_name": "Projet Emma",
   "language": "python",
   "name": "python3"
  },
  "language_info": {
   "codemirror_mode": {
    "name": "ipython",
    "version": 3
   },
   "file_extension": ".py",
   "mimetype": "text/x-python",
   "name": "python",
   "nbconvert_exporter": "python",
   "pygments_lexer": "ipython3",
   "version": "3.11.8"
  }
 },
 "nbformat": 4,
 "nbformat_minor": 2
}
